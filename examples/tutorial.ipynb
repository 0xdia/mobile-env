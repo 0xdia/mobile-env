{
 "cells": [
  {
   "cell_type": "markdown",
   "source": [
    "# mobile-env: An Open Environment for Autonomous Coordination in Mobile Networks\n",
    "\n",
    "This Google Colaboratory notebook gives an introduction on how to use *mobile-env*,\n",
    "which is an open environment for autonomous coordination in mobile networks.\n",
    "This notebook demonstrates how to train and evaluate different coordination approaches\n",
    "and how to use different reinforcement learning frameworks with mobile-env.\n",
    "\n",
    "First, we train a multi-agent policy with **RLlib**.\n",
    "\n",
    "Second, we train a central policy with **stable-baselines3**."
   ],
   "metadata": {
    "collapsed": false
   }
  },
  {
   "cell_type": "code",
   "execution_count": 15,
   "id": "bd4dee92-ee4a-42b3-a616-844800ddc662",
   "metadata": {},
   "outputs": [
    {
     "name": "stdout",
     "output_type": "stream",
     "text": [
      "Requirement already satisfied: mobile-env in c:\\users\\stefan\\git-repos\\work\\mobile-env (2.0.0.dev0)\n",
      "Requirement already satisfied: gym>=0.19.0 in c:\\users\\stefan\\git-repos\\work\\mobile-env\\venv\\lib\\site-packages (from mobile-env) (0.19.0)\n",
      "Requirement already satisfied: matplotlib==3.5.0 in c:\\users\\stefan\\git-repos\\work\\mobile-env\\venv\\lib\\site-packages (from mobile-env) (3.5.0)\n",
      "Requirement already satisfied: numpy==1.21.4 in c:\\users\\stefan\\git-repos\\work\\mobile-env\\venv\\lib\\site-packages (from mobile-env) (1.21.4)\n",
      "Requirement already satisfied: pygame==2.1.0 in c:\\users\\stefan\\git-repos\\work\\mobile-env\\venv\\lib\\site-packages (from mobile-env) (2.1.0)\n",
      "Requirement already satisfied: shapely==1.8.0 in c:\\users\\stefan\\git-repos\\work\\mobile-env\\venv\\lib\\site-packages (from mobile-env) (1.8.0)\n",
      "Requirement already satisfied: svgpath2mpl==1.0.0 in c:\\users\\stefan\\git-repos\\work\\mobile-env\\venv\\lib\\site-packages (from mobile-env) (1.0.0)\n",
      "Requirement already satisfied: cycler>=0.10 in c:\\users\\stefan\\git-repos\\work\\mobile-env\\venv\\lib\\site-packages (from matplotlib==3.5.0->mobile-env) (0.10.0)\n",
      "Requirement already satisfied: pyparsing>=2.2.1 in c:\\users\\stefan\\git-repos\\work\\mobile-env\\venv\\lib\\site-packages (from matplotlib==3.5.0->mobile-env) (2.4.7)\n",
      "Requirement already satisfied: python-dateutil>=2.7 in c:\\users\\stefan\\git-repos\\work\\mobile-env\\venv\\lib\\site-packages (from matplotlib==3.5.0->mobile-env) (2.8.1)\n",
      "Requirement already satisfied: kiwisolver>=1.0.1 in c:\\users\\stefan\\git-repos\\work\\mobile-env\\venv\\lib\\site-packages (from matplotlib==3.5.0->mobile-env) (1.3.1)\n",
      "Requirement already satisfied: fonttools>=4.22.0 in c:\\users\\stefan\\git-repos\\work\\mobile-env\\venv\\lib\\site-packages (from matplotlib==3.5.0->mobile-env) (4.28.1)\n",
      "Requirement already satisfied: pillow>=6.2.0 in c:\\users\\stefan\\git-repos\\work\\mobile-env\\venv\\lib\\site-packages (from matplotlib==3.5.0->mobile-env) (8.4.0)\n",
      "Requirement already satisfied: setuptools-scm>=4 in c:\\users\\stefan\\git-repos\\work\\mobile-env\\venv\\lib\\site-packages (from matplotlib==3.5.0->mobile-env) (6.3.2)\n",
      "Requirement already satisfied: packaging>=20.0 in c:\\users\\stefan\\git-repos\\work\\mobile-env\\venv\\lib\\site-packages (from matplotlib==3.5.0->mobile-env) (21.3)\n",
      "Requirement already satisfied: cloudpickle<1.7.0,>=1.2.0 in c:\\users\\stefan\\git-repos\\work\\mobile-env\\venv\\lib\\site-packages (from gym>=0.19.0->mobile-env) (1.6.0)\n",
      "Requirement already satisfied: six in c:\\users\\stefan\\git-repos\\work\\mobile-env\\venv\\lib\\site-packages (from cycler>=0.10->matplotlib==3.5.0->mobile-env) (1.15.0)\n",
      "Requirement already satisfied: tomli>=1.0.0 in c:\\users\\stefan\\git-repos\\work\\mobile-env\\venv\\lib\\site-packages (from setuptools-scm>=4->matplotlib==3.5.0->mobile-env) (1.2.2)\n",
      "Requirement already satisfied: setuptools in c:\\users\\stefan\\git-repos\\work\\mobile-env\\venv\\lib\\site-packages (from setuptools-scm>=4->matplotlib==3.5.0->mobile-env) (46.1.3)\n",
      "Requirement already satisfied: tensorboard in c:\\users\\stefan\\git-repos\\work\\mobile-env\\venv\\lib\\site-packages (2.7.0)\n",
      "Requirement already satisfied: wheel>=0.26 in c:\\users\\stefan\\git-repos\\work\\mobile-env\\venv\\lib\\site-packages (from tensorboard) (0.34.2)\n",
      "Requirement already satisfied: tensorboard-plugin-wit>=1.6.0 in c:\\users\\stefan\\git-repos\\work\\mobile-env\\venv\\lib\\site-packages (from tensorboard) (1.8.0)\n",
      "Requirement already satisfied: google-auth<3,>=1.6.3 in c:\\users\\stefan\\git-repos\\work\\mobile-env\\venv\\lib\\site-packages (from tensorboard) (2.3.3)\n",
      "Requirement already satisfied: numpy>=1.12.0 in c:\\users\\stefan\\git-repos\\work\\mobile-env\\venv\\lib\\site-packages (from tensorboard) (1.21.4)\n",
      "Requirement already satisfied: requests<3,>=2.21.0 in c:\\users\\stefan\\git-repos\\work\\mobile-env\\venv\\lib\\site-packages (from tensorboard) (2.26.0)\n",
      "Requirement already satisfied: google-auth-oauthlib<0.5,>=0.4.1 in c:\\users\\stefan\\git-repos\\work\\mobile-env\\venv\\lib\\site-packages (from tensorboard) (0.4.6)\n",
      "Requirement already satisfied: setuptools>=41.0.0 in c:\\users\\stefan\\git-repos\\work\\mobile-env\\venv\\lib\\site-packages (from tensorboard) (46.1.3)\n",
      "Requirement already satisfied: absl-py>=0.4 in c:\\users\\stefan\\git-repos\\work\\mobile-env\\venv\\lib\\site-packages (from tensorboard) (1.0.0)\n",
      "Requirement already satisfied: werkzeug>=0.11.15 in c:\\users\\stefan\\git-repos\\work\\mobile-env\\venv\\lib\\site-packages (from tensorboard) (2.0.2)\n",
      "Requirement already satisfied: grpcio>=1.24.3 in c:\\users\\stefan\\git-repos\\work\\mobile-env\\venv\\lib\\site-packages (from tensorboard) (1.42.0)\n",
      "Requirement already satisfied: protobuf>=3.6.0 in c:\\users\\stefan\\git-repos\\work\\mobile-env\\venv\\lib\\site-packages (from tensorboard) (3.19.1)\n",
      "Requirement already satisfied: tensorboard-data-server<0.7.0,>=0.6.0 in c:\\users\\stefan\\git-repos\\work\\mobile-env\\venv\\lib\\site-packages (from tensorboard) (0.6.1)\n",
      "Requirement already satisfied: markdown>=2.6.8 in c:\\users\\stefan\\git-repos\\work\\mobile-env\\venv\\lib\\site-packages (from tensorboard) (3.3.6)\n",
      "Requirement already satisfied: six in c:\\users\\stefan\\git-repos\\work\\mobile-env\\venv\\lib\\site-packages (from absl-py>=0.4->tensorboard) (1.15.0)\n",
      "Requirement already satisfied: cachetools<5.0,>=2.0.0 in c:\\users\\stefan\\git-repos\\work\\mobile-env\\venv\\lib\\site-packages (from google-auth<3,>=1.6.3->tensorboard) (4.2.4)\n",
      "The tensorboard extension is already loaded. To reload it, use:\n",
      "  %reload_extRequirement already satisfied: rsa<5,>=3.1.4 in c:\\users\\stefan\\git-repos\\work\\mobile-env\\venv\\lib\\site-packages (from google-auth<3,>=1.6.3->tensorboard) (4.8)\n",
      "Requirement already satisfied: pyasn1-modules>=0.2.1 in c:\\users\\stefan\\git-repos\\work\\mobile-env\\venv\\lib\\site-packages (from google-auth<3,>=1.6.3->tensorboard) (0.2.8) tensorboard\n",
      "\n",
      "Requirement already satisfied: requests-oauthlib>=0.7.0 in c:\\users\\stefan\\git-repos\\work\\mobile-env\\venv\\lib\\site-packages (from google-auth-oauthlib<0.5,>=0.4.1->tensorboard) (1.3.0)\n",
      "Requirement already satisfied: importlib-metadata>=4.4 in c:\\users\\stefan\\git-repos\\work\\mobile-env\\venv\\lib\\site-packages (from markdown>=2.6.8->tensorboard) (4.8.2)\n",
      "Requirement already satisfied: idna<4,>=2.5 in c:\\users\\stefan\\git-repos\\work\\mobile-env\\venv\\lib\\site-packages (from requests<3,>=2.21.0->tensorboard) (3.3)\n",
      "Requirement already satisfied: certifi>=2017.4.17 in c:\\users\\stefan\\git-repos\\work\\mobile-env\\venv\\lib\\site-packages (from requests<3,>=2.21.0->tensorboard) (2021.10.8)\n",
      "Requirement already satisfied: urllib3<1.27,>=1.21.1 in c:\\users\\stefan\\git-repos\\work\\mobile-env\\venv\\lib\\site-packages (from requests<3,>=2.21.0->tensorboard) (1.26.7)\n",
      "Requirement already satisfied: charset-normalizer~=2.0.0 in c:\\users\\stefan\\git-repos\\work\\mobile-env\\venv\\lib\\site-packages (from requests<3,>=2.21.0->tensorboard) (2.0.7)\n",
      "Requirement already satisfied: zipp>=0.5 in c:\\users\\stefan\\git-repos\\work\\mobile-env\\venv\\lib\\site-packages (from importlib-metadata>=4.4->markdown>=2.6.8->tensorboard) (3.6.0)\n",
      "Requirement already satisfied: pyasn1<0.5.0,>=0.4.6 in c:\\users\\stefan\\git-repos\\work\\mobile-env\\venv\\lib\\site-packages (from pyasn1-modules>=0.2.1->google-auth<3,>=1.6.3->tensorboard) (0.4.8)\n",
      "Requirement already satisfied: oauthlib>=3.0.0 in c:\\users\\stefan\\git-repos\\work\\mobile-env\\venv\\lib\\site-packages (from requests-oauthlib>=0.7.0->google-auth-oauthlib<0.5,>=0.4.1->tensorboard) (3.1.1)\n"
     ]
    }
   ],
   "source": [
    "# first install and import relevant dependencies\n",
    "!pip install mobile-env\n",
    "!pip install tensorboard\n",
    "\n",
    "import gym\n",
    "import mobile_env\n",
    "\n",
    "# Load the TensorBoard notebook extension\n",
    "%load_ext tensorboard\n"
   ]
  },
  {
   "cell_type": "markdown",
   "id": "413e1df5-1374-442a-ae6a-87303e05a746",
   "metadata": {},
   "source": [
    "## Multi-Agent Control with RLlib"
   ]
  },
  {
   "cell_type": "code",
   "execution_count": 16,
   "id": "226d3a42-5dbb-47c2-b3e2-6ff0731a1c56",
   "metadata": {},
   "outputs": [
    {
     "name": "stdout",
     "output_type": "stream",
     "text": [
      "Requirement already satisfied: ray[rllib] in c:\\users\\stefan\\git-repos\\work\\mobile-env\\venv\\lib\\site-packages (1.8.0)\n",
      "Requirement already satisfied: protobuf>=3.15.3 in c:\\users\\stefan\\git-repos\\work\\mobile-env\\venv\\lib\\site-packages (from ray[rllib]) (3.19.1)\n",
      "Requirement already satisfied: redis>=3.5.0 in c:\\users\\stefan\\git-repos\\work\\mobile-env\\venv\\lib\\site-packages (from ray[rllib]) (4.0.1)\n",
      "Requirement already satisfied: numpy>=1.16 in c:\\users\\stefan\\git-repos\\work\\mobile-env\\venv\\lib\\site-packages (from ray[rllib]) (1.21.4)\n",
      "Requirement already satisfied: pyyaml in c:\\users\\stefan\\git-repos\\work\\mobile-env\\venv\\lib\\site-packages (from ray[rllib]) (6.0)\n",
      "Requirement already satisfied: click>=7.0 in c:\\users\\stefan\\git-repos\\work\\mobile-env\\venv\\lib\\site-packages (from ray[rllib]) (8.0.3)\n",
      "Requirement already satisfied: attrs in c:\\users\\stefan\\git-repos\\work\\mobile-env\\venv\\lib\\site-packages (from ray[rllib]) (21.2.0)\n",
      "Requirement already satisfied: filelock in c:\\users\\stefan\\git-repos\\work\\mobile-env\\venv\\lib\\site-packages (from ray[rllib]) (3.4.0)\n",
      "Requirement already satisfied: grpcio>=1.28.1 in c:\\users\\stefan\\git-repos\\work\\mobile-env\\venv\\lib\\site-packages (from ray[rllib]) (1.42.0)\n",
      "Requirement already satisfied: msgpack<2.0.0,>=1.0.0 in c:\\users\\stefan\\git-repos\\work\\mobile-env\\venv\\lib\\site-packages (from ray[rllib]) (1.0.2)\n",
      "Requirement already satisfied: jsonschema in c:\\users\\stefan\\git-repos\\work\\mobile-env\\venv\\lib\\site-packages (from ray[rllib]) (4.2.1)\n",
      "Requirement already satisfied: dm-tree in c:\\users\\stefan\\git-repos\\work\\mobile-env\\venv\\lib\\site-packages (from ray[rllib]) (0.1.6)\n",
      "Requirement already satisfied: lz4 in c:\\users\\stefan\\git-repos\\work\\mobile-env\\venv\\lib\\site-packages (from ray[rllib]) (3.1.3)\n",
      "Requirement already satisfied: pandas in c:\\users\\stefan\\git-repos\\work\\mobile-env\\venv\\lib\\site-packages (from ray[rllib]) (1.2.3)\n",
      "Requirement already satisfied: tensorboardX>=1.9 in c:\\users\\stefan\\git-repos\\work\\mobile-env\\venv\\lib\\site-packages (from ray[rllib]) (2.4)\n",
      "Requirement already satisfied: matplotlib!=3.4.3 in c:\\users\\stefan\\git-repos\\work\\mobile-env\\venv\\lib\\site-packages (from ray[rllib]) (3.5.0)\n",
      "Requirement already satisfied: scikit-image in c:\\users\\stefan\\git-repos\\work\\mobile-env\\venv\\lib\\site-packages (from ray[rllib]) (0.18.3)\n",
      "Requirement already satisfied: scipy in c:\\users\\stefan\\git-repos\\work\\mobile-env\\venv\\lib\\site-packages (from ray[rllib]) (1.6.2)\n",
      "Requirement already satisfied: gym in c:\\users\\stefan\\git-repos\\work\\mobile-env\\venv\\lib\\site-packages (from ray[rllib]) (0.19.0)\n",
      "Requirement already satisfied: tabulate in c:\\users\\stefan\\git-repos\\work\\mobile-env\\venv\\lib\\site-packages (from ray[rllib]) (0.8.9)\n",
      "Requirement already satisfied: requests in c:\\users\\stefan\\git-repos\\work\\mobile-env\\venv\\lib\\site-packages (from ray[rllib]) (2.26.0)\n",
      "Requirement already satisfied: colorama in c:\\users\\stefan\\git-repos\\work\\mobile-env\\venv\\lib\\site-packages (from click>=7.0->ray[rllib]) (0.4.4)\n",
      "Requirement already satisfied: six>=1.5.2 in c:\\users\\stefan\\git-repos\\work\\mobile-env\\venv\\lib\\site-packages (from grpcio>=1.28.1->ray[rllib]) (1.15.0)\n",
      "Requirement already satisfied: pillow>=6.2.0 in c:\\users\\stefan\\git-repos\\work\\mobile-env\\venv\\lib\\site-packages (from matplotlib!=3.4.3->ray[rllib]) (8.4.0)\n",
      "Requirement already satisfied: packaging>=20.0 in c:\\users\\stefan\\git-repos\\work\\mobile-env\\venv\\lib\\site-packages (from matplotlib!=3.4.3->ray[rllib]) (21.3)\n",
      "Requirement already satisfied: fonttools>=4.22.0 in c:\\users\\stefan\\git-repos\\work\\mobile-env\\venv\\lib\\site-packages (from matplotlib!=3.4.3->ray[rllib]) (4.28.1)\n",
      "Requirement already satisfied: python-dateutil>=2.7 in c:\\users\\stefan\\git-repos\\work\\mobile-env\\venv\\lib\\site-packages (from matplotlib!=3.4.3->ray[rllib]) (2.8.1)\n",
      "Requirement already satisfied: kiwisolver>=1.0.1 in c:\\users\\stefan\\git-repos\\work\\mobile-env\\venv\\lib\\site-packages (from matplotlib!=3.4.3->ray[rllib]) (1.3.1)\n",
      "Requirement already satisfied: cycler>=0.10 in c:\\users\\stefan\\git-repos\\work\\mobile-env\\venv\\lib\\site-packages (from matplotlib!=3.4.3->ray[rllib]) (0.10.0)\n",
      "Requirement already satisfied: setuptools-scm>=4 in c:\\users\\stefan\\git-repos\\work\\mobile-env\\venv\\lib\\site-packages (from matplotlib!=3.4.3->ray[rllib]) (6.3.2)\n",
      "Requirement already satisfied: pyparsing>=2.2.1 in c:\\users\\stefan\\git-repos\\work\\mobile-env\\venv\\lib\\site-packages (from matplotlib!=3.4.3->ray[rllib]) (2.4.7)\n",
      "Requirement already satisfied: deprecated in c:\\users\\stefan\\git-repos\\work\\mobile-env\\venv\\lib\\site-packages (from redis>=3.5.0->ray[rllib]) (1.2.13)\n",
      "Requirement already satisfied: cloudpickle<1.7.0,>=1.2.0 in c:\\users\\stefan\\git-repos\\work\\mobile-env\\venv\\lib\\site-packages (from gym->ray[rllib]) (1.6.0)\n",
      "Requirement already satisfied: pyrsistent!=0.17.0,!=0.17.1,!=0.17.2,>=0.14.0 in c:\\users\\stefan\\git-repos\\work\\mobile-env\\venv\\lib\\site-packages (from jsonschema->ray[rllib]) (0.18.0)\n",
      "Requirement already satisfied: importlib-resources>=1.4.0 in c:\\users\\stefan\\git-repos\\work\\mobile-env\\venv\\lib\\site-packages (from jsonschema->ray[rllib]) (5.4.0)\n",
      "Requirement already satisfied: pytz>=2017.3 in c:\\users\\stefan\\git-repos\\work\\mobile-env\\venv\\lib\\site-packages (from pandas->ray[rllib]) (2021.1)\n",
      "Requirement already satisfied: urllib3<1.27,>=1.21.1 in c:\\users\\stefan\\git-repos\\work\\mobile-env\\venv\\lib\\site-packages (from requests->ray[rllib]) (1.26.7)\n",
      "Requirement already satisfied: charset-normalizer~=2.0.0 in c:\\users\\stefan\\git-repos\\work\\mobile-env\\venv\\lib\\site-packages (from requests->ray[rllib]) (2.0.7)\n",
      "Requirement already satisfied: certifi>=2017.4.17 in c:\\users\\stefan\\git-repos\\work\\mobile-env\\venv\\lib\\site-packages (from requests->ray[rllib]) (2021.10.8)\n",
      "Requirement already satisfied: idna<4,>=2.5 in c:\\users\\stefan\\git-repos\\work\\mobile-env\\venv\\lib\\site-packages (from requests->ray[rllib]) (3.3)\n",
      "Requirement already satisfied: tifffile>=2019.7.26 in c:\\users\\stefan\\git-repos\\work\\mobile-env\\venv\\lib\\site-packages (from scikit-image->ray[rllib]) (2021.11.2)\n",
      "Requirement already satisfied: PyWavelets>=1.1.1 in c:\\users\\stefan\\git-repos\\work\\mobile-env\\venv\\lib\\site-packages (from scikit-image->ray[rllib]) (1.2.0)\n",
      "Requirement already satisfied: networkx>=2.0 in c:\\users\\stefan\\git-repos\\work\\mobile-env\\venv\\lib\\site-packages (from scikit-image->ray[rllib]) (2.6.3)\n",
      "Requirement already satisfied: imageio>=2.3.0 in c:\\users\\stefan\\git-repos\\work\\mobile-env\\venv\\lib\\site-packages (from scikit-image->ray[rllib]) (2.11.0)\n",
      "Requirement already satisfied: zipp>=3.1.0 in c:\\users\\stefan\\git-repos\\work\\mobile-env\\venv\\lib\\site-packages (from importlib-resources>=1.4.0->jsonschema->ray[rllib]) (3.6.0)\n",
      "Requirement already satisfied: setuptools in c:\\users\\stefan\\git-repos\\work\\mobile-env\\venv\\lib\\site-packages (from setuptools-scm>=4->matplotlib!=3.4.3->ray[rllib]) (46.1.3)\n",
      "Requirement already satisfied: tomli>=1.0.0 in c:\\users\\stefan\\git-repos\\work\\mobile-env\\venv\\lib\\site-packages (from setuptools-scm>=4->matplotlib!=3.4.3->ray[rllib]) (1.2.2)\n",
      "Requirement already satisfied: wrapt<2,>=1.10 in c:\\users\\stefan\\git-repos\\work\\mobile-env\\venv\\lib\\site-packages (from deprecated->redis>=3.5.0->ray[rllib]) (1.13.3)\n",
      "Requirement already satisfied: tensorflow in c:\\users\\stefan\\git-repos\\work\\mobile-env\\venv\\lib\\site-packages (2.7.0)\n",
      "Requirement already satisfied: numpy>=1.14.5 in c:\\users\\stefan\\git-repos\\work\\mobile-env\\venv\\lib\\site-packages (from tensorflow) (1.21.4)\n",
      "Requirement already satisfied: keras-preprocessing>=1.1.1 in c:\\users\\stefan\\git-repos\\work\\mobile-env\\venv\\lib\\site-packages (from tensorflow) (1.1.2)\n",
      "Requirement already satisfied: tensorflow-io-gcs-filesystem>=0.21.0 in c:\\users\\stefan\\git-repos\\work\\mobile-env\\venv\\lib\\site-packages (from tensorflow) (0.22.0)\n",
      "Requirement already satisfied: protobuf>=3.9.2 in c:\\users\\stefan\\git-repos\\work\\mobile-env\\venv\\lib\\site-packages (from tensorflow) (3.19.1)\n",
      "Requirement already satisfied: typing-extensions>=3.6.6 in c:\\users\\stefan\\git-repos\\work\\mobile-env\\venv\\lib\\site-packages (from tensorflow) (4.0.0)\n",
      "Requirement already satisfied: six>=1.12.0 in c:\\users\\stefan\\git-repos\\work\\mobile-env\\venv\\lib\\site-packages (from tensorflow) (1.15.0)\n",
      "Requirement already satisfied: h5py>=2.9.0 in c:\\users\\stefan\\git-repos\\work\\mobile-env\\venv\\lib\\site-packages (from tensorflow) (3.6.0)\n",
      "Requirement already satisfied: astunparse>=1.6.0 in c:\\users\\stefan\\git-repos\\work\\mobile-env\\venv\\lib\\site-packages (from tensorflow) (1.6.3)\n",
      "Requirement already satisfied: tensorflow-estimator<2.8,~=2.7.0rc0 in c:\\users\\stefan\\git-repos\\work\\mobile-env\\venv\\lib\\site-packages (from tensorflow) (2.7.0)\n",
      "Requirement already satisfied: libclang>=9.0.1 in c:\\users\\stefan\\git-repos\\work\\mobile-env\\venv\\lib\\site-packages (from tensorflow) (12.0.0)\n",
      "Requirement already satisfied: wrapt>=1.11.0 in c:\\users\\stefan\\git-repos\\work\\mobile-env\\venv\\lib\\site-packages (from tensorflow) (1.13.3)\n",
      "Requirement already satisfied: google-pasta>=0.1.1 in c:\\users\\stefan\\git-repos\\work\\mobile-env\\venv\\lib\\site-packages (from tensorflow) (0.2.0)\n",
      "Requirement already satisfied: tensorboard~=2.6 in c:\\users\\stefan\\git-repos\\work\\mobile-env\\venv\\lib\\site-packages (from tensorflow) (2.7.0)\n",
      "Requirement already satisfied: keras<2.8,>=2.7.0rc0 in c:\\users\\stefan\\git-repos\\work\\mobile-env\\venv\\lib\\site-packages (from tensorflow) (2.7.0)\n",
      "Requirement already satisfied: flatbuffers<3.0,>=1.12 in c:\\users\\stefan\\git-repos\\work\\mobile-env\\venv\\lib\\site-packages (from tensorflow) (2.0)\n",
      "Requirement already satisfied: termcolor>=1.1.0 in c:\\users\\stefan\\git-repos\\work\\mobile-env\\venv\\lib\\site-packages (from tensorflow) (1.1.0)\n",
      "Requirement already satisfied: absl-py>=0.4.0 in c:\\users\\stefan\\git-repos\\work\\mobile-env\\venv\\lib\\site-packages (from tensorflow) (1.0.0)\n",
      "Requirement already satisfied: grpcio<2.0,>=1.24.3 in c:\\users\\stefan\\git-repos\\work\\mobile-env\\venv\\lib\\site-packages (from tensorflow) (1.42.0)\n",
      "Requirement already satisfied: opt-einsum>=2.3.2 in c:\\users\\stefan\\git-repos\\work\\mobile-env\\venv\\lib\\site-packages (from tensorflow) (3.3.0)\n",
      "Requirement already satisfied: wheel<1.0,>=0.32.0 in c:\\users\\stefan\\git-repos\\work\\mobile-env\\venv\\lib\\site-packages (from tensorflow) (0.34.2)\n",
      "Requirement already satisfied: gast<0.5.0,>=0.2.1 in c:\\users\\stefan\\git-repos\\work\\mobile-env\\venv\\lib\\site-packages (from tensorflow) (0.4.0)\n",
      "Requirement already satisfied: tensorboard-plugin-wit>=1.6.0 in c:\\users\\stefan\\git-repos\\work\\mobile-env\\venv\\lib\\site-packages (from tensorboard~=2.6->tensorflow) (1.8.0)\n",
      "Requirement already satisfied: werkzeug>=0.11.15 in c:\\users\\stefan\\git-repos\\work\\mobile-env\\venv\\lib\\site-packages (from tensorboard~=2.6->tensorflow) (2.0.2)\n",
      "Requirement already satisfied: tensorboard-data-server<0.7.0,>=0.6.0 in c:\\users\\stefan\\git-repos\\work\\mobile-env\\venv\\lib\\site-packages (from tensorboard~=2.6->tensorflow) (0.6.1)\n",
      "Requirement already satisfied: setuptools>=41.0.0 in c:\\users\\stefan\\git-repos\\work\\mobile-env\\venv\\lib\\site-packages (from tensorboard~=2.6->tensorflow) (46.1.3)\n",
      "Requirement already satisfied: markdown>=2.6.8 in c:\\users\\stefan\\git-repos\\work\\mobile-env\\venv\\lib\\site-packages (from tensorboard~=2.6->tensorflow) (3.3.6)\n",
      "Requirement already satisfied: requests<3,>=2.21.0 in c:\\users\\stefan\\git-repos\\work\\mobile-env\\venv\\lib\\site-packages (from tensorboard~=2.6->tensorflow) (2.26.0)\n",
      "Requirement already satisfied: google-auth-oauthlib<0.5,>=0.4.1 in c:\\users\\stefan\\git-repos\\work\\mobile-env\\venv\\lib\\site-packages (from tensorboard~=2.6->tensorflow) (0.4.6)\n",
      "Requirement already satisfied: google-auth<3,>=1.6.3 in c:\\users\\stefan\\git-repos\\work\\mobile-env\\venv\\lib\\site-packages (from tensorboard~=2.6->tensorflow) (2.3.3)\n",
      "Requirement already satisfied: pyasn1-modules>=0.2.1 in c:\\users\\stefan\\git-repos\\work\\mobile-env\\venv\\lib\\site-packages (from google-auth<3,>=1.6.3->tensorboard~=2.6->tensorflow) (0.2.8)\n",
      "Requirement already satisfied: cachetools<5.0,>=2.0.0 in c:\\users\\stefan\\git-repos\\work\\mobile-env\\venv\\lib\\site-packages (from google-auth<3,>=1.6.3->tensorboard~=2.6->tensorflow) (4.2.4)\n",
      "Requirement already satisfied: rsa<5,>=3.1.4 in c:\\users\\stefan\\git-repos\\work\\mobile-env\\venv\\lib\\site-packages (from google-auth<3,>=1.6.3->tensorboard~=2.6->tensorflow) (4.8)\n",
      "Requirement already satisfied: requests-oauthlib>=0.7.0 in c:\\users\\stefan\\git-repos\\work\\mobile-env\\venv\\lib\\site-packages (from google-auth-oauthlib<0.5,>=0.4.1->tensorboard~=2.6->tensorflow) (1.3.0)\n",
      "Requirement already satisfied: importlib-metadata>=4.4 in c:\\users\\stefan\\git-repos\\work\\mobile-env\\venv\\lib\\site-packages (from markdown>=2.6.8->tensorboard~=2.6->tensorflow) (4.8.2)\n",
      "Requirement already satisfied: certifi>=2017.4.17 in c:\\users\\stefan\\git-repos\\work\\mobile-env\\venv\\lib\\site-packages (from requests<3,>=2.21.0->tensorboard~=2.6->tensorflow) (2021.10.8)\n",
      "Requirement already satisfied: charset-normalizer~=2.0.0 in c:\\users\\stefan\\git-repos\\work\\mobile-env\\venv\\lib\\site-packages (from requests<3,>=2.21.0->tensorboard~=2.6->tensorflow) (2.0.7)\n",
      "Requirement already satisfied: idna<4,>=2.5 in c:\\users\\stefan\\git-repos\\work\\mobile-env\\venv\\lib\\site-packages (from requests<3,>=2.21.0->tensorboard~=2.6->tensorflow) (3.3)\n",
      "Requirement already satisfied: urllib3<1.27,>=1.21.1 in c:\\users\\stefan\\git-repos\\work\\mobile-env\\venv\\lib\\site-packages (from requests<3,>=2.21.0->tensorboard~=2.6->tensorflow) (1.26.7)\n",
      "Requirement already satisfied: zipp>=0.5 in c:\\users\\stefan\\git-repos\\work\\mobile-env\\venv\\lib\\site-packages (from importlib-metadata>=4.4->markdown>=2.6.8->tensorboard~=2.6->tensorflow) (3.6.0)\n",
      "Requirement already satisfied: pyasn1<0.5.0,>=0.4.6 in c:\\users\\stefan\\git-repos\\work\\mobile-env\\venv\\lib\\site-packages (from pyasn1-modules>=0.2.1->google-auth<3,>=1.6.3->tensorboard~=2.6->tensorflow) (0.4.8)\n",
      "Requirement already satisfied: oauthlib>=3.0.0 in c:\\users\\stefan\\git-repos\\work\\mobile-env\\venv\\lib\\site-packages (from requests-oauthlib>=0.7.0->google-auth-oauthlib<0.5,>=0.4.1->tensorboard~=2.6->tensorflow) (3.1.1)\n"
     ]
    }
   ],
   "source": [
    "# install RLlib and tensorflow\n",
    "!pip install ray[rllib]\n",
    "!pip install tensorflow"
   ]
  },
  {
   "cell_type": "code",
   "execution_count": 17,
   "id": "527b006d-5584-43b0-8a1c-9eeebeffbbc9",
   "metadata": {},
   "outputs": [
    {
     "name": "stderr",
     "output_type": "stream",
     "text": [
      "2021-11-24 12:32:13,571\tINFO worker.py:832 -- Calling ray.init() again after it has already been called.\n"
     ]
    }
   ],
   "source": [
    "import ray\n",
    "from ray.rllib.agents import ppo\n",
    "\n",
    "# train for 2000 episodes\n",
    "stop = {\n",
    "    # \"episodes_total\": 2000,\n",
    "    \"timesteps_total\": 50000,\n",
    "}\n",
    "\n",
    "config = {\n",
    "        # environment configuration:\n",
    "        \"env\": \"mobile-small-ma-v0\",\n",
    "\n",
    "        # agent configuration:\n",
    "        \"multiagent\": {\n",
    "            \"policies\": {\"shared_policy\"},\n",
    "            \"policy_mapping_fn\": (\n",
    "                lambda agent_id, **kwargs: \"shared_policy\"),\n",
    "        },\n",
    "}\n",
    "save_dir = \".\"\n",
    "\n",
    "# set available CPUs (and GPUs) and init ray\n",
    "ray.init(\n",
    "  num_cpus=3,\n",
    "  include_dashboard=False,\n",
    "  ignore_reinit_error=True,\n",
    "  log_to_driver=False,\n",
    ")"
   ]
  },
  {
   "cell_type": "markdown",
   "id": "6d055b48-a34f-4a8e-9aa3-6b2300eb0207",
   "metadata": {},
   "source": [
    "To use multi-agent policies of RLlib,\n",
    "we must first register mobile-env as custom OpenAI Gym environment.\n",
    "The RLlibMAWrapper class can be used to wrap the default multi-agent simulation so that it conforms with RLlib's MultiAgentEnv. Now, the environment defines an action and observation space for each user equipment (UE), attributes rewards per UE (per agent) and returns partial observations (no global knowledge for agents)."
   ]
  },
  {
   "cell_type": "code",
   "execution_count": 18,
   "id": "090762b7-1ab4-4f12-8146-a4153677e1b5",
   "metadata": {},
   "outputs": [],
   "source": [
    "from ray.tune.registry import register_env\n",
    "\n",
    "\n",
    "def register(config):\n",
    "    import mobile_env\n",
    "    from mobile_env.wrappers.multi_agent import RLlibMAWrapper\n",
    "    env = gym.make(\"mobile-small-ma-v0\")\n",
    "    return RLlibMAWrapper(env)\n",
    "\n",
    "register_env(\"mobile-small-ma-v0\", register)"
   ]
  },
  {
   "cell_type": "markdown",
   "id": "35881c26-4a9a-4051-86d5-8b504f7a624c",
   "metadata": {},
   "source": [
    "Run RLlib (this can take a while):"
   ]
  },
  {
   "cell_type": "code",
   "execution_count": 19,
   "id": "e0c7a216-3e69-4c37-a443-f92cb79665d4",
   "metadata": {},
   "outputs": [
    {
     "data": {
      "text/plain": "<IPython.core.display.HTML object>",
      "text/html": "== Status ==<br>Current time: 2021-11-24 12:32:13 (running for 00:00:00.14)<br>Memory usage on this node: 9.8/11.9 GiB<br>Using FIFO scheduling algorithm.<br>Resources requested: 0/3 CPUs, 0/0 GPUs, 0.0/1.51 GiB heap, 0.0/0.75 GiB objects<br>Result logdir: C:\\Users\\Stefan\\git-repos\\work\\mobile-env\\examples\\PPO_2021-11-24_12-32-13<br>Number of trials: 1/1 (1 PENDING)<br><table>\n<thead>\n<tr><th>Trial name                        </th><th>status  </th><th>loc  </th></tr>\n</thead>\n<tbody>\n<tr><td>PPO_mobile-small-ma-v0_2b82d_00000</td><td>PENDING </td><td>     </td></tr>\n</tbody>\n</table><br><br>"
     },
     "metadata": {},
     "output_type": "display_data"
    },
    {
     "data": {
      "text/plain": "<IPython.core.display.HTML object>",
      "text/html": "== Status ==<br>Current time: 2021-11-24 12:32:43 (running for 00:00:30.03)<br>Memory usage on this node: 10.7/11.9 GiB: ***LOW MEMORY*** less than 10% of the memory on this node is available for use. This can cause unexpected crashes. Consider reducing the memory used by your application or reducing the Ray object store size by setting `object_store_memory` when calling `ray.init`.<br>Using FIFO scheduling algorithm.<br>Resources requested: 3.0/3 CPUs, 0/0 GPUs, 0.0/1.51 GiB heap, 0.0/0.75 GiB objects<br>Result logdir: C:\\Users\\Stefan\\git-repos\\work\\mobile-env\\examples\\PPO_2021-11-24_12-32-13<br>Number of trials: 1/1 (1 RUNNING)<br><table>\n<thead>\n<tr><th>Trial name                        </th><th>status  </th><th>loc           </th></tr>\n</thead>\n<tbody>\n<tr><td>PPO_mobile-small-ma-v0_2b82d_00000</td><td>RUNNING </td><td>127.0.0.1:7956</td></tr>\n</tbody>\n</table><br><br>"
     },
     "metadata": {},
     "output_type": "display_data"
    },
    {
     "data": {
      "text/plain": "<IPython.core.display.HTML object>",
      "text/html": "== Status ==<br>Current time: 2021-11-24 12:32:44 (running for 00:00:31.07)<br>Memory usage on this node: 10.7/11.9 GiB: ***LOW MEMORY*** less than 10% of the memory on this node is available for use. This can cause unexpected crashes. Consider reducing the memory used by your application or reducing the Ray object store size by setting `object_store_memory` when calling `ray.init`.<br>Using FIFO scheduling algorithm.<br>Resources requested: 3.0/3 CPUs, 0/0 GPUs, 0.0/1.51 GiB heap, 0.0/0.75 GiB objects<br>Result logdir: C:\\Users\\Stefan\\git-repos\\work\\mobile-env\\examples\\PPO_2021-11-24_12-32-13<br>Number of trials: 1/1 (1 RUNNING)<br><table>\n<thead>\n<tr><th>Trial name                        </th><th>status  </th><th>loc           </th></tr>\n</thead>\n<tbody>\n<tr><td>PPO_mobile-small-ma-v0_2b82d_00000</td><td>RUNNING </td><td>127.0.0.1:7956</td></tr>\n</tbody>\n</table><br><br>"
     },
     "metadata": {},
     "output_type": "display_data"
    },
    {
     "data": {
      "text/plain": "<IPython.core.display.HTML object>",
      "text/html": "== Status ==<br>Current time: 2021-11-24 12:32:49 (running for 00:00:36.09)<br>Memory usage on this node: 10.8/11.9 GiB: ***LOW MEMORY*** less than 10% of the memory on this node is available for use. This can cause unexpected crashes. Consider reducing the memory used by your application or reducing the Ray object store size by setting `object_store_memory` when calling `ray.init`.<br>Using FIFO scheduling algorithm.<br>Resources requested: 3.0/3 CPUs, 0/0 GPUs, 0.0/1.51 GiB heap, 0.0/0.75 GiB objects<br>Result logdir: C:\\Users\\Stefan\\git-repos\\work\\mobile-env\\examples\\PPO_2021-11-24_12-32-13<br>Number of trials: 1/1 (1 RUNNING)<br><table>\n<thead>\n<tr><th>Trial name                        </th><th>status  </th><th>loc           </th></tr>\n</thead>\n<tbody>\n<tr><td>PPO_mobile-small-ma-v0_2b82d_00000</td><td>RUNNING </td><td>127.0.0.1:7956</td></tr>\n</tbody>\n</table><br><br>"
     },
     "metadata": {},
     "output_type": "display_data"
    },
    {
     "data": {
      "text/plain": "<IPython.core.display.HTML object>",
      "text/html": "== Status ==<br>Current time: 2021-11-24 12:32:54 (running for 00:00:41.10)<br>Memory usage on this node: 10.7/11.9 GiB: ***LOW MEMORY*** less than 10% of the memory on this node is available for use. This can cause unexpected crashes. Consider reducing the memory used by your application or reducing the Ray object store size by setting `object_store_memory` when calling `ray.init`.<br>Using FIFO scheduling algorithm.<br>Resources requested: 3.0/3 CPUs, 0/0 GPUs, 0.0/1.51 GiB heap, 0.0/0.75 GiB objects<br>Result logdir: C:\\Users\\Stefan\\git-repos\\work\\mobile-env\\examples\\PPO_2021-11-24_12-32-13<br>Number of trials: 1/1 (1 RUNNING)<br><table>\n<thead>\n<tr><th>Trial name                        </th><th>status  </th><th>loc           </th></tr>\n</thead>\n<tbody>\n<tr><td>PPO_mobile-small-ma-v0_2b82d_00000</td><td>RUNNING </td><td>127.0.0.1:7956</td></tr>\n</tbody>\n</table><br><br>"
     },
     "metadata": {},
     "output_type": "display_data"
    },
    {
     "data": {
      "text/plain": "<IPython.core.display.HTML object>",
      "text/html": "== Status ==<br>Current time: 2021-11-24 12:32:59 (running for 00:00:46.12)<br>Memory usage on this node: 10.7/11.9 GiB: ***LOW MEMORY*** less than 10% of the memory on this node is available for use. This can cause unexpected crashes. Consider reducing the memory used by your application or reducing the Ray object store size by setting `object_store_memory` when calling `ray.init`.<br>Using FIFO scheduling algorithm.<br>Resources requested: 3.0/3 CPUs, 0/0 GPUs, 0.0/1.51 GiB heap, 0.0/0.75 GiB objects<br>Result logdir: C:\\Users\\Stefan\\git-repos\\work\\mobile-env\\examples\\PPO_2021-11-24_12-32-13<br>Number of trials: 1/1 (1 RUNNING)<br><table>\n<thead>\n<tr><th>Trial name                        </th><th>status  </th><th>loc           </th></tr>\n</thead>\n<tbody>\n<tr><td>PPO_mobile-small-ma-v0_2b82d_00000</td><td>RUNNING </td><td>127.0.0.1:7956</td></tr>\n</tbody>\n</table><br><br>"
     },
     "metadata": {},
     "output_type": "display_data"
    },
    {
     "data": {
      "text/plain": "<IPython.core.display.HTML object>",
      "text/html": "== Status ==<br>Current time: 2021-11-24 12:33:04 (running for 00:00:51.21)<br>Memory usage on this node: 10.8/11.9 GiB: ***LOW MEMORY*** less than 10% of the memory on this node is available for use. This can cause unexpected crashes. Consider reducing the memory used by your application or reducing the Ray object store size by setting `object_store_memory` when calling `ray.init`.<br>Using FIFO scheduling algorithm.<br>Resources requested: 3.0/3 CPUs, 0/0 GPUs, 0.0/1.51 GiB heap, 0.0/0.75 GiB objects<br>Result logdir: C:\\Users\\Stefan\\git-repos\\work\\mobile-env\\examples\\PPO_2021-11-24_12-32-13<br>Number of trials: 1/1 (1 RUNNING)<br><table>\n<thead>\n<tr><th>Trial name                        </th><th>status  </th><th>loc           </th></tr>\n</thead>\n<tbody>\n<tr><td>PPO_mobile-small-ma-v0_2b82d_00000</td><td>RUNNING </td><td>127.0.0.1:7956</td></tr>\n</tbody>\n</table><br><br>"
     },
     "metadata": {},
     "output_type": "display_data"
    },
    {
     "data": {
      "text/plain": "<IPython.core.display.HTML object>",
      "text/html": "== Status ==<br>Current time: 2021-11-24 12:33:09 (running for 00:00:56.26)<br>Memory usage on this node: 10.8/11.9 GiB: ***LOW MEMORY*** less than 10% of the memory on this node is available for use. This can cause unexpected crashes. Consider reducing the memory used by your application or reducing the Ray object store size by setting `object_store_memory` when calling `ray.init`.<br>Using FIFO scheduling algorithm.<br>Resources requested: 3.0/3 CPUs, 0/0 GPUs, 0.0/1.51 GiB heap, 0.0/0.75 GiB objects<br>Result logdir: C:\\Users\\Stefan\\git-repos\\work\\mobile-env\\examples\\PPO_2021-11-24_12-32-13<br>Number of trials: 1/1 (1 RUNNING)<br><table>\n<thead>\n<tr><th>Trial name                        </th><th>status  </th><th>loc           </th></tr>\n</thead>\n<tbody>\n<tr><td>PPO_mobile-small-ma-v0_2b82d_00000</td><td>RUNNING </td><td>127.0.0.1:7956</td></tr>\n</tbody>\n</table><br><br>"
     },
     "metadata": {},
     "output_type": "display_data"
    },
    {
     "data": {
      "text/plain": "<IPython.core.display.HTML object>",
      "text/html": "== Status ==<br>Current time: 2021-11-24 12:33:14 (running for 00:01:01.36)<br>Memory usage on this node: 10.8/11.9 GiB: ***LOW MEMORY*** less than 10% of the memory on this node is available for use. This can cause unexpected crashes. Consider reducing the memory used by your application or reducing the Ray object store size by setting `object_store_memory` when calling `ray.init`.<br>Using FIFO scheduling algorithm.<br>Resources requested: 3.0/3 CPUs, 0/0 GPUs, 0.0/1.51 GiB heap, 0.0/0.75 GiB objects<br>Result logdir: C:\\Users\\Stefan\\git-repos\\work\\mobile-env\\examples\\PPO_2021-11-24_12-32-13<br>Number of trials: 1/1 (1 RUNNING)<br><table>\n<thead>\n<tr><th>Trial name                        </th><th>status  </th><th>loc           </th></tr>\n</thead>\n<tbody>\n<tr><td>PPO_mobile-small-ma-v0_2b82d_00000</td><td>RUNNING </td><td>127.0.0.1:7956</td></tr>\n</tbody>\n</table><br><br>"
     },
     "metadata": {},
     "output_type": "display_data"
    },
    {
     "data": {
      "text/plain": "<IPython.core.display.HTML object>",
      "text/html": "== Status ==<br>Current time: 2021-11-24 12:33:20 (running for 00:01:06.40)<br>Memory usage on this node: 10.8/11.9 GiB: ***LOW MEMORY*** less than 10% of the memory on this node is available for use. This can cause unexpected crashes. Consider reducing the memory used by your application or reducing the Ray object store size by setting `object_store_memory` when calling `ray.init`.<br>Using FIFO scheduling algorithm.<br>Resources requested: 3.0/3 CPUs, 0/0 GPUs, 0.0/1.51 GiB heap, 0.0/0.75 GiB objects<br>Result logdir: C:\\Users\\Stefan\\git-repos\\work\\mobile-env\\examples\\PPO_2021-11-24_12-32-13<br>Number of trials: 1/1 (1 RUNNING)<br><table>\n<thead>\n<tr><th>Trial name                        </th><th>status  </th><th>loc           </th></tr>\n</thead>\n<tbody>\n<tr><td>PPO_mobile-small-ma-v0_2b82d_00000</td><td>RUNNING </td><td>127.0.0.1:7956</td></tr>\n</tbody>\n</table><br><br>"
     },
     "metadata": {},
     "output_type": "display_data"
    },
    {
     "name": "stdout",
     "output_type": "stream",
     "text": [
      "Result for PPO_mobile-small-ma-v0_2b82d_00000:\n",
      "  agent_timesteps_total: 20000\n",
      "  custom_metrics: {}\n",
      "  date: 2021-11-24_12-33-20\n",
      "  done: false\n",
      "  episode_len_mean: 100.0\n",
      "  episode_media: {}\n",
      "  episode_reward_max: -82.58529022334926\n",
      "  episode_reward_mean: -197.16972293866527\n",
      "  episode_reward_min: -324.75028304970056\n",
      "  episodes_this_iter: 40\n",
      "  episodes_total: 40\n",
      "  experiment_id: 4e540bfa436c40ce885eae70b7b6ac0e\n",
      "  hostname: nb-stschn\n",
      "  info:\n",
      "    learner:\n",
      "      shared_policy:\n",
      "        custom_metrics: {}\n",
      "        learner_stats:\n",
      "          cur_kl_coeff: 0.20000000298023224\n",
      "          cur_lr: 4.999999873689376e-05\n",
      "          entropy: 1.3763474225997925\n",
      "          entropy_coeff: 0.0\n",
      "          kl: 0.01018717885017395\n",
      "          model: {}\n",
      "          policy_loss: -0.0061570750549435616\n",
      "          total_loss: 166.27658081054688\n",
      "          vf_explained_var: 0.015568939968943596\n",
      "          vf_loss: 166.2806854248047\n",
      "    num_agent_steps_sampled: 20000\n",
      "    num_agent_steps_trained: 20000\n",
      "    num_steps_sampled: 4000\n",
      "    num_steps_trained: 4000\n",
      "  iterations_since_restore: 1\n",
      "  node_ip: 127.0.0.1\n",
      "  num_healthy_workers: 2\n",
      "  off_policy_estimator: {}\n",
      "  perf:\n",
      "    cpu_util_percent: 71.25283018867924\n",
      "    ram_util_percent: 90.52264150943395\n",
      "  pid: 7956\n",
      "  policy_reward_max:\n",
      "    shared_policy: -3.834527690352243\n",
      "  policy_reward_mean:\n",
      "    shared_policy: -39.43394458773305\n",
      "  policy_reward_min:\n",
      "    shared_policy: -93.07092813608908\n",
      "  sampler_perf:\n",
      "    mean_action_processing_ms: 0.19319149209879924\n",
      "    mean_env_render_ms: 0.0\n",
      "    mean_env_wait_ms: 6.112792979235175\n",
      "    mean_inference_ms: 1.576185941338718\n",
      "    mean_raw_obs_processing_ms: 0.3873457734671788\n",
      "  time_since_restore: 36.927772760391235\n",
      "  time_this_iter_s: 36.927772760391235\n",
      "  time_total_s: 36.927772760391235\n",
      "  timers:\n",
      "    learn_throughput: 198.974\n",
      "    learn_time_ms: 20103.152\n",
      "    load_throughput: 0.0\n",
      "    load_time_ms: 0.0\n",
      "    sample_throughput: 237.752\n",
      "    sample_time_ms: 16824.248\n",
      "    update_time_ms: 3.997\n",
      "  timestamp: 1637753600\n",
      "  timesteps_since_restore: 0\n",
      "  timesteps_this_iter: 0\n",
      "  timesteps_total: 4000\n",
      "  training_iteration: 1\n",
      "  trial_id: 2b82d_00000\n",
      "  \n"
     ]
    },
    {
     "data": {
      "text/plain": "<IPython.core.display.HTML object>",
      "text/html": "== Status ==<br>Current time: 2021-11-24 12:33:25 (running for 00:01:12.07)<br>Memory usage on this node: 10.8/11.9 GiB: ***LOW MEMORY*** less than 10% of the memory on this node is available for use. This can cause unexpected crashes. Consider reducing the memory used by your application or reducing the Ray object store size by setting `object_store_memory` when calling `ray.init`.<br>Using FIFO scheduling algorithm.<br>Resources requested: 3.0/3 CPUs, 0/0 GPUs, 0.0/1.51 GiB heap, 0.0/0.75 GiB objects<br>Result logdir: C:\\Users\\Stefan\\git-repos\\work\\mobile-env\\examples\\PPO_2021-11-24_12-32-13<br>Number of trials: 1/1 (1 RUNNING)<br><table>\n<thead>\n<tr><th>Trial name                        </th><th>status  </th><th>loc           </th><th style=\"text-align: right;\">  iter</th><th style=\"text-align: right;\">  total time (s)</th><th style=\"text-align: right;\">  ts</th><th style=\"text-align: right;\">  reward</th><th style=\"text-align: right;\">  episode_reward_max</th><th style=\"text-align: right;\">  episode_reward_min</th><th style=\"text-align: right;\">  episode_len_mean</th></tr>\n</thead>\n<tbody>\n<tr><td>PPO_mobile-small-ma-v0_2b82d_00000</td><td>RUNNING </td><td>127.0.0.1:7956</td><td style=\"text-align: right;\">     1</td><td style=\"text-align: right;\">         36.9278</td><td style=\"text-align: right;\">4000</td><td style=\"text-align: right;\"> -197.17</td><td style=\"text-align: right;\">            -82.5853</td><td style=\"text-align: right;\">             -324.75</td><td style=\"text-align: right;\">               100</td></tr>\n</tbody>\n</table><br><br>"
     },
     "metadata": {},
     "output_type": "display_data"
    },
    {
     "data": {
      "text/plain": "<IPython.core.display.HTML object>",
      "text/html": "== Status ==<br>Current time: 2021-11-24 12:33:30 (running for 00:01:17.11)<br>Memory usage on this node: 10.8/11.9 GiB: ***LOW MEMORY*** less than 10% of the memory on this node is available for use. This can cause unexpected crashes. Consider reducing the memory used by your application or reducing the Ray object store size by setting `object_store_memory` when calling `ray.init`.<br>Using FIFO scheduling algorithm.<br>Resources requested: 3.0/3 CPUs, 0/0 GPUs, 0.0/1.51 GiB heap, 0.0/0.75 GiB objects<br>Result logdir: C:\\Users\\Stefan\\git-repos\\work\\mobile-env\\examples\\PPO_2021-11-24_12-32-13<br>Number of trials: 1/1 (1 RUNNING)<br><table>\n<thead>\n<tr><th>Trial name                        </th><th>status  </th><th>loc           </th><th style=\"text-align: right;\">  iter</th><th style=\"text-align: right;\">  total time (s)</th><th style=\"text-align: right;\">  ts</th><th style=\"text-align: right;\">  reward</th><th style=\"text-align: right;\">  episode_reward_max</th><th style=\"text-align: right;\">  episode_reward_min</th><th style=\"text-align: right;\">  episode_len_mean</th></tr>\n</thead>\n<tbody>\n<tr><td>PPO_mobile-small-ma-v0_2b82d_00000</td><td>RUNNING </td><td>127.0.0.1:7956</td><td style=\"text-align: right;\">     1</td><td style=\"text-align: right;\">         36.9278</td><td style=\"text-align: right;\">4000</td><td style=\"text-align: right;\"> -197.17</td><td style=\"text-align: right;\">            -82.5853</td><td style=\"text-align: right;\">             -324.75</td><td style=\"text-align: right;\">               100</td></tr>\n</tbody>\n</table><br><br>"
     },
     "metadata": {},
     "output_type": "display_data"
    },
    {
     "data": {
      "text/plain": "<IPython.core.display.HTML object>",
      "text/html": "== Status ==<br>Current time: 2021-11-24 12:33:36 (running for 00:01:23.13)<br>Memory usage on this node: 10.8/11.9 GiB: ***LOW MEMORY*** less than 10% of the memory on this node is available for use. This can cause unexpected crashes. Consider reducing the memory used by your application or reducing the Ray object store size by setting `object_store_memory` when calling `ray.init`.<br>Using FIFO scheduling algorithm.<br>Resources requested: 3.0/3 CPUs, 0/0 GPUs, 0.0/1.51 GiB heap, 0.0/0.75 GiB objects<br>Result logdir: C:\\Users\\Stefan\\git-repos\\work\\mobile-env\\examples\\PPO_2021-11-24_12-32-13<br>Number of trials: 1/1 (1 RUNNING)<br><table>\n<thead>\n<tr><th>Trial name                        </th><th>status  </th><th>loc           </th><th style=\"text-align: right;\">  iter</th><th style=\"text-align: right;\">  total time (s)</th><th style=\"text-align: right;\">  ts</th><th style=\"text-align: right;\">  reward</th><th style=\"text-align: right;\">  episode_reward_max</th><th style=\"text-align: right;\">  episode_reward_min</th><th style=\"text-align: right;\">  episode_len_mean</th></tr>\n</thead>\n<tbody>\n<tr><td>PPO_mobile-small-ma-v0_2b82d_00000</td><td>RUNNING </td><td>127.0.0.1:7956</td><td style=\"text-align: right;\">     1</td><td style=\"text-align: right;\">         36.9278</td><td style=\"text-align: right;\">4000</td><td style=\"text-align: right;\"> -197.17</td><td style=\"text-align: right;\">            -82.5853</td><td style=\"text-align: right;\">             -324.75</td><td style=\"text-align: right;\">               100</td></tr>\n</tbody>\n</table><br><br>"
     },
     "metadata": {},
     "output_type": "display_data"
    },
    {
     "data": {
      "text/plain": "<IPython.core.display.HTML object>",
      "text/html": "== Status ==<br>Current time: 2021-11-24 12:33:41 (running for 00:01:28.14)<br>Memory usage on this node: 10.8/11.9 GiB: ***LOW MEMORY*** less than 10% of the memory on this node is available for use. This can cause unexpected crashes. Consider reducing the memory used by your application or reducing the Ray object store size by setting `object_store_memory` when calling `ray.init`.<br>Using FIFO scheduling algorithm.<br>Resources requested: 3.0/3 CPUs, 0/0 GPUs, 0.0/1.51 GiB heap, 0.0/0.75 GiB objects<br>Result logdir: C:\\Users\\Stefan\\git-repos\\work\\mobile-env\\examples\\PPO_2021-11-24_12-32-13<br>Number of trials: 1/1 (1 RUNNING)<br><table>\n<thead>\n<tr><th>Trial name                        </th><th>status  </th><th>loc           </th><th style=\"text-align: right;\">  iter</th><th style=\"text-align: right;\">  total time (s)</th><th style=\"text-align: right;\">  ts</th><th style=\"text-align: right;\">  reward</th><th style=\"text-align: right;\">  episode_reward_max</th><th style=\"text-align: right;\">  episode_reward_min</th><th style=\"text-align: right;\">  episode_len_mean</th></tr>\n</thead>\n<tbody>\n<tr><td>PPO_mobile-small-ma-v0_2b82d_00000</td><td>RUNNING </td><td>127.0.0.1:7956</td><td style=\"text-align: right;\">     1</td><td style=\"text-align: right;\">         36.9278</td><td style=\"text-align: right;\">4000</td><td style=\"text-align: right;\"> -197.17</td><td style=\"text-align: right;\">            -82.5853</td><td style=\"text-align: right;\">             -324.75</td><td style=\"text-align: right;\">               100</td></tr>\n</tbody>\n</table><br><br>"
     },
     "metadata": {},
     "output_type": "display_data"
    },
    {
     "data": {
      "text/plain": "<IPython.core.display.HTML object>",
      "text/html": "== Status ==<br>Current time: 2021-11-24 12:33:46 (running for 00:01:33.21)<br>Memory usage on this node: 10.8/11.9 GiB: ***LOW MEMORY*** less than 10% of the memory on this node is available for use. This can cause unexpected crashes. Consider reducing the memory used by your application or reducing the Ray object store size by setting `object_store_memory` when calling `ray.init`.<br>Using FIFO scheduling algorithm.<br>Resources requested: 3.0/3 CPUs, 0/0 GPUs, 0.0/1.51 GiB heap, 0.0/0.75 GiB objects<br>Result logdir: C:\\Users\\Stefan\\git-repos\\work\\mobile-env\\examples\\PPO_2021-11-24_12-32-13<br>Number of trials: 1/1 (1 RUNNING)<br><table>\n<thead>\n<tr><th>Trial name                        </th><th>status  </th><th>loc           </th><th style=\"text-align: right;\">  iter</th><th style=\"text-align: right;\">  total time (s)</th><th style=\"text-align: right;\">  ts</th><th style=\"text-align: right;\">  reward</th><th style=\"text-align: right;\">  episode_reward_max</th><th style=\"text-align: right;\">  episode_reward_min</th><th style=\"text-align: right;\">  episode_len_mean</th></tr>\n</thead>\n<tbody>\n<tr><td>PPO_mobile-small-ma-v0_2b82d_00000</td><td>RUNNING </td><td>127.0.0.1:7956</td><td style=\"text-align: right;\">     1</td><td style=\"text-align: right;\">         36.9278</td><td style=\"text-align: right;\">4000</td><td style=\"text-align: right;\"> -197.17</td><td style=\"text-align: right;\">            -82.5853</td><td style=\"text-align: right;\">             -324.75</td><td style=\"text-align: right;\">               100</td></tr>\n</tbody>\n</table><br><br>"
     },
     "metadata": {},
     "output_type": "display_data"
    },
    {
     "data": {
      "text/plain": "<IPython.core.display.HTML object>",
      "text/html": "== Status ==<br>Current time: 2021-11-24 12:33:51 (running for 00:01:38.26)<br>Memory usage on this node: 10.8/11.9 GiB: ***LOW MEMORY*** less than 10% of the memory on this node is available for use. This can cause unexpected crashes. Consider reducing the memory used by your application or reducing the Ray object store size by setting `object_store_memory` when calling `ray.init`.<br>Using FIFO scheduling algorithm.<br>Resources requested: 3.0/3 CPUs, 0/0 GPUs, 0.0/1.51 GiB heap, 0.0/0.75 GiB objects<br>Result logdir: C:\\Users\\Stefan\\git-repos\\work\\mobile-env\\examples\\PPO_2021-11-24_12-32-13<br>Number of trials: 1/1 (1 RUNNING)<br><table>\n<thead>\n<tr><th>Trial name                        </th><th>status  </th><th>loc           </th><th style=\"text-align: right;\">  iter</th><th style=\"text-align: right;\">  total time (s)</th><th style=\"text-align: right;\">  ts</th><th style=\"text-align: right;\">  reward</th><th style=\"text-align: right;\">  episode_reward_max</th><th style=\"text-align: right;\">  episode_reward_min</th><th style=\"text-align: right;\">  episode_len_mean</th></tr>\n</thead>\n<tbody>\n<tr><td>PPO_mobile-small-ma-v0_2b82d_00000</td><td>RUNNING </td><td>127.0.0.1:7956</td><td style=\"text-align: right;\">     1</td><td style=\"text-align: right;\">         36.9278</td><td style=\"text-align: right;\">4000</td><td style=\"text-align: right;\"> -197.17</td><td style=\"text-align: right;\">            -82.5853</td><td style=\"text-align: right;\">             -324.75</td><td style=\"text-align: right;\">               100</td></tr>\n</tbody>\n</table><br><br>"
     },
     "metadata": {},
     "output_type": "display_data"
    },
    {
     "data": {
      "text/plain": "<IPython.core.display.HTML object>",
      "text/html": "== Status ==<br>Current time: 2021-11-24 12:33:56 (running for 00:01:43.28)<br>Memory usage on this node: 10.8/11.9 GiB: ***LOW MEMORY*** less than 10% of the memory on this node is available for use. This can cause unexpected crashes. Consider reducing the memory used by your application or reducing the Ray object store size by setting `object_store_memory` when calling `ray.init`.<br>Using FIFO scheduling algorithm.<br>Resources requested: 3.0/3 CPUs, 0/0 GPUs, 0.0/1.51 GiB heap, 0.0/0.75 GiB objects<br>Result logdir: C:\\Users\\Stefan\\git-repos\\work\\mobile-env\\examples\\PPO_2021-11-24_12-32-13<br>Number of trials: 1/1 (1 RUNNING)<br><table>\n<thead>\n<tr><th>Trial name                        </th><th>status  </th><th>loc           </th><th style=\"text-align: right;\">  iter</th><th style=\"text-align: right;\">  total time (s)</th><th style=\"text-align: right;\">  ts</th><th style=\"text-align: right;\">  reward</th><th style=\"text-align: right;\">  episode_reward_max</th><th style=\"text-align: right;\">  episode_reward_min</th><th style=\"text-align: right;\">  episode_len_mean</th></tr>\n</thead>\n<tbody>\n<tr><td>PPO_mobile-small-ma-v0_2b82d_00000</td><td>RUNNING </td><td>127.0.0.1:7956</td><td style=\"text-align: right;\">     1</td><td style=\"text-align: right;\">         36.9278</td><td style=\"text-align: right;\">4000</td><td style=\"text-align: right;\"> -197.17</td><td style=\"text-align: right;\">            -82.5853</td><td style=\"text-align: right;\">             -324.75</td><td style=\"text-align: right;\">               100</td></tr>\n</tbody>\n</table><br><br>"
     },
     "metadata": {},
     "output_type": "display_data"
    },
    {
     "name": "stdout",
     "output_type": "stream",
     "text": [
      "Result for PPO_mobile-small-ma-v0_2b82d_00000:\n",
      "  agent_timesteps_total: 40000\n",
      "  custom_metrics: {}\n",
      "  date: 2021-11-24_12-33-57\n",
      "  done: false\n",
      "  episode_len_mean: 100.0\n",
      "  episode_media: {}\n",
      "  episode_reward_max: 26.011023298586956\n",
      "  episode_reward_mean: -156.0066308067777\n",
      "  episode_reward_min: -324.75028304970056\n",
      "  episodes_this_iter: 40\n",
      "  episodes_total: 80\n",
      "  experiment_id: 4e540bfa436c40ce885eae70b7b6ac0e\n",
      "  hostname: nb-stschn\n",
      "  info:\n",
      "    learner:\n",
      "      shared_policy:\n",
      "        custom_metrics: {}\n",
      "        learner_stats:\n",
      "          cur_kl_coeff: 0.20000000298023224\n",
      "          cur_lr: 4.999999873689376e-05\n",
      "          entropy: 1.351000428199768\n",
      "          entropy_coeff: 0.0\n",
      "          kl: 0.010089628398418427\n",
      "          model: {}\n",
      "          policy_loss: -0.005375070031732321\n",
      "          total_loss: 83.70623779296875\n",
      "          vf_explained_var: -0.1662183254957199\n",
      "          vf_loss: 83.70960235595703\n",
      "    num_agent_steps_sampled: 40000\n",
      "    num_agent_steps_trained: 40000\n",
      "    num_steps_sampled: 8000\n",
      "    num_steps_trained: 8000\n",
      "    num_steps_trained_this_iter: 0\n",
      "  iterations_since_restore: 2\n",
      "  node_ip: 127.0.0.1\n",
      "  num_healthy_workers: 2\n",
      "  off_policy_estimator: {}\n",
      "  perf:\n",
      "    cpu_util_percent: 71.45192307692307\n",
      "    ram_util_percent: 90.70192307692308\n",
      "  pid: 7956\n",
      "  policy_reward_max:\n",
      "    shared_policy: 12.767251795492593\n",
      "  policy_reward_mean:\n",
      "    shared_policy: -31.20132616135554\n",
      "  policy_reward_min:\n",
      "    shared_policy: -93.07092813608908\n",
      "  sampler_perf:\n",
      "    mean_action_processing_ms: 0.19299227772912464\n",
      "    mean_env_render_ms: 0.0\n",
      "    mean_env_wait_ms: 6.246199761827716\n",
      "    mean_inference_ms: 1.5824175243585503\n",
      "    mean_raw_obs_processing_ms: 0.4094397045639676\n",
      "  time_since_restore: 74.06447577476501\n",
      "  time_this_iter_s: 37.13670301437378\n",
      "  time_total_s: 74.06447577476501\n",
      "  timers:\n",
      "    learn_throughput: 203.794\n",
      "    learn_time_ms: 19627.669\n",
      "    load_throughput: 0.0\n",
      "    load_time_ms: 0.0\n",
      "    sample_throughput: 145.531\n",
      "    sample_time_ms: 27485.54\n",
      "    update_time_ms: 1.999\n",
      "  timestamp: 1637753637\n",
      "  timesteps_since_restore: 0\n",
      "  timesteps_this_iter: 0\n",
      "  timesteps_total: 8000\n",
      "  training_iteration: 2\n",
      "  trial_id: 2b82d_00000\n",
      "  \n"
     ]
    },
    {
     "data": {
      "text/plain": "<IPython.core.display.HTML object>",
      "text/html": "== Status ==<br>Current time: 2021-11-24 12:34:02 (running for 00:01:49.27)<br>Memory usage on this node: 10.8/11.9 GiB: ***LOW MEMORY*** less than 10% of the memory on this node is available for use. This can cause unexpected crashes. Consider reducing the memory used by your application or reducing the Ray object store size by setting `object_store_memory` when calling `ray.init`.<br>Using FIFO scheduling algorithm.<br>Resources requested: 3.0/3 CPUs, 0/0 GPUs, 0.0/1.51 GiB heap, 0.0/0.75 GiB objects<br>Result logdir: C:\\Users\\Stefan\\git-repos\\work\\mobile-env\\examples\\PPO_2021-11-24_12-32-13<br>Number of trials: 1/1 (1 RUNNING)<br><table>\n<thead>\n<tr><th>Trial name                        </th><th>status  </th><th>loc           </th><th style=\"text-align: right;\">  iter</th><th style=\"text-align: right;\">  total time (s)</th><th style=\"text-align: right;\">  ts</th><th style=\"text-align: right;\">  reward</th><th style=\"text-align: right;\">  episode_reward_max</th><th style=\"text-align: right;\">  episode_reward_min</th><th style=\"text-align: right;\">  episode_len_mean</th></tr>\n</thead>\n<tbody>\n<tr><td>PPO_mobile-small-ma-v0_2b82d_00000</td><td>RUNNING </td><td>127.0.0.1:7956</td><td style=\"text-align: right;\">     2</td><td style=\"text-align: right;\">         74.0645</td><td style=\"text-align: right;\">8000</td><td style=\"text-align: right;\">-156.007</td><td style=\"text-align: right;\">              26.011</td><td style=\"text-align: right;\">             -324.75</td><td style=\"text-align: right;\">               100</td></tr>\n</tbody>\n</table><br><br>"
     },
     "metadata": {},
     "output_type": "display_data"
    },
    {
     "data": {
      "text/plain": "<IPython.core.display.HTML object>",
      "text/html": "== Status ==<br>Current time: 2021-11-24 12:34:07 (running for 00:01:54.34)<br>Memory usage on this node: 10.8/11.9 GiB: ***LOW MEMORY*** less than 10% of the memory on this node is available for use. This can cause unexpected crashes. Consider reducing the memory used by your application or reducing the Ray object store size by setting `object_store_memory` when calling `ray.init`.<br>Using FIFO scheduling algorithm.<br>Resources requested: 3.0/3 CPUs, 0/0 GPUs, 0.0/1.51 GiB heap, 0.0/0.75 GiB objects<br>Result logdir: C:\\Users\\Stefan\\git-repos\\work\\mobile-env\\examples\\PPO_2021-11-24_12-32-13<br>Number of trials: 1/1 (1 RUNNING)<br><table>\n<thead>\n<tr><th>Trial name                        </th><th>status  </th><th>loc           </th><th style=\"text-align: right;\">  iter</th><th style=\"text-align: right;\">  total time (s)</th><th style=\"text-align: right;\">  ts</th><th style=\"text-align: right;\">  reward</th><th style=\"text-align: right;\">  episode_reward_max</th><th style=\"text-align: right;\">  episode_reward_min</th><th style=\"text-align: right;\">  episode_len_mean</th></tr>\n</thead>\n<tbody>\n<tr><td>PPO_mobile-small-ma-v0_2b82d_00000</td><td>RUNNING </td><td>127.0.0.1:7956</td><td style=\"text-align: right;\">     2</td><td style=\"text-align: right;\">         74.0645</td><td style=\"text-align: right;\">8000</td><td style=\"text-align: right;\">-156.007</td><td style=\"text-align: right;\">              26.011</td><td style=\"text-align: right;\">             -324.75</td><td style=\"text-align: right;\">               100</td></tr>\n</tbody>\n</table><br><br>"
     },
     "metadata": {},
     "output_type": "display_data"
    },
    {
     "data": {
      "text/plain": "<IPython.core.display.HTML object>",
      "text/html": "== Status ==<br>Current time: 2021-11-24 12:34:13 (running for 00:01:59.41)<br>Memory usage on this node: 10.8/11.9 GiB: ***LOW MEMORY*** less than 10% of the memory on this node is available for use. This can cause unexpected crashes. Consider reducing the memory used by your application or reducing the Ray object store size by setting `object_store_memory` when calling `ray.init`.<br>Using FIFO scheduling algorithm.<br>Resources requested: 3.0/3 CPUs, 0/0 GPUs, 0.0/1.51 GiB heap, 0.0/0.75 GiB objects<br>Result logdir: C:\\Users\\Stefan\\git-repos\\work\\mobile-env\\examples\\PPO_2021-11-24_12-32-13<br>Number of trials: 1/1 (1 RUNNING)<br><table>\n<thead>\n<tr><th>Trial name                        </th><th>status  </th><th>loc           </th><th style=\"text-align: right;\">  iter</th><th style=\"text-align: right;\">  total time (s)</th><th style=\"text-align: right;\">  ts</th><th style=\"text-align: right;\">  reward</th><th style=\"text-align: right;\">  episode_reward_max</th><th style=\"text-align: right;\">  episode_reward_min</th><th style=\"text-align: right;\">  episode_len_mean</th></tr>\n</thead>\n<tbody>\n<tr><td>PPO_mobile-small-ma-v0_2b82d_00000</td><td>RUNNING </td><td>127.0.0.1:7956</td><td style=\"text-align: right;\">     2</td><td style=\"text-align: right;\">         74.0645</td><td style=\"text-align: right;\">8000</td><td style=\"text-align: right;\">-156.007</td><td style=\"text-align: right;\">              26.011</td><td style=\"text-align: right;\">             -324.75</td><td style=\"text-align: right;\">               100</td></tr>\n</tbody>\n</table><br><br>"
     },
     "metadata": {},
     "output_type": "display_data"
    },
    {
     "data": {
      "text/plain": "<IPython.core.display.HTML object>",
      "text/html": "== Status ==<br>Current time: 2021-11-24 12:34:18 (running for 00:02:04.48)<br>Memory usage on this node: 10.8/11.9 GiB: ***LOW MEMORY*** less than 10% of the memory on this node is available for use. This can cause unexpected crashes. Consider reducing the memory used by your application or reducing the Ray object store size by setting `object_store_memory` when calling `ray.init`.<br>Using FIFO scheduling algorithm.<br>Resources requested: 3.0/3 CPUs, 0/0 GPUs, 0.0/1.51 GiB heap, 0.0/0.75 GiB objects<br>Result logdir: C:\\Users\\Stefan\\git-repos\\work\\mobile-env\\examples\\PPO_2021-11-24_12-32-13<br>Number of trials: 1/1 (1 RUNNING)<br><table>\n<thead>\n<tr><th>Trial name                        </th><th>status  </th><th>loc           </th><th style=\"text-align: right;\">  iter</th><th style=\"text-align: right;\">  total time (s)</th><th style=\"text-align: right;\">  ts</th><th style=\"text-align: right;\">  reward</th><th style=\"text-align: right;\">  episode_reward_max</th><th style=\"text-align: right;\">  episode_reward_min</th><th style=\"text-align: right;\">  episode_len_mean</th></tr>\n</thead>\n<tbody>\n<tr><td>PPO_mobile-small-ma-v0_2b82d_00000</td><td>RUNNING </td><td>127.0.0.1:7956</td><td style=\"text-align: right;\">     2</td><td style=\"text-align: right;\">         74.0645</td><td style=\"text-align: right;\">8000</td><td style=\"text-align: right;\">-156.007</td><td style=\"text-align: right;\">              26.011</td><td style=\"text-align: right;\">             -324.75</td><td style=\"text-align: right;\">               100</td></tr>\n</tbody>\n</table><br><br>"
     },
     "metadata": {},
     "output_type": "display_data"
    },
    {
     "data": {
      "text/plain": "<IPython.core.display.HTML object>",
      "text/html": "== Status ==<br>Current time: 2021-11-24 12:34:23 (running for 00:02:09.57)<br>Memory usage on this node: 10.8/11.9 GiB: ***LOW MEMORY*** less than 10% of the memory on this node is available for use. This can cause unexpected crashes. Consider reducing the memory used by your application or reducing the Ray object store size by setting `object_store_memory` when calling `ray.init`.<br>Using FIFO scheduling algorithm.<br>Resources requested: 3.0/3 CPUs, 0/0 GPUs, 0.0/1.51 GiB heap, 0.0/0.75 GiB objects<br>Result logdir: C:\\Users\\Stefan\\git-repos\\work\\mobile-env\\examples\\PPO_2021-11-24_12-32-13<br>Number of trials: 1/1 (1 RUNNING)<br><table>\n<thead>\n<tr><th>Trial name                        </th><th>status  </th><th>loc           </th><th style=\"text-align: right;\">  iter</th><th style=\"text-align: right;\">  total time (s)</th><th style=\"text-align: right;\">  ts</th><th style=\"text-align: right;\">  reward</th><th style=\"text-align: right;\">  episode_reward_max</th><th style=\"text-align: right;\">  episode_reward_min</th><th style=\"text-align: right;\">  episode_len_mean</th></tr>\n</thead>\n<tbody>\n<tr><td>PPO_mobile-small-ma-v0_2b82d_00000</td><td>RUNNING </td><td>127.0.0.1:7956</td><td style=\"text-align: right;\">     2</td><td style=\"text-align: right;\">         74.0645</td><td style=\"text-align: right;\">8000</td><td style=\"text-align: right;\">-156.007</td><td style=\"text-align: right;\">              26.011</td><td style=\"text-align: right;\">             -324.75</td><td style=\"text-align: right;\">               100</td></tr>\n</tbody>\n</table><br><br>"
     },
     "metadata": {},
     "output_type": "display_data"
    },
    {
     "data": {
      "text/plain": "<IPython.core.display.HTML object>",
      "text/html": "== Status ==<br>Current time: 2021-11-24 12:34:28 (running for 00:02:14.65)<br>Memory usage on this node: 10.8/11.9 GiB: ***LOW MEMORY*** less than 10% of the memory on this node is available for use. This can cause unexpected crashes. Consider reducing the memory used by your application or reducing the Ray object store size by setting `object_store_memory` when calling `ray.init`.<br>Using FIFO scheduling algorithm.<br>Resources requested: 3.0/3 CPUs, 0/0 GPUs, 0.0/1.51 GiB heap, 0.0/0.75 GiB objects<br>Result logdir: C:\\Users\\Stefan\\git-repos\\work\\mobile-env\\examples\\PPO_2021-11-24_12-32-13<br>Number of trials: 1/1 (1 RUNNING)<br><table>\n<thead>\n<tr><th>Trial name                        </th><th>status  </th><th>loc           </th><th style=\"text-align: right;\">  iter</th><th style=\"text-align: right;\">  total time (s)</th><th style=\"text-align: right;\">  ts</th><th style=\"text-align: right;\">  reward</th><th style=\"text-align: right;\">  episode_reward_max</th><th style=\"text-align: right;\">  episode_reward_min</th><th style=\"text-align: right;\">  episode_len_mean</th></tr>\n</thead>\n<tbody>\n<tr><td>PPO_mobile-small-ma-v0_2b82d_00000</td><td>RUNNING </td><td>127.0.0.1:7956</td><td style=\"text-align: right;\">     2</td><td style=\"text-align: right;\">         74.0645</td><td style=\"text-align: right;\">8000</td><td style=\"text-align: right;\">-156.007</td><td style=\"text-align: right;\">              26.011</td><td style=\"text-align: right;\">             -324.75</td><td style=\"text-align: right;\">               100</td></tr>\n</tbody>\n</table><br><br>"
     },
     "metadata": {},
     "output_type": "display_data"
    },
    {
     "data": {
      "text/plain": "<IPython.core.display.HTML object>",
      "text/html": "== Status ==<br>Current time: 2021-11-24 12:34:33 (running for 00:02:19.69)<br>Memory usage on this node: 10.7/11.9 GiB<br>Using FIFO scheduling algorithm.<br>Resources requested: 3.0/3 CPUs, 0/0 GPUs, 0.0/1.51 GiB heap, 0.0/0.75 GiB objects<br>Result logdir: C:\\Users\\Stefan\\git-repos\\work\\mobile-env\\examples\\PPO_2021-11-24_12-32-13<br>Number of trials: 1/1 (1 RUNNING)<br><table>\n<thead>\n<tr><th>Trial name                        </th><th>status  </th><th>loc           </th><th style=\"text-align: right;\">  iter</th><th style=\"text-align: right;\">  total time (s)</th><th style=\"text-align: right;\">  ts</th><th style=\"text-align: right;\">  reward</th><th style=\"text-align: right;\">  episode_reward_max</th><th style=\"text-align: right;\">  episode_reward_min</th><th style=\"text-align: right;\">  episode_len_mean</th></tr>\n</thead>\n<tbody>\n<tr><td>PPO_mobile-small-ma-v0_2b82d_00000</td><td>RUNNING </td><td>127.0.0.1:7956</td><td style=\"text-align: right;\">     2</td><td style=\"text-align: right;\">         74.0645</td><td style=\"text-align: right;\">8000</td><td style=\"text-align: right;\">-156.007</td><td style=\"text-align: right;\">              26.011</td><td style=\"text-align: right;\">             -324.75</td><td style=\"text-align: right;\">               100</td></tr>\n</tbody>\n</table><br><br>"
     },
     "metadata": {},
     "output_type": "display_data"
    },
    {
     "name": "stdout",
     "output_type": "stream",
     "text": [
      "Result for PPO_mobile-small-ma-v0_2b82d_00000:\n",
      "  agent_timesteps_total: 60000\n",
      "  custom_metrics: {}\n",
      "  date: 2021-11-24_12-34-37\n",
      "  done: false\n",
      "  episode_len_mean: 100.0\n",
      "  episode_media: {}\n",
      "  episode_reward_max: 26.011023298586956\n",
      "  episode_reward_mean: -123.1233896979559\n",
      "  episode_reward_min: -324.75028304970056\n",
      "  episodes_this_iter: 40\n",
      "  episodes_total: 120\n",
      "  experiment_id: 4e540bfa436c40ce885eae70b7b6ac0e\n",
      "  hostname: nb-stschn\n",
      "  info:\n",
      "    learner:\n",
      "      shared_policy:\n",
      "        custom_metrics: {}\n",
      "        learner_stats:\n",
      "          cur_kl_coeff: 0.20000000298023224\n",
      "          cur_lr: 4.999999873689376e-05\n",
      "          entropy: 1.3054527044296265\n",
      "          entropy_coeff: 0.0\n",
      "          kl: 0.011907270178198814\n",
      "          model: {}\n",
      "          policy_loss: -0.005937955342233181\n",
      "          total_loss: 80.03804016113281\n",
      "          vf_explained_var: -0.3122124671936035\n",
      "          vf_loss: 80.0416030883789\n",
      "    num_agent_steps_sampled: 60000\n",
      "    num_agent_steps_trained: 60000\n",
      "    num_steps_sampled: 12000\n",
      "    num_steps_trained: 12000\n",
      "    num_steps_trained_this_iter: 0\n",
      "  iterations_since_restore: 3\n",
      "  node_ip: 127.0.0.1\n",
      "  num_healthy_workers: 2\n",
      "  off_policy_estimator: {}\n",
      "  perf:\n",
      "    cpu_util_percent: 75.89818181818183\n",
      "    ram_util_percent: 90.58909090909088\n",
      "  pid: 7956\n",
      "  policy_reward_max:\n",
      "    shared_policy: 12.767251795492593\n",
      "  policy_reward_mean:\n",
      "    shared_policy: -24.62467793959118\n",
      "  policy_reward_min:\n",
      "    shared_policy: -94.77753739714078\n",
      "  sampler_perf:\n",
      "    mean_action_processing_ms: 0.19796336530225817\n",
      "    mean_env_render_ms: 0.0\n",
      "    mean_env_wait_ms: 6.415375718354524\n",
      "    mean_inference_ms: 1.6054616484128978\n",
      "    mean_raw_obs_processing_ms: 0.4138493305141289\n",
      "  time_since_restore: 113.5621988773346\n",
      "  time_this_iter_s: 39.49772310256958\n",
      "  time_total_s: 113.5621988773346\n",
      "  timers:\n",
      "    learn_throughput: 201.113\n",
      "    learn_time_ms: 19889.329\n",
      "    load_throughput: 0.0\n",
      "    load_time_ms: 0.0\n",
      "    sample_throughput: 128.645\n",
      "    sample_time_ms: 31093.221\n",
      "    update_time_ms: 1.332\n",
      "  timestamp: 1637753677\n",
      "  timesteps_since_restore: 0\n",
      "  timesteps_this_iter: 0\n",
      "  timesteps_total: 12000\n",
      "  training_iteration: 3\n",
      "  trial_id: 2b82d_00000\n",
      "  \n"
     ]
    },
    {
     "data": {
      "text/plain": "<IPython.core.display.HTML object>",
      "text/html": "== Status ==<br>Current time: 2021-11-24 12:34:38 (running for 00:02:24.82)<br>Memory usage on this node: 10.7/11.9 GiB<br>Using FIFO scheduling algorithm.<br>Resources requested: 3.0/3 CPUs, 0/0 GPUs, 0.0/1.51 GiB heap, 0.0/0.75 GiB objects<br>Result logdir: C:\\Users\\Stefan\\git-repos\\work\\mobile-env\\examples\\PPO_2021-11-24_12-32-13<br>Number of trials: 1/1 (1 RUNNING)<br><table>\n<thead>\n<tr><th>Trial name                        </th><th>status  </th><th>loc           </th><th style=\"text-align: right;\">  iter</th><th style=\"text-align: right;\">  total time (s)</th><th style=\"text-align: right;\">   ts</th><th style=\"text-align: right;\">  reward</th><th style=\"text-align: right;\">  episode_reward_max</th><th style=\"text-align: right;\">  episode_reward_min</th><th style=\"text-align: right;\">  episode_len_mean</th></tr>\n</thead>\n<tbody>\n<tr><td>PPO_mobile-small-ma-v0_2b82d_00000</td><td>RUNNING </td><td>127.0.0.1:7956</td><td style=\"text-align: right;\">     3</td><td style=\"text-align: right;\">         113.562</td><td style=\"text-align: right;\">12000</td><td style=\"text-align: right;\">-123.123</td><td style=\"text-align: right;\">              26.011</td><td style=\"text-align: right;\">             -324.75</td><td style=\"text-align: right;\">               100</td></tr>\n</tbody>\n</table><br><br>"
     },
     "metadata": {},
     "output_type": "display_data"
    },
    {
     "data": {
      "text/plain": "<IPython.core.display.HTML object>",
      "text/html": "== Status ==<br>Current time: 2021-11-24 12:34:43 (running for 00:02:29.84)<br>Memory usage on this node: 10.7/11.9 GiB<br>Using FIFO scheduling algorithm.<br>Resources requested: 3.0/3 CPUs, 0/0 GPUs, 0.0/1.51 GiB heap, 0.0/0.75 GiB objects<br>Result logdir: C:\\Users\\Stefan\\git-repos\\work\\mobile-env\\examples\\PPO_2021-11-24_12-32-13<br>Number of trials: 1/1 (1 RUNNING)<br><table>\n<thead>\n<tr><th>Trial name                        </th><th>status  </th><th>loc           </th><th style=\"text-align: right;\">  iter</th><th style=\"text-align: right;\">  total time (s)</th><th style=\"text-align: right;\">   ts</th><th style=\"text-align: right;\">  reward</th><th style=\"text-align: right;\">  episode_reward_max</th><th style=\"text-align: right;\">  episode_reward_min</th><th style=\"text-align: right;\">  episode_len_mean</th></tr>\n</thead>\n<tbody>\n<tr><td>PPO_mobile-small-ma-v0_2b82d_00000</td><td>RUNNING </td><td>127.0.0.1:7956</td><td style=\"text-align: right;\">     3</td><td style=\"text-align: right;\">         113.562</td><td style=\"text-align: right;\">12000</td><td style=\"text-align: right;\">-123.123</td><td style=\"text-align: right;\">              26.011</td><td style=\"text-align: right;\">             -324.75</td><td style=\"text-align: right;\">               100</td></tr>\n</tbody>\n</table><br><br>"
     },
     "metadata": {},
     "output_type": "display_data"
    },
    {
     "data": {
      "text/plain": "<IPython.core.display.HTML object>",
      "text/html": "== Status ==<br>Current time: 2021-11-24 12:34:49 (running for 00:02:35.89)<br>Memory usage on this node: 10.6/11.9 GiB<br>Using FIFO scheduling algorithm.<br>Resources requested: 3.0/3 CPUs, 0/0 GPUs, 0.0/1.51 GiB heap, 0.0/0.75 GiB objects<br>Result logdir: C:\\Users\\Stefan\\git-repos\\work\\mobile-env\\examples\\PPO_2021-11-24_12-32-13<br>Number of trials: 1/1 (1 RUNNING)<br><table>\n<thead>\n<tr><th>Trial name                        </th><th>status  </th><th>loc           </th><th style=\"text-align: right;\">  iter</th><th style=\"text-align: right;\">  total time (s)</th><th style=\"text-align: right;\">   ts</th><th style=\"text-align: right;\">  reward</th><th style=\"text-align: right;\">  episode_reward_max</th><th style=\"text-align: right;\">  episode_reward_min</th><th style=\"text-align: right;\">  episode_len_mean</th></tr>\n</thead>\n<tbody>\n<tr><td>PPO_mobile-small-ma-v0_2b82d_00000</td><td>RUNNING </td><td>127.0.0.1:7956</td><td style=\"text-align: right;\">     3</td><td style=\"text-align: right;\">         113.562</td><td style=\"text-align: right;\">12000</td><td style=\"text-align: right;\">-123.123</td><td style=\"text-align: right;\">              26.011</td><td style=\"text-align: right;\">             -324.75</td><td style=\"text-align: right;\">               100</td></tr>\n</tbody>\n</table><br><br>"
     },
     "metadata": {},
     "output_type": "display_data"
    },
    {
     "data": {
      "text/plain": "<IPython.core.display.HTML object>",
      "text/html": "== Status ==<br>Current time: 2021-11-24 12:34:54 (running for 00:02:40.90)<br>Memory usage on this node: 10.6/11.9 GiB<br>Using FIFO scheduling algorithm.<br>Resources requested: 3.0/3 CPUs, 0/0 GPUs, 0.0/1.51 GiB heap, 0.0/0.75 GiB objects<br>Result logdir: C:\\Users\\Stefan\\git-repos\\work\\mobile-env\\examples\\PPO_2021-11-24_12-32-13<br>Number of trials: 1/1 (1 RUNNING)<br><table>\n<thead>\n<tr><th>Trial name                        </th><th>status  </th><th>loc           </th><th style=\"text-align: right;\">  iter</th><th style=\"text-align: right;\">  total time (s)</th><th style=\"text-align: right;\">   ts</th><th style=\"text-align: right;\">  reward</th><th style=\"text-align: right;\">  episode_reward_max</th><th style=\"text-align: right;\">  episode_reward_min</th><th style=\"text-align: right;\">  episode_len_mean</th></tr>\n</thead>\n<tbody>\n<tr><td>PPO_mobile-small-ma-v0_2b82d_00000</td><td>RUNNING </td><td>127.0.0.1:7956</td><td style=\"text-align: right;\">     3</td><td style=\"text-align: right;\">         113.562</td><td style=\"text-align: right;\">12000</td><td style=\"text-align: right;\">-123.123</td><td style=\"text-align: right;\">              26.011</td><td style=\"text-align: right;\">             -324.75</td><td style=\"text-align: right;\">               100</td></tr>\n</tbody>\n</table><br><br>"
     },
     "metadata": {},
     "output_type": "display_data"
    },
    {
     "data": {
      "text/plain": "<IPython.core.display.HTML object>",
      "text/html": "== Status ==<br>Current time: 2021-11-24 12:34:59 (running for 00:02:45.97)<br>Memory usage on this node: 10.6/11.9 GiB<br>Using FIFO scheduling algorithm.<br>Resources requested: 3.0/3 CPUs, 0/0 GPUs, 0.0/1.51 GiB heap, 0.0/0.75 GiB objects<br>Result logdir: C:\\Users\\Stefan\\git-repos\\work\\mobile-env\\examples\\PPO_2021-11-24_12-32-13<br>Number of trials: 1/1 (1 RUNNING)<br><table>\n<thead>\n<tr><th>Trial name                        </th><th>status  </th><th>loc           </th><th style=\"text-align: right;\">  iter</th><th style=\"text-align: right;\">  total time (s)</th><th style=\"text-align: right;\">   ts</th><th style=\"text-align: right;\">  reward</th><th style=\"text-align: right;\">  episode_reward_max</th><th style=\"text-align: right;\">  episode_reward_min</th><th style=\"text-align: right;\">  episode_len_mean</th></tr>\n</thead>\n<tbody>\n<tr><td>PPO_mobile-small-ma-v0_2b82d_00000</td><td>RUNNING </td><td>127.0.0.1:7956</td><td style=\"text-align: right;\">     3</td><td style=\"text-align: right;\">         113.562</td><td style=\"text-align: right;\">12000</td><td style=\"text-align: right;\">-123.123</td><td style=\"text-align: right;\">              26.011</td><td style=\"text-align: right;\">             -324.75</td><td style=\"text-align: right;\">               100</td></tr>\n</tbody>\n</table><br><br>"
     },
     "metadata": {},
     "output_type": "display_data"
    },
    {
     "data": {
      "text/plain": "<IPython.core.display.HTML object>",
      "text/html": "== Status ==<br>Current time: 2021-11-24 12:35:04 (running for 00:02:51.02)<br>Memory usage on this node: 10.6/11.9 GiB<br>Using FIFO scheduling algorithm.<br>Resources requested: 3.0/3 CPUs, 0/0 GPUs, 0.0/1.51 GiB heap, 0.0/0.75 GiB objects<br>Result logdir: C:\\Users\\Stefan\\git-repos\\work\\mobile-env\\examples\\PPO_2021-11-24_12-32-13<br>Number of trials: 1/1 (1 RUNNING)<br><table>\n<thead>\n<tr><th>Trial name                        </th><th>status  </th><th>loc           </th><th style=\"text-align: right;\">  iter</th><th style=\"text-align: right;\">  total time (s)</th><th style=\"text-align: right;\">   ts</th><th style=\"text-align: right;\">  reward</th><th style=\"text-align: right;\">  episode_reward_max</th><th style=\"text-align: right;\">  episode_reward_min</th><th style=\"text-align: right;\">  episode_len_mean</th></tr>\n</thead>\n<tbody>\n<tr><td>PPO_mobile-small-ma-v0_2b82d_00000</td><td>RUNNING </td><td>127.0.0.1:7956</td><td style=\"text-align: right;\">     3</td><td style=\"text-align: right;\">         113.562</td><td style=\"text-align: right;\">12000</td><td style=\"text-align: right;\">-123.123</td><td style=\"text-align: right;\">              26.011</td><td style=\"text-align: right;\">             -324.75</td><td style=\"text-align: right;\">               100</td></tr>\n</tbody>\n</table><br><br>"
     },
     "metadata": {},
     "output_type": "display_data"
    },
    {
     "data": {
      "text/plain": "<IPython.core.display.HTML object>",
      "text/html": "== Status ==<br>Current time: 2021-11-24 12:35:09 (running for 00:02:56.10)<br>Memory usage on this node: 10.6/11.9 GiB<br>Using FIFO scheduling algorithm.<br>Resources requested: 3.0/3 CPUs, 0/0 GPUs, 0.0/1.51 GiB heap, 0.0/0.75 GiB objects<br>Result logdir: C:\\Users\\Stefan\\git-repos\\work\\mobile-env\\examples\\PPO_2021-11-24_12-32-13<br>Number of trials: 1/1 (1 RUNNING)<br><table>\n<thead>\n<tr><th>Trial name                        </th><th>status  </th><th>loc           </th><th style=\"text-align: right;\">  iter</th><th style=\"text-align: right;\">  total time (s)</th><th style=\"text-align: right;\">   ts</th><th style=\"text-align: right;\">  reward</th><th style=\"text-align: right;\">  episode_reward_max</th><th style=\"text-align: right;\">  episode_reward_min</th><th style=\"text-align: right;\">  episode_len_mean</th></tr>\n</thead>\n<tbody>\n<tr><td>PPO_mobile-small-ma-v0_2b82d_00000</td><td>RUNNING </td><td>127.0.0.1:7956</td><td style=\"text-align: right;\">     3</td><td style=\"text-align: right;\">         113.562</td><td style=\"text-align: right;\">12000</td><td style=\"text-align: right;\">-123.123</td><td style=\"text-align: right;\">              26.011</td><td style=\"text-align: right;\">             -324.75</td><td style=\"text-align: right;\">               100</td></tr>\n</tbody>\n</table><br><br>"
     },
     "metadata": {},
     "output_type": "display_data"
    },
    {
     "data": {
      "text/plain": "<IPython.core.display.HTML object>",
      "text/html": "== Status ==<br>Current time: 2021-11-24 12:35:14 (running for 00:03:01.15)<br>Memory usage on this node: 10.6/11.9 GiB<br>Using FIFO scheduling algorithm.<br>Resources requested: 3.0/3 CPUs, 0/0 GPUs, 0.0/1.51 GiB heap, 0.0/0.75 GiB objects<br>Result logdir: C:\\Users\\Stefan\\git-repos\\work\\mobile-env\\examples\\PPO_2021-11-24_12-32-13<br>Number of trials: 1/1 (1 RUNNING)<br><table>\n<thead>\n<tr><th>Trial name                        </th><th>status  </th><th>loc           </th><th style=\"text-align: right;\">  iter</th><th style=\"text-align: right;\">  total time (s)</th><th style=\"text-align: right;\">   ts</th><th style=\"text-align: right;\">  reward</th><th style=\"text-align: right;\">  episode_reward_max</th><th style=\"text-align: right;\">  episode_reward_min</th><th style=\"text-align: right;\">  episode_len_mean</th></tr>\n</thead>\n<tbody>\n<tr><td>PPO_mobile-small-ma-v0_2b82d_00000</td><td>RUNNING </td><td>127.0.0.1:7956</td><td style=\"text-align: right;\">     3</td><td style=\"text-align: right;\">         113.562</td><td style=\"text-align: right;\">12000</td><td style=\"text-align: right;\">-123.123</td><td style=\"text-align: right;\">              26.011</td><td style=\"text-align: right;\">             -324.75</td><td style=\"text-align: right;\">               100</td></tr>\n</tbody>\n</table><br><br>"
     },
     "metadata": {},
     "output_type": "display_data"
    },
    {
     "name": "stdout",
     "output_type": "stream",
     "text": [
      "Result for PPO_mobile-small-ma-v0_2b82d_00000:\n",
      "  agent_timesteps_total: 80000\n",
      "  custom_metrics: {}\n",
      "  date: 2021-11-24_12-35-14\n",
      "  done: false\n",
      "  episode_len_mean: 100.0\n",
      "  episode_media: {}\n",
      "  episode_reward_max: 26.011023298586956\n",
      "  episode_reward_mean: -87.9172788083747\n",
      "  episode_reward_min: -308.37925235206995\n",
      "  episodes_this_iter: 40\n",
      "  episodes_total: 160\n",
      "  experiment_id: 4e540bfa436c40ce885eae70b7b6ac0e\n",
      "  hostname: nb-stschn\n",
      "  info:\n",
      "    learner:\n",
      "      shared_policy:\n",
      "        custom_metrics: {}\n",
      "        learner_stats:\n",
      "          cur_kl_coeff: 0.20000000298023224\n",
      "          cur_lr: 4.999999873689376e-05\n",
      "          entropy: 1.272882342338562\n",
      "          entropy_coeff: 0.0\n",
      "          kl: 0.009863310493528843\n",
      "          model: {}\n",
      "          policy_loss: -0.006680862046778202\n",
      "          total_loss: 65.5313949584961\n",
      "          vf_explained_var: -0.3546501100063324\n",
      "          vf_loss: 65.5361099243164\n",
      "    num_agent_steps_sampled: 80000\n",
      "    num_agent_steps_trained: 80000\n",
      "    num_steps_sampled: 16000\n",
      "    num_steps_trained: 16000\n",
      "    num_steps_trained_this_iter: 0\n",
      "  iterations_since_restore: 4\n",
      "  node_ip: 127.0.0.1\n",
      "  num_healthy_workers: 2\n",
      "  off_policy_estimator: {}\n",
      "  perf:\n",
      "    cpu_util_percent: 71.10377358490568\n",
      "    ram_util_percent: 89.30377358490568\n",
      "  pid: 7956\n",
      "  policy_reward_max:\n",
      "    shared_policy: 14.752608853599225\n",
      "  policy_reward_mean:\n",
      "    shared_policy: -17.58345576167494\n",
      "  policy_reward_min:\n",
      "    shared_policy: -94.77753739714078\n",
      "  sampler_perf:\n",
      "    mean_action_processing_ms: 0.19151596104695695\n",
      "    mean_env_render_ms: 0.0\n",
      "    mean_env_wait_ms: 6.6273575326303185\n",
      "    mean_inference_ms: 1.6293983809364516\n",
      "    mean_raw_obs_processing_ms: 0.45260545459694024\n",
      "  time_since_restore: 150.9406440258026\n",
      "  time_this_iter_s: 37.37844514846802\n",
      "  time_total_s: 150.9406440258026\n",
      "  timers:\n",
      "    learn_throughput: 206.708\n",
      "    learn_time_ms: 19350.995\n",
      "    load_throughput: 0.0\n",
      "    load_time_ms: 0.0\n",
      "    sample_throughput: 119.932\n",
      "    sample_time_ms: 33352.117\n",
      "    update_time_ms: 1.749\n",
      "  timestamp: 1637753714\n",
      "  timesteps_since_restore: 0\n",
      "  timesteps_this_iter: 0\n",
      "  timesteps_total: 16000\n",
      "  training_iteration: 4\n",
      "  trial_id: 2b82d_00000\n",
      "  \n"
     ]
    },
    {
     "data": {
      "text/plain": "<IPython.core.display.HTML object>",
      "text/html": "== Status ==<br>Current time: 2021-11-24 12:35:19 (running for 00:03:06.31)<br>Memory usage on this node: 10.6/11.9 GiB<br>Using FIFO scheduling algorithm.<br>Resources requested: 3.0/3 CPUs, 0/0 GPUs, 0.0/1.51 GiB heap, 0.0/0.75 GiB objects<br>Result logdir: C:\\Users\\Stefan\\git-repos\\work\\mobile-env\\examples\\PPO_2021-11-24_12-32-13<br>Number of trials: 1/1 (1 RUNNING)<br><table>\n<thead>\n<tr><th>Trial name                        </th><th>status  </th><th>loc           </th><th style=\"text-align: right;\">  iter</th><th style=\"text-align: right;\">  total time (s)</th><th style=\"text-align: right;\">   ts</th><th style=\"text-align: right;\">  reward</th><th style=\"text-align: right;\">  episode_reward_max</th><th style=\"text-align: right;\">  episode_reward_min</th><th style=\"text-align: right;\">  episode_len_mean</th></tr>\n</thead>\n<tbody>\n<tr><td>PPO_mobile-small-ma-v0_2b82d_00000</td><td>RUNNING </td><td>127.0.0.1:7956</td><td style=\"text-align: right;\">     4</td><td style=\"text-align: right;\">         150.941</td><td style=\"text-align: right;\">16000</td><td style=\"text-align: right;\">-87.9173</td><td style=\"text-align: right;\">              26.011</td><td style=\"text-align: right;\">            -308.379</td><td style=\"text-align: right;\">               100</td></tr>\n</tbody>\n</table><br><br>"
     },
     "metadata": {},
     "output_type": "display_data"
    },
    {
     "data": {
      "text/plain": "<IPython.core.display.HTML object>",
      "text/html": "== Status ==<br>Current time: 2021-11-24 12:35:24 (running for 00:03:11.33)<br>Memory usage on this node: 10.4/11.9 GiB<br>Using FIFO scheduling algorithm.<br>Resources requested: 3.0/3 CPUs, 0/0 GPUs, 0.0/1.51 GiB heap, 0.0/0.75 GiB objects<br>Result logdir: C:\\Users\\Stefan\\git-repos\\work\\mobile-env\\examples\\PPO_2021-11-24_12-32-13<br>Number of trials: 1/1 (1 RUNNING)<br><table>\n<thead>\n<tr><th>Trial name                        </th><th>status  </th><th>loc           </th><th style=\"text-align: right;\">  iter</th><th style=\"text-align: right;\">  total time (s)</th><th style=\"text-align: right;\">   ts</th><th style=\"text-align: right;\">  reward</th><th style=\"text-align: right;\">  episode_reward_max</th><th style=\"text-align: right;\">  episode_reward_min</th><th style=\"text-align: right;\">  episode_len_mean</th></tr>\n</thead>\n<tbody>\n<tr><td>PPO_mobile-small-ma-v0_2b82d_00000</td><td>RUNNING </td><td>127.0.0.1:7956</td><td style=\"text-align: right;\">     4</td><td style=\"text-align: right;\">         150.941</td><td style=\"text-align: right;\">16000</td><td style=\"text-align: right;\">-87.9173</td><td style=\"text-align: right;\">              26.011</td><td style=\"text-align: right;\">            -308.379</td><td style=\"text-align: right;\">               100</td></tr>\n</tbody>\n</table><br><br>"
     },
     "metadata": {},
     "output_type": "display_data"
    },
    {
     "data": {
      "text/plain": "<IPython.core.display.HTML object>",
      "text/html": "== Status ==<br>Current time: 2021-11-24 12:35:29 (running for 00:03:16.35)<br>Memory usage on this node: 10.4/11.9 GiB<br>Using FIFO scheduling algorithm.<br>Resources requested: 3.0/3 CPUs, 0/0 GPUs, 0.0/1.51 GiB heap, 0.0/0.75 GiB objects<br>Result logdir: C:\\Users\\Stefan\\git-repos\\work\\mobile-env\\examples\\PPO_2021-11-24_12-32-13<br>Number of trials: 1/1 (1 RUNNING)<br><table>\n<thead>\n<tr><th>Trial name                        </th><th>status  </th><th>loc           </th><th style=\"text-align: right;\">  iter</th><th style=\"text-align: right;\">  total time (s)</th><th style=\"text-align: right;\">   ts</th><th style=\"text-align: right;\">  reward</th><th style=\"text-align: right;\">  episode_reward_max</th><th style=\"text-align: right;\">  episode_reward_min</th><th style=\"text-align: right;\">  episode_len_mean</th></tr>\n</thead>\n<tbody>\n<tr><td>PPO_mobile-small-ma-v0_2b82d_00000</td><td>RUNNING </td><td>127.0.0.1:7956</td><td style=\"text-align: right;\">     4</td><td style=\"text-align: right;\">         150.941</td><td style=\"text-align: right;\">16000</td><td style=\"text-align: right;\">-87.9173</td><td style=\"text-align: right;\">              26.011</td><td style=\"text-align: right;\">            -308.379</td><td style=\"text-align: right;\">               100</td></tr>\n</tbody>\n</table><br><br>"
     },
     "metadata": {},
     "output_type": "display_data"
    },
    {
     "data": {
      "text/plain": "<IPython.core.display.HTML object>",
      "text/html": "== Status ==<br>Current time: 2021-11-24 12:35:34 (running for 00:03:21.36)<br>Memory usage on this node: 10.4/11.9 GiB<br>Using FIFO scheduling algorithm.<br>Resources requested: 3.0/3 CPUs, 0/0 GPUs, 0.0/1.51 GiB heap, 0.0/0.75 GiB objects<br>Result logdir: C:\\Users\\Stefan\\git-repos\\work\\mobile-env\\examples\\PPO_2021-11-24_12-32-13<br>Number of trials: 1/1 (1 RUNNING)<br><table>\n<thead>\n<tr><th>Trial name                        </th><th>status  </th><th>loc           </th><th style=\"text-align: right;\">  iter</th><th style=\"text-align: right;\">  total time (s)</th><th style=\"text-align: right;\">   ts</th><th style=\"text-align: right;\">  reward</th><th style=\"text-align: right;\">  episode_reward_max</th><th style=\"text-align: right;\">  episode_reward_min</th><th style=\"text-align: right;\">  episode_len_mean</th></tr>\n</thead>\n<tbody>\n<tr><td>PPO_mobile-small-ma-v0_2b82d_00000</td><td>RUNNING </td><td>127.0.0.1:7956</td><td style=\"text-align: right;\">     4</td><td style=\"text-align: right;\">         150.941</td><td style=\"text-align: right;\">16000</td><td style=\"text-align: right;\">-87.9173</td><td style=\"text-align: right;\">              26.011</td><td style=\"text-align: right;\">            -308.379</td><td style=\"text-align: right;\">               100</td></tr>\n</tbody>\n</table><br><br>"
     },
     "metadata": {},
     "output_type": "display_data"
    },
    {
     "data": {
      "text/plain": "<IPython.core.display.HTML object>",
      "text/html": "== Status ==<br>Current time: 2021-11-24 12:35:40 (running for 00:03:26.44)<br>Memory usage on this node: 10.5/11.9 GiB<br>Using FIFO scheduling algorithm.<br>Resources requested: 3.0/3 CPUs, 0/0 GPUs, 0.0/1.51 GiB heap, 0.0/0.75 GiB objects<br>Result logdir: C:\\Users\\Stefan\\git-repos\\work\\mobile-env\\examples\\PPO_2021-11-24_12-32-13<br>Number of trials: 1/1 (1 RUNNING)<br><table>\n<thead>\n<tr><th>Trial name                        </th><th>status  </th><th>loc           </th><th style=\"text-align: right;\">  iter</th><th style=\"text-align: right;\">  total time (s)</th><th style=\"text-align: right;\">   ts</th><th style=\"text-align: right;\">  reward</th><th style=\"text-align: right;\">  episode_reward_max</th><th style=\"text-align: right;\">  episode_reward_min</th><th style=\"text-align: right;\">  episode_len_mean</th></tr>\n</thead>\n<tbody>\n<tr><td>PPO_mobile-small-ma-v0_2b82d_00000</td><td>RUNNING </td><td>127.0.0.1:7956</td><td style=\"text-align: right;\">     4</td><td style=\"text-align: right;\">         150.941</td><td style=\"text-align: right;\">16000</td><td style=\"text-align: right;\">-87.9173</td><td style=\"text-align: right;\">              26.011</td><td style=\"text-align: right;\">            -308.379</td><td style=\"text-align: right;\">               100</td></tr>\n</tbody>\n</table><br><br>"
     },
     "metadata": {},
     "output_type": "display_data"
    },
    {
     "data": {
      "text/plain": "<IPython.core.display.HTML object>",
      "text/html": "== Status ==<br>Current time: 2021-11-24 12:35:45 (running for 00:03:31.67)<br>Memory usage on this node: 10.5/11.9 GiB<br>Using FIFO scheduling algorithm.<br>Resources requested: 3.0/3 CPUs, 0/0 GPUs, 0.0/1.51 GiB heap, 0.0/0.75 GiB objects<br>Result logdir: C:\\Users\\Stefan\\git-repos\\work\\mobile-env\\examples\\PPO_2021-11-24_12-32-13<br>Number of trials: 1/1 (1 RUNNING)<br><table>\n<thead>\n<tr><th>Trial name                        </th><th>status  </th><th>loc           </th><th style=\"text-align: right;\">  iter</th><th style=\"text-align: right;\">  total time (s)</th><th style=\"text-align: right;\">   ts</th><th style=\"text-align: right;\">  reward</th><th style=\"text-align: right;\">  episode_reward_max</th><th style=\"text-align: right;\">  episode_reward_min</th><th style=\"text-align: right;\">  episode_len_mean</th></tr>\n</thead>\n<tbody>\n<tr><td>PPO_mobile-small-ma-v0_2b82d_00000</td><td>RUNNING </td><td>127.0.0.1:7956</td><td style=\"text-align: right;\">     4</td><td style=\"text-align: right;\">         150.941</td><td style=\"text-align: right;\">16000</td><td style=\"text-align: right;\">-87.9173</td><td style=\"text-align: right;\">              26.011</td><td style=\"text-align: right;\">            -308.379</td><td style=\"text-align: right;\">               100</td></tr>\n</tbody>\n</table><br><br>"
     },
     "metadata": {},
     "output_type": "display_data"
    },
    {
     "data": {
      "text/plain": "<IPython.core.display.HTML object>",
      "text/html": "== Status ==<br>Current time: 2021-11-24 12:35:50 (running for 00:03:36.79)<br>Memory usage on this node: 10.5/11.9 GiB<br>Using FIFO scheduling algorithm.<br>Resources requested: 3.0/3 CPUs, 0/0 GPUs, 0.0/1.51 GiB heap, 0.0/0.75 GiB objects<br>Result logdir: C:\\Users\\Stefan\\git-repos\\work\\mobile-env\\examples\\PPO_2021-11-24_12-32-13<br>Number of trials: 1/1 (1 RUNNING)<br><table>\n<thead>\n<tr><th>Trial name                        </th><th>status  </th><th>loc           </th><th style=\"text-align: right;\">  iter</th><th style=\"text-align: right;\">  total time (s)</th><th style=\"text-align: right;\">   ts</th><th style=\"text-align: right;\">  reward</th><th style=\"text-align: right;\">  episode_reward_max</th><th style=\"text-align: right;\">  episode_reward_min</th><th style=\"text-align: right;\">  episode_len_mean</th></tr>\n</thead>\n<tbody>\n<tr><td>PPO_mobile-small-ma-v0_2b82d_00000</td><td>RUNNING </td><td>127.0.0.1:7956</td><td style=\"text-align: right;\">     4</td><td style=\"text-align: right;\">         150.941</td><td style=\"text-align: right;\">16000</td><td style=\"text-align: right;\">-87.9173</td><td style=\"text-align: right;\">              26.011</td><td style=\"text-align: right;\">            -308.379</td><td style=\"text-align: right;\">               100</td></tr>\n</tbody>\n</table><br><br>"
     },
     "metadata": {},
     "output_type": "display_data"
    },
    {
     "name": "stdout",
     "output_type": "stream",
     "text": [
      "Result for PPO_mobile-small-ma-v0_2b82d_00000:\n",
      "  agent_timesteps_total: 100000\n",
      "  custom_metrics: {}\n",
      "  date: 2021-11-24_12-35-54\n",
      "  done: false\n",
      "  episode_len_mean: 100.0\n",
      "  episode_media: {}\n",
      "  episode_reward_max: 27.92399798089297\n",
      "  episode_reward_mean: -74.02029784688384\n",
      "  episode_reward_min: -308.37925235206995\n",
      "  episodes_this_iter: 40\n",
      "  episodes_total: 200\n",
      "  experiment_id: 4e540bfa436c40ce885eae70b7b6ac0e\n",
      "  hostname: nb-stschn\n",
      "  info:\n",
      "    learner:\n",
      "      shared_policy:\n",
      "        custom_metrics: {}\n",
      "        learner_stats:\n",
      "          cur_kl_coeff: 0.20000000298023224\n",
      "          cur_lr: 4.999999873689376e-05\n",
      "          entropy: 1.2363429069519043\n",
      "          entropy_coeff: 0.0\n",
      "          kl: 0.011199514381587505\n",
      "          model: {}\n",
      "          policy_loss: -0.007194239646196365\n",
      "          total_loss: 75.12138366699219\n",
      "          vf_explained_var: -0.16546496748924255\n",
      "          vf_loss: 75.12632751464844\n",
      "    num_agent_steps_sampled: 100000\n",
      "    num_agent_steps_trained: 100000\n",
      "    num_steps_sampled: 20000\n",
      "    num_steps_trained: 20000\n",
      "    num_steps_trained_this_iter: 0\n",
      "  iterations_since_restore: 5\n",
      "  node_ip: 127.0.0.1\n",
      "  num_healthy_workers: 2\n",
      "  off_policy_estimator: {}\n",
      "  perf:\n",
      "    cpu_util_percent: 72.9981818181818\n",
      "    ram_util_percent: 88.1690909090909\n",
      "  pid: 7956\n",
      "  policy_reward_max:\n",
      "    shared_policy: 37.153219674741614\n",
      "  policy_reward_mean:\n",
      "    shared_policy: -14.804059569376767\n",
      "  policy_reward_min:\n",
      "    shared_policy: -86.23027703452362\n",
      "  sampler_perf:\n",
      "    mean_action_processing_ms: 0.18999314552745905\n",
      "    mean_env_render_ms: 0.0\n",
      "    mean_env_wait_ms: 6.700066712468343\n",
      "    mean_inference_ms: 1.6190240744022761\n",
      "    mean_raw_obs_processing_ms: 0.46591634268105053\n",
      "  time_since_restore: 190.2505166530609\n",
      "  time_this_iter_s: 39.3098726272583\n",
      "  time_total_s: 190.2505166530609\n",
      "  timers:\n",
      "    learn_throughput: 199.692\n",
      "    learn_time_ms: 20030.896\n",
      "    load_throughput: 0.0\n",
      "    load_time_ms: 0.0\n",
      "    sample_throughput: 119.218\n",
      "    sample_time_ms: 33551.868\n",
      "    update_time_ms: 1.399\n",
      "  timestamp: 1637753754\n",
      "  timesteps_since_restore: 0\n",
      "  timesteps_this_iter: 0\n",
      "  timesteps_total: 20000\n",
      "  training_iteration: 5\n",
      "  trial_id: 2b82d_00000\n",
      "  \n"
     ]
    },
    {
     "data": {
      "text/plain": "<IPython.core.display.HTML object>",
      "text/html": "== Status ==<br>Current time: 2021-11-24 12:35:56 (running for 00:03:42.62)<br>Memory usage on this node: 10.5/11.9 GiB<br>Using FIFO scheduling algorithm.<br>Resources requested: 3.0/3 CPUs, 0/0 GPUs, 0.0/1.51 GiB heap, 0.0/0.75 GiB objects<br>Result logdir: C:\\Users\\Stefan\\git-repos\\work\\mobile-env\\examples\\PPO_2021-11-24_12-32-13<br>Number of trials: 1/1 (1 RUNNING)<br><table>\n<thead>\n<tr><th>Trial name                        </th><th>status  </th><th>loc           </th><th style=\"text-align: right;\">  iter</th><th style=\"text-align: right;\">  total time (s)</th><th style=\"text-align: right;\">   ts</th><th style=\"text-align: right;\">  reward</th><th style=\"text-align: right;\">  episode_reward_max</th><th style=\"text-align: right;\">  episode_reward_min</th><th style=\"text-align: right;\">  episode_len_mean</th></tr>\n</thead>\n<tbody>\n<tr><td>PPO_mobile-small-ma-v0_2b82d_00000</td><td>RUNNING </td><td>127.0.0.1:7956</td><td style=\"text-align: right;\">     5</td><td style=\"text-align: right;\">         190.251</td><td style=\"text-align: right;\">20000</td><td style=\"text-align: right;\">-74.0203</td><td style=\"text-align: right;\">              27.924</td><td style=\"text-align: right;\">            -308.379</td><td style=\"text-align: right;\">               100</td></tr>\n</tbody>\n</table><br><br>"
     },
     "metadata": {},
     "output_type": "display_data"
    },
    {
     "data": {
      "text/plain": "<IPython.core.display.HTML object>",
      "text/html": "== Status ==<br>Current time: 2021-11-24 12:36:02 (running for 00:03:48.64)<br>Memory usage on this node: 10.5/11.9 GiB<br>Using FIFO scheduling algorithm.<br>Resources requested: 3.0/3 CPUs, 0/0 GPUs, 0.0/1.51 GiB heap, 0.0/0.75 GiB objects<br>Result logdir: C:\\Users\\Stefan\\git-repos\\work\\mobile-env\\examples\\PPO_2021-11-24_12-32-13<br>Number of trials: 1/1 (1 RUNNING)<br><table>\n<thead>\n<tr><th>Trial name                        </th><th>status  </th><th>loc           </th><th style=\"text-align: right;\">  iter</th><th style=\"text-align: right;\">  total time (s)</th><th style=\"text-align: right;\">   ts</th><th style=\"text-align: right;\">  reward</th><th style=\"text-align: right;\">  episode_reward_max</th><th style=\"text-align: right;\">  episode_reward_min</th><th style=\"text-align: right;\">  episode_len_mean</th></tr>\n</thead>\n<tbody>\n<tr><td>PPO_mobile-small-ma-v0_2b82d_00000</td><td>RUNNING </td><td>127.0.0.1:7956</td><td style=\"text-align: right;\">     5</td><td style=\"text-align: right;\">         190.251</td><td style=\"text-align: right;\">20000</td><td style=\"text-align: right;\">-74.0203</td><td style=\"text-align: right;\">              27.924</td><td style=\"text-align: right;\">            -308.379</td><td style=\"text-align: right;\">               100</td></tr>\n</tbody>\n</table><br><br>"
     },
     "metadata": {},
     "output_type": "display_data"
    },
    {
     "data": {
      "text/plain": "<IPython.core.display.HTML object>",
      "text/html": "== Status ==<br>Current time: 2021-11-24 12:36:07 (running for 00:03:53.68)<br>Memory usage on this node: 10.5/11.9 GiB<br>Using FIFO scheduling algorithm.<br>Resources requested: 3.0/3 CPUs, 0/0 GPUs, 0.0/1.51 GiB heap, 0.0/0.75 GiB objects<br>Result logdir: C:\\Users\\Stefan\\git-repos\\work\\mobile-env\\examples\\PPO_2021-11-24_12-32-13<br>Number of trials: 1/1 (1 RUNNING)<br><table>\n<thead>\n<tr><th>Trial name                        </th><th>status  </th><th>loc           </th><th style=\"text-align: right;\">  iter</th><th style=\"text-align: right;\">  total time (s)</th><th style=\"text-align: right;\">   ts</th><th style=\"text-align: right;\">  reward</th><th style=\"text-align: right;\">  episode_reward_max</th><th style=\"text-align: right;\">  episode_reward_min</th><th style=\"text-align: right;\">  episode_len_mean</th></tr>\n</thead>\n<tbody>\n<tr><td>PPO_mobile-small-ma-v0_2b82d_00000</td><td>RUNNING </td><td>127.0.0.1:7956</td><td style=\"text-align: right;\">     5</td><td style=\"text-align: right;\">         190.251</td><td style=\"text-align: right;\">20000</td><td style=\"text-align: right;\">-74.0203</td><td style=\"text-align: right;\">              27.924</td><td style=\"text-align: right;\">            -308.379</td><td style=\"text-align: right;\">               100</td></tr>\n</tbody>\n</table><br><br>"
     },
     "metadata": {},
     "output_type": "display_data"
    },
    {
     "data": {
      "text/plain": "<IPython.core.display.HTML object>",
      "text/html": "== Status ==<br>Current time: 2021-11-24 12:36:12 (running for 00:03:58.98)<br>Memory usage on this node: 10.5/11.9 GiB<br>Using FIFO scheduling algorithm.<br>Resources requested: 3.0/3 CPUs, 0/0 GPUs, 0.0/1.51 GiB heap, 0.0/0.75 GiB objects<br>Result logdir: C:\\Users\\Stefan\\git-repos\\work\\mobile-env\\examples\\PPO_2021-11-24_12-32-13<br>Number of trials: 1/1 (1 RUNNING)<br><table>\n<thead>\n<tr><th>Trial name                        </th><th>status  </th><th>loc           </th><th style=\"text-align: right;\">  iter</th><th style=\"text-align: right;\">  total time (s)</th><th style=\"text-align: right;\">   ts</th><th style=\"text-align: right;\">  reward</th><th style=\"text-align: right;\">  episode_reward_max</th><th style=\"text-align: right;\">  episode_reward_min</th><th style=\"text-align: right;\">  episode_len_mean</th></tr>\n</thead>\n<tbody>\n<tr><td>PPO_mobile-small-ma-v0_2b82d_00000</td><td>RUNNING </td><td>127.0.0.1:7956</td><td style=\"text-align: right;\">     5</td><td style=\"text-align: right;\">         190.251</td><td style=\"text-align: right;\">20000</td><td style=\"text-align: right;\">-74.0203</td><td style=\"text-align: right;\">              27.924</td><td style=\"text-align: right;\">            -308.379</td><td style=\"text-align: right;\">               100</td></tr>\n</tbody>\n</table><br><br>"
     },
     "metadata": {},
     "output_type": "display_data"
    },
    {
     "data": {
      "text/plain": "<IPython.core.display.HTML object>",
      "text/html": "== Status ==<br>Current time: 2021-11-24 12:36:17 (running for 00:04:04.20)<br>Memory usage on this node: 10.5/11.9 GiB<br>Using FIFO scheduling algorithm.<br>Resources requested: 3.0/3 CPUs, 0/0 GPUs, 0.0/1.51 GiB heap, 0.0/0.75 GiB objects<br>Result logdir: C:\\Users\\Stefan\\git-repos\\work\\mobile-env\\examples\\PPO_2021-11-24_12-32-13<br>Number of trials: 1/1 (1 RUNNING)<br><table>\n<thead>\n<tr><th>Trial name                        </th><th>status  </th><th>loc           </th><th style=\"text-align: right;\">  iter</th><th style=\"text-align: right;\">  total time (s)</th><th style=\"text-align: right;\">   ts</th><th style=\"text-align: right;\">  reward</th><th style=\"text-align: right;\">  episode_reward_max</th><th style=\"text-align: right;\">  episode_reward_min</th><th style=\"text-align: right;\">  episode_len_mean</th></tr>\n</thead>\n<tbody>\n<tr><td>PPO_mobile-small-ma-v0_2b82d_00000</td><td>RUNNING </td><td>127.0.0.1:7956</td><td style=\"text-align: right;\">     5</td><td style=\"text-align: right;\">         190.251</td><td style=\"text-align: right;\">20000</td><td style=\"text-align: right;\">-74.0203</td><td style=\"text-align: right;\">              27.924</td><td style=\"text-align: right;\">            -308.379</td><td style=\"text-align: right;\">               100</td></tr>\n</tbody>\n</table><br><br>"
     },
     "metadata": {},
     "output_type": "display_data"
    },
    {
     "data": {
      "text/plain": "<IPython.core.display.HTML object>",
      "text/html": "== Status ==<br>Current time: 2021-11-24 12:36:22 (running for 00:04:09.33)<br>Memory usage on this node: 10.5/11.9 GiB<br>Using FIFO scheduling algorithm.<br>Resources requested: 3.0/3 CPUs, 0/0 GPUs, 0.0/1.51 GiB heap, 0.0/0.75 GiB objects<br>Result logdir: C:\\Users\\Stefan\\git-repos\\work\\mobile-env\\examples\\PPO_2021-11-24_12-32-13<br>Number of trials: 1/1 (1 RUNNING)<br><table>\n<thead>\n<tr><th>Trial name                        </th><th>status  </th><th>loc           </th><th style=\"text-align: right;\">  iter</th><th style=\"text-align: right;\">  total time (s)</th><th style=\"text-align: right;\">   ts</th><th style=\"text-align: right;\">  reward</th><th style=\"text-align: right;\">  episode_reward_max</th><th style=\"text-align: right;\">  episode_reward_min</th><th style=\"text-align: right;\">  episode_len_mean</th></tr>\n</thead>\n<tbody>\n<tr><td>PPO_mobile-small-ma-v0_2b82d_00000</td><td>RUNNING </td><td>127.0.0.1:7956</td><td style=\"text-align: right;\">     5</td><td style=\"text-align: right;\">         190.251</td><td style=\"text-align: right;\">20000</td><td style=\"text-align: right;\">-74.0203</td><td style=\"text-align: right;\">              27.924</td><td style=\"text-align: right;\">            -308.379</td><td style=\"text-align: right;\">               100</td></tr>\n</tbody>\n</table><br><br>"
     },
     "metadata": {},
     "output_type": "display_data"
    },
    {
     "data": {
      "text/plain": "<IPython.core.display.HTML object>",
      "text/html": "== Status ==<br>Current time: 2021-11-24 12:36:27 (running for 00:04:14.38)<br>Memory usage on this node: 10.5/11.9 GiB<br>Using FIFO scheduling algorithm.<br>Resources requested: 3.0/3 CPUs, 0/0 GPUs, 0.0/1.51 GiB heap, 0.0/0.75 GiB objects<br>Result logdir: C:\\Users\\Stefan\\git-repos\\work\\mobile-env\\examples\\PPO_2021-11-24_12-32-13<br>Number of trials: 1/1 (1 RUNNING)<br><table>\n<thead>\n<tr><th>Trial name                        </th><th>status  </th><th>loc           </th><th style=\"text-align: right;\">  iter</th><th style=\"text-align: right;\">  total time (s)</th><th style=\"text-align: right;\">   ts</th><th style=\"text-align: right;\">  reward</th><th style=\"text-align: right;\">  episode_reward_max</th><th style=\"text-align: right;\">  episode_reward_min</th><th style=\"text-align: right;\">  episode_len_mean</th></tr>\n</thead>\n<tbody>\n<tr><td>PPO_mobile-small-ma-v0_2b82d_00000</td><td>RUNNING </td><td>127.0.0.1:7956</td><td style=\"text-align: right;\">     5</td><td style=\"text-align: right;\">         190.251</td><td style=\"text-align: right;\">20000</td><td style=\"text-align: right;\">-74.0203</td><td style=\"text-align: right;\">              27.924</td><td style=\"text-align: right;\">            -308.379</td><td style=\"text-align: right;\">               100</td></tr>\n</tbody>\n</table><br><br>"
     },
     "metadata": {},
     "output_type": "display_data"
    },
    {
     "data": {
      "text/plain": "<IPython.core.display.HTML object>",
      "text/html": "== Status ==<br>Current time: 2021-11-24 12:36:33 (running for 00:04:19.54)<br>Memory usage on this node: 10.5/11.9 GiB<br>Using FIFO scheduling algorithm.<br>Resources requested: 3.0/3 CPUs, 0/0 GPUs, 0.0/1.51 GiB heap, 0.0/0.75 GiB objects<br>Result logdir: C:\\Users\\Stefan\\git-repos\\work\\mobile-env\\examples\\PPO_2021-11-24_12-32-13<br>Number of trials: 1/1 (1 RUNNING)<br><table>\n<thead>\n<tr><th>Trial name                        </th><th>status  </th><th>loc           </th><th style=\"text-align: right;\">  iter</th><th style=\"text-align: right;\">  total time (s)</th><th style=\"text-align: right;\">   ts</th><th style=\"text-align: right;\">  reward</th><th style=\"text-align: right;\">  episode_reward_max</th><th style=\"text-align: right;\">  episode_reward_min</th><th style=\"text-align: right;\">  episode_len_mean</th></tr>\n</thead>\n<tbody>\n<tr><td>PPO_mobile-small-ma-v0_2b82d_00000</td><td>RUNNING </td><td>127.0.0.1:7956</td><td style=\"text-align: right;\">     5</td><td style=\"text-align: right;\">         190.251</td><td style=\"text-align: right;\">20000</td><td style=\"text-align: right;\">-74.0203</td><td style=\"text-align: right;\">              27.924</td><td style=\"text-align: right;\">            -308.379</td><td style=\"text-align: right;\">               100</td></tr>\n</tbody>\n</table><br><br>"
     },
     "metadata": {},
     "output_type": "display_data"
    },
    {
     "data": {
      "text/plain": "<IPython.core.display.HTML object>",
      "text/html": "== Status ==<br>Current time: 2021-11-24 12:36:38 (running for 00:04:24.57)<br>Memory usage on this node: 10.5/11.9 GiB<br>Using FIFO scheduling algorithm.<br>Resources requested: 3.0/3 CPUs, 0/0 GPUs, 0.0/1.51 GiB heap, 0.0/0.75 GiB objects<br>Result logdir: C:\\Users\\Stefan\\git-repos\\work\\mobile-env\\examples\\PPO_2021-11-24_12-32-13<br>Number of trials: 1/1 (1 RUNNING)<br><table>\n<thead>\n<tr><th>Trial name                        </th><th>status  </th><th>loc           </th><th style=\"text-align: right;\">  iter</th><th style=\"text-align: right;\">  total time (s)</th><th style=\"text-align: right;\">   ts</th><th style=\"text-align: right;\">  reward</th><th style=\"text-align: right;\">  episode_reward_max</th><th style=\"text-align: right;\">  episode_reward_min</th><th style=\"text-align: right;\">  episode_len_mean</th></tr>\n</thead>\n<tbody>\n<tr><td>PPO_mobile-small-ma-v0_2b82d_00000</td><td>RUNNING </td><td>127.0.0.1:7956</td><td style=\"text-align: right;\">     5</td><td style=\"text-align: right;\">         190.251</td><td style=\"text-align: right;\">20000</td><td style=\"text-align: right;\">-74.0203</td><td style=\"text-align: right;\">              27.924</td><td style=\"text-align: right;\">            -308.379</td><td style=\"text-align: right;\">               100</td></tr>\n</tbody>\n</table><br><br>"
     },
     "metadata": {},
     "output_type": "display_data"
    },
    {
     "name": "stdout",
     "output_type": "stream",
     "text": [
      "Result for PPO_mobile-small-ma-v0_2b82d_00000:\n",
      "  agent_timesteps_total: 120000\n",
      "  custom_metrics: {}\n",
      "  date: 2021-11-24_12-36-38\n",
      "  done: false\n",
      "  episode_len_mean: 100.0\n",
      "  episode_media: {}\n",
      "  episode_reward_max: 32.00511647140962\n",
      "  episode_reward_mean: -63.05783606921642\n",
      "  episode_reward_min: -166.7868669415777\n",
      "  episodes_this_iter: 40\n",
      "  episodes_total: 240\n",
      "  experiment_id: 4e540bfa436c40ce885eae70b7b6ac0e\n",
      "  hostname: nb-stschn\n",
      "  info:\n",
      "    learner:\n",
      "      shared_policy:\n",
      "        custom_metrics: {}\n",
      "        learner_stats:\n",
      "          cur_kl_coeff: 0.20000000298023224\n",
      "          cur_lr: 4.999999873689376e-05\n",
      "          entropy: 1.2105662822723389\n",
      "          entropy_coeff: 0.0\n",
      "          kl: 0.008601279929280281\n",
      "          model: {}\n",
      "          policy_loss: -0.005161717534065247\n",
      "          total_loss: 66.13565063476562\n",
      "          vf_explained_var: -0.18167948722839355\n",
      "          vf_loss: 66.13909149169922\n",
      "    num_agent_steps_sampled: 120000\n",
      "    num_agent_steps_trained: 120000\n",
      "    num_steps_sampled: 24000\n",
      "    num_steps_trained: 24000\n",
      "    num_steps_trained_this_iter: 0\n",
      "  iterations_since_restore: 6\n",
      "  node_ip: 127.0.0.1\n",
      "  num_healthy_workers: 2\n",
      "  off_policy_estimator: {}\n",
      "  perf:\n",
      "    cpu_util_percent: 80.84666666666666\n",
      "    ram_util_percent: 88.13499999999999\n",
      "  pid: 7956\n",
      "  policy_reward_max:\n",
      "    shared_policy: 37.153219674741614\n",
      "  policy_reward_mean:\n",
      "    shared_policy: -12.611567213843283\n",
      "  policy_reward_min:\n",
      "    shared_policy: -77.32211039258436\n",
      "  sampler_perf:\n",
      "    mean_action_processing_ms: 0.18781763969726537\n",
      "    mean_env_render_ms: 0.0\n",
      "    mean_env_wait_ms: 6.793050669285408\n",
      "    mean_inference_ms: 1.6410687220957636\n",
      "    mean_raw_obs_processing_ms: 0.4787712232489312\n",
      "  time_since_restore: 234.50923705101013\n",
      "  time_this_iter_s: 44.25872039794922\n",
      "  time_total_s: 234.50923705101013\n",
      "  timers:\n",
      "    learn_throughput: 197.207\n",
      "    learn_time_ms: 20283.272\n",
      "    load_throughput: 0.0\n",
      "    load_time_ms: 0.0\n",
      "    sample_throughput: 112.522\n",
      "    sample_time_ms: 35548.465\n",
      "    update_time_ms: 1.832\n",
      "  timestamp: 1637753798\n",
      "  timesteps_since_restore: 0\n",
      "  timesteps_this_iter: 0\n",
      "  timesteps_total: 24000\n",
      "  training_iteration: 6\n",
      "  trial_id: 2b82d_00000\n",
      "  \n"
     ]
    },
    {
     "data": {
      "text/plain": "<IPython.core.display.HTML object>",
      "text/html": "== Status ==<br>Current time: 2021-11-24 12:36:43 (running for 00:04:29.98)<br>Memory usage on this node: 10.5/11.9 GiB<br>Using FIFO scheduling algorithm.<br>Resources requested: 3.0/3 CPUs, 0/0 GPUs, 0.0/1.51 GiB heap, 0.0/0.75 GiB objects<br>Result logdir: C:\\Users\\Stefan\\git-repos\\work\\mobile-env\\examples\\PPO_2021-11-24_12-32-13<br>Number of trials: 1/1 (1 RUNNING)<br><table>\n<thead>\n<tr><th>Trial name                        </th><th>status  </th><th>loc           </th><th style=\"text-align: right;\">  iter</th><th style=\"text-align: right;\">  total time (s)</th><th style=\"text-align: right;\">   ts</th><th style=\"text-align: right;\">  reward</th><th style=\"text-align: right;\">  episode_reward_max</th><th style=\"text-align: right;\">  episode_reward_min</th><th style=\"text-align: right;\">  episode_len_mean</th></tr>\n</thead>\n<tbody>\n<tr><td>PPO_mobile-small-ma-v0_2b82d_00000</td><td>RUNNING </td><td>127.0.0.1:7956</td><td style=\"text-align: right;\">     6</td><td style=\"text-align: right;\">         234.509</td><td style=\"text-align: right;\">24000</td><td style=\"text-align: right;\">-63.0578</td><td style=\"text-align: right;\">             32.0051</td><td style=\"text-align: right;\">            -166.787</td><td style=\"text-align: right;\">               100</td></tr>\n</tbody>\n</table><br><br>"
     },
     "metadata": {},
     "output_type": "display_data"
    },
    {
     "data": {
      "text/plain": "<IPython.core.display.HTML object>",
      "text/html": "== Status ==<br>Current time: 2021-11-24 12:36:48 (running for 00:04:35.01)<br>Memory usage on this node: 10.5/11.9 GiB<br>Using FIFO scheduling algorithm.<br>Resources requested: 3.0/3 CPUs, 0/0 GPUs, 0.0/1.51 GiB heap, 0.0/0.75 GiB objects<br>Result logdir: C:\\Users\\Stefan\\git-repos\\work\\mobile-env\\examples\\PPO_2021-11-24_12-32-13<br>Number of trials: 1/1 (1 RUNNING)<br><table>\n<thead>\n<tr><th>Trial name                        </th><th>status  </th><th>loc           </th><th style=\"text-align: right;\">  iter</th><th style=\"text-align: right;\">  total time (s)</th><th style=\"text-align: right;\">   ts</th><th style=\"text-align: right;\">  reward</th><th style=\"text-align: right;\">  episode_reward_max</th><th style=\"text-align: right;\">  episode_reward_min</th><th style=\"text-align: right;\">  episode_len_mean</th></tr>\n</thead>\n<tbody>\n<tr><td>PPO_mobile-small-ma-v0_2b82d_00000</td><td>RUNNING </td><td>127.0.0.1:7956</td><td style=\"text-align: right;\">     6</td><td style=\"text-align: right;\">         234.509</td><td style=\"text-align: right;\">24000</td><td style=\"text-align: right;\">-63.0578</td><td style=\"text-align: right;\">             32.0051</td><td style=\"text-align: right;\">            -166.787</td><td style=\"text-align: right;\">               100</td></tr>\n</tbody>\n</table><br><br>"
     },
     "metadata": {},
     "output_type": "display_data"
    },
    {
     "data": {
      "text/plain": "<IPython.core.display.HTML object>",
      "text/html": "== Status ==<br>Current time: 2021-11-24 12:36:53 (running for 00:04:40.05)<br>Memory usage on this node: 10.5/11.9 GiB<br>Using FIFO scheduling algorithm.<br>Resources requested: 3.0/3 CPUs, 0/0 GPUs, 0.0/1.51 GiB heap, 0.0/0.75 GiB objects<br>Result logdir: C:\\Users\\Stefan\\git-repos\\work\\mobile-env\\examples\\PPO_2021-11-24_12-32-13<br>Number of trials: 1/1 (1 RUNNING)<br><table>\n<thead>\n<tr><th>Trial name                        </th><th>status  </th><th>loc           </th><th style=\"text-align: right;\">  iter</th><th style=\"text-align: right;\">  total time (s)</th><th style=\"text-align: right;\">   ts</th><th style=\"text-align: right;\">  reward</th><th style=\"text-align: right;\">  episode_reward_max</th><th style=\"text-align: right;\">  episode_reward_min</th><th style=\"text-align: right;\">  episode_len_mean</th></tr>\n</thead>\n<tbody>\n<tr><td>PPO_mobile-small-ma-v0_2b82d_00000</td><td>RUNNING </td><td>127.0.0.1:7956</td><td style=\"text-align: right;\">     6</td><td style=\"text-align: right;\">         234.509</td><td style=\"text-align: right;\">24000</td><td style=\"text-align: right;\">-63.0578</td><td style=\"text-align: right;\">             32.0051</td><td style=\"text-align: right;\">            -166.787</td><td style=\"text-align: right;\">               100</td></tr>\n</tbody>\n</table><br><br>"
     },
     "metadata": {},
     "output_type": "display_data"
    },
    {
     "data": {
      "text/plain": "<IPython.core.display.HTML object>",
      "text/html": "== Status ==<br>Current time: 2021-11-24 12:36:58 (running for 00:04:45.08)<br>Memory usage on this node: 10.5/11.9 GiB<br>Using FIFO scheduling algorithm.<br>Resources requested: 3.0/3 CPUs, 0/0 GPUs, 0.0/1.51 GiB heap, 0.0/0.75 GiB objects<br>Result logdir: C:\\Users\\Stefan\\git-repos\\work\\mobile-env\\examples\\PPO_2021-11-24_12-32-13<br>Number of trials: 1/1 (1 RUNNING)<br><table>\n<thead>\n<tr><th>Trial name                        </th><th>status  </th><th>loc           </th><th style=\"text-align: right;\">  iter</th><th style=\"text-align: right;\">  total time (s)</th><th style=\"text-align: right;\">   ts</th><th style=\"text-align: right;\">  reward</th><th style=\"text-align: right;\">  episode_reward_max</th><th style=\"text-align: right;\">  episode_reward_min</th><th style=\"text-align: right;\">  episode_len_mean</th></tr>\n</thead>\n<tbody>\n<tr><td>PPO_mobile-small-ma-v0_2b82d_00000</td><td>RUNNING </td><td>127.0.0.1:7956</td><td style=\"text-align: right;\">     6</td><td style=\"text-align: right;\">         234.509</td><td style=\"text-align: right;\">24000</td><td style=\"text-align: right;\">-63.0578</td><td style=\"text-align: right;\">             32.0051</td><td style=\"text-align: right;\">            -166.787</td><td style=\"text-align: right;\">               100</td></tr>\n</tbody>\n</table><br><br>"
     },
     "metadata": {},
     "output_type": "display_data"
    },
    {
     "data": {
      "text/plain": "<IPython.core.display.HTML object>",
      "text/html": "== Status ==<br>Current time: 2021-11-24 12:37:03 (running for 00:04:50.16)<br>Memory usage on this node: 10.5/11.9 GiB<br>Using FIFO scheduling algorithm.<br>Resources requested: 3.0/3 CPUs, 0/0 GPUs, 0.0/1.51 GiB heap, 0.0/0.75 GiB objects<br>Result logdir: C:\\Users\\Stefan\\git-repos\\work\\mobile-env\\examples\\PPO_2021-11-24_12-32-13<br>Number of trials: 1/1 (1 RUNNING)<br><table>\n<thead>\n<tr><th>Trial name                        </th><th>status  </th><th>loc           </th><th style=\"text-align: right;\">  iter</th><th style=\"text-align: right;\">  total time (s)</th><th style=\"text-align: right;\">   ts</th><th style=\"text-align: right;\">  reward</th><th style=\"text-align: right;\">  episode_reward_max</th><th style=\"text-align: right;\">  episode_reward_min</th><th style=\"text-align: right;\">  episode_len_mean</th></tr>\n</thead>\n<tbody>\n<tr><td>PPO_mobile-small-ma-v0_2b82d_00000</td><td>RUNNING </td><td>127.0.0.1:7956</td><td style=\"text-align: right;\">     6</td><td style=\"text-align: right;\">         234.509</td><td style=\"text-align: right;\">24000</td><td style=\"text-align: right;\">-63.0578</td><td style=\"text-align: right;\">             32.0051</td><td style=\"text-align: right;\">            -166.787</td><td style=\"text-align: right;\">               100</td></tr>\n</tbody>\n</table><br><br>"
     },
     "metadata": {},
     "output_type": "display_data"
    },
    {
     "data": {
      "text/plain": "<IPython.core.display.HTML object>",
      "text/html": "== Status ==<br>Current time: 2021-11-24 12:37:08 (running for 00:04:55.22)<br>Memory usage on this node: 10.5/11.9 GiB<br>Using FIFO scheduling algorithm.<br>Resources requested: 3.0/3 CPUs, 0/0 GPUs, 0.0/1.51 GiB heap, 0.0/0.75 GiB objects<br>Result logdir: C:\\Users\\Stefan\\git-repos\\work\\mobile-env\\examples\\PPO_2021-11-24_12-32-13<br>Number of trials: 1/1 (1 RUNNING)<br><table>\n<thead>\n<tr><th>Trial name                        </th><th>status  </th><th>loc           </th><th style=\"text-align: right;\">  iter</th><th style=\"text-align: right;\">  total time (s)</th><th style=\"text-align: right;\">   ts</th><th style=\"text-align: right;\">  reward</th><th style=\"text-align: right;\">  episode_reward_max</th><th style=\"text-align: right;\">  episode_reward_min</th><th style=\"text-align: right;\">  episode_len_mean</th></tr>\n</thead>\n<tbody>\n<tr><td>PPO_mobile-small-ma-v0_2b82d_00000</td><td>RUNNING </td><td>127.0.0.1:7956</td><td style=\"text-align: right;\">     6</td><td style=\"text-align: right;\">         234.509</td><td style=\"text-align: right;\">24000</td><td style=\"text-align: right;\">-63.0578</td><td style=\"text-align: right;\">             32.0051</td><td style=\"text-align: right;\">            -166.787</td><td style=\"text-align: right;\">               100</td></tr>\n</tbody>\n</table><br><br>"
     },
     "metadata": {},
     "output_type": "display_data"
    },
    {
     "name": "stdout",
     "output_type": "stream",
     "text": [
      "Result for PPO_mobile-small-ma-v0_2b82d_00000:\n",
      "  agent_timesteps_total: 140000\n",
      "  custom_metrics: {}\n",
      "  date: 2021-11-24_12-37-12\n",
      "  done: false\n",
      "  episode_len_mean: 100.0\n",
      "  episode_media: {}\n",
      "  episode_reward_max: 37.517350407532646\n",
      "  episode_reward_mean: -56.8993966162799\n",
      "  episode_reward_min: -159.39671116929244\n",
      "  episodes_this_iter: 40\n",
      "  episodes_total: 280\n",
      "  experiment_id: 4e540bfa436c40ce885eae70b7b6ac0e\n",
      "  hostname: nb-stschn\n",
      "  info:\n",
      "    learner:\n",
      "      shared_policy:\n",
      "        custom_metrics: {}\n",
      "        learner_stats:\n",
      "          cur_kl_coeff: 0.20000000298023224\n",
      "          cur_lr: 4.999999873689376e-05\n",
      "          entropy: 1.1945053339004517\n",
      "          entropy_coeff: 0.0\n",
      "          kl: 0.008428691886365414\n",
      "          model: {}\n",
      "          policy_loss: -0.005386861972510815\n",
      "          total_loss: 67.3160629272461\n",
      "          vf_explained_var: -0.18060088157653809\n",
      "          vf_loss: 67.31977081298828\n",
      "    num_agent_steps_sampled: 140000\n",
      "    num_agent_steps_trained: 140000\n",
      "    num_steps_sampled: 28000\n",
      "    num_steps_trained: 28000\n",
      "    num_steps_trained_this_iter: 0\n",
      "  iterations_since_restore: 7\n",
      "  node_ip: 127.0.0.1\n",
      "  num_healthy_workers: 2\n",
      "  off_policy_estimator: {}\n",
      "  perf:\n",
      "    cpu_util_percent: 66.20416666666667\n",
      "    ram_util_percent: 88.14791666666667\n",
      "  pid: 7956\n",
      "  policy_reward_max:\n",
      "    shared_policy: 32.550057156570304\n",
      "  policy_reward_mean:\n",
      "    shared_policy: -11.37987932325598\n",
      "  policy_reward_min:\n",
      "    shared_policy: -79.64947249900509\n",
      "  sampler_perf:\n",
      "    mean_action_processing_ms: 0.18606896569713288\n",
      "    mean_env_render_ms: 0.0\n",
      "    mean_env_wait_ms: 6.828355809131563\n",
      "    mean_inference_ms: 1.661827741816298\n",
      "    mean_raw_obs_processing_ms: 0.483841240195652\n",
      "  time_since_restore: 268.3320059776306\n",
      "  time_this_iter_s: 33.82276892662048\n",
      "  time_total_s: 268.3320059776306\n",
      "  timers:\n",
      "    learn_throughput: 201.684\n",
      "    learn_time_ms: 19832.969\n",
      "    load_throughput: 0.0\n",
      "    load_time_ms: 0.0\n",
      "    sample_throughput: 111.287\n",
      "    sample_time_ms: 35943.133\n",
      "    update_time_ms: 1.855\n",
      "  timestamp: 1637753832\n",
      "  timesteps_since_restore: 0\n",
      "  timesteps_this_iter: 0\n",
      "  timesteps_total: 28000\n",
      "  training_iteration: 7\n",
      "  trial_id: 2b82d_00000\n",
      "  \n"
     ]
    },
    {
     "data": {
      "text/plain": "<IPython.core.display.HTML object>",
      "text/html": "== Status ==<br>Current time: 2021-11-24 12:37:14 (running for 00:05:00.86)<br>Memory usage on this node: 10.5/11.9 GiB<br>Using FIFO scheduling algorithm.<br>Resources requested: 3.0/3 CPUs, 0/0 GPUs, 0.0/1.51 GiB heap, 0.0/0.75 GiB objects<br>Result logdir: C:\\Users\\Stefan\\git-repos\\work\\mobile-env\\examples\\PPO_2021-11-24_12-32-13<br>Number of trials: 1/1 (1 RUNNING)<br><table>\n<thead>\n<tr><th>Trial name                        </th><th>status  </th><th>loc           </th><th style=\"text-align: right;\">  iter</th><th style=\"text-align: right;\">  total time (s)</th><th style=\"text-align: right;\">   ts</th><th style=\"text-align: right;\">  reward</th><th style=\"text-align: right;\">  episode_reward_max</th><th style=\"text-align: right;\">  episode_reward_min</th><th style=\"text-align: right;\">  episode_len_mean</th></tr>\n</thead>\n<tbody>\n<tr><td>PPO_mobile-small-ma-v0_2b82d_00000</td><td>RUNNING </td><td>127.0.0.1:7956</td><td style=\"text-align: right;\">     7</td><td style=\"text-align: right;\">         268.332</td><td style=\"text-align: right;\">28000</td><td style=\"text-align: right;\">-56.8994</td><td style=\"text-align: right;\">             37.5174</td><td style=\"text-align: right;\">            -159.397</td><td style=\"text-align: right;\">               100</td></tr>\n</tbody>\n</table><br><br>"
     },
     "metadata": {},
     "output_type": "display_data"
    },
    {
     "data": {
      "text/plain": "<IPython.core.display.HTML object>",
      "text/html": "== Status ==<br>Current time: 2021-11-24 12:37:19 (running for 00:05:05.90)<br>Memory usage on this node: 10.5/11.9 GiB<br>Using FIFO scheduling algorithm.<br>Resources requested: 3.0/3 CPUs, 0/0 GPUs, 0.0/1.51 GiB heap, 0.0/0.75 GiB objects<br>Result logdir: C:\\Users\\Stefan\\git-repos\\work\\mobile-env\\examples\\PPO_2021-11-24_12-32-13<br>Number of trials: 1/1 (1 RUNNING)<br><table>\n<thead>\n<tr><th>Trial name                        </th><th>status  </th><th>loc           </th><th style=\"text-align: right;\">  iter</th><th style=\"text-align: right;\">  total time (s)</th><th style=\"text-align: right;\">   ts</th><th style=\"text-align: right;\">  reward</th><th style=\"text-align: right;\">  episode_reward_max</th><th style=\"text-align: right;\">  episode_reward_min</th><th style=\"text-align: right;\">  episode_len_mean</th></tr>\n</thead>\n<tbody>\n<tr><td>PPO_mobile-small-ma-v0_2b82d_00000</td><td>RUNNING </td><td>127.0.0.1:7956</td><td style=\"text-align: right;\">     7</td><td style=\"text-align: right;\">         268.332</td><td style=\"text-align: right;\">28000</td><td style=\"text-align: right;\">-56.8994</td><td style=\"text-align: right;\">             37.5174</td><td style=\"text-align: right;\">            -159.397</td><td style=\"text-align: right;\">               100</td></tr>\n</tbody>\n</table><br><br>"
     },
     "metadata": {},
     "output_type": "display_data"
    },
    {
     "data": {
      "text/plain": "<IPython.core.display.HTML object>",
      "text/html": "== Status ==<br>Current time: 2021-11-24 12:37:24 (running for 00:05:10.97)<br>Memory usage on this node: 10.5/11.9 GiB<br>Using FIFO scheduling algorithm.<br>Resources requested: 3.0/3 CPUs, 0/0 GPUs, 0.0/1.51 GiB heap, 0.0/0.75 GiB objects<br>Result logdir: C:\\Users\\Stefan\\git-repos\\work\\mobile-env\\examples\\PPO_2021-11-24_12-32-13<br>Number of trials: 1/1 (1 RUNNING)<br><table>\n<thead>\n<tr><th>Trial name                        </th><th>status  </th><th>loc           </th><th style=\"text-align: right;\">  iter</th><th style=\"text-align: right;\">  total time (s)</th><th style=\"text-align: right;\">   ts</th><th style=\"text-align: right;\">  reward</th><th style=\"text-align: right;\">  episode_reward_max</th><th style=\"text-align: right;\">  episode_reward_min</th><th style=\"text-align: right;\">  episode_len_mean</th></tr>\n</thead>\n<tbody>\n<tr><td>PPO_mobile-small-ma-v0_2b82d_00000</td><td>RUNNING </td><td>127.0.0.1:7956</td><td style=\"text-align: right;\">     7</td><td style=\"text-align: right;\">         268.332</td><td style=\"text-align: right;\">28000</td><td style=\"text-align: right;\">-56.8994</td><td style=\"text-align: right;\">             37.5174</td><td style=\"text-align: right;\">            -159.397</td><td style=\"text-align: right;\">               100</td></tr>\n</tbody>\n</table><br><br>"
     },
     "metadata": {},
     "output_type": "display_data"
    },
    {
     "data": {
      "text/plain": "<IPython.core.display.HTML object>",
      "text/html": "== Status ==<br>Current time: 2021-11-24 12:37:29 (running for 00:05:16.02)<br>Memory usage on this node: 10.5/11.9 GiB<br>Using FIFO scheduling algorithm.<br>Resources requested: 3.0/3 CPUs, 0/0 GPUs, 0.0/1.51 GiB heap, 0.0/0.75 GiB objects<br>Result logdir: C:\\Users\\Stefan\\git-repos\\work\\mobile-env\\examples\\PPO_2021-11-24_12-32-13<br>Number of trials: 1/1 (1 RUNNING)<br><table>\n<thead>\n<tr><th>Trial name                        </th><th>status  </th><th>loc           </th><th style=\"text-align: right;\">  iter</th><th style=\"text-align: right;\">  total time (s)</th><th style=\"text-align: right;\">   ts</th><th style=\"text-align: right;\">  reward</th><th style=\"text-align: right;\">  episode_reward_max</th><th style=\"text-align: right;\">  episode_reward_min</th><th style=\"text-align: right;\">  episode_len_mean</th></tr>\n</thead>\n<tbody>\n<tr><td>PPO_mobile-small-ma-v0_2b82d_00000</td><td>RUNNING </td><td>127.0.0.1:7956</td><td style=\"text-align: right;\">     7</td><td style=\"text-align: right;\">         268.332</td><td style=\"text-align: right;\">28000</td><td style=\"text-align: right;\">-56.8994</td><td style=\"text-align: right;\">             37.5174</td><td style=\"text-align: right;\">            -159.397</td><td style=\"text-align: right;\">               100</td></tr>\n</tbody>\n</table><br><br>"
     },
     "metadata": {},
     "output_type": "display_data"
    },
    {
     "data": {
      "text/plain": "<IPython.core.display.HTML object>",
      "text/html": "== Status ==<br>Current time: 2021-11-24 12:37:34 (running for 00:05:21.09)<br>Memory usage on this node: 10.5/11.9 GiB<br>Using FIFO scheduling algorithm.<br>Resources requested: 3.0/3 CPUs, 0/0 GPUs, 0.0/1.51 GiB heap, 0.0/0.75 GiB objects<br>Result logdir: C:\\Users\\Stefan\\git-repos\\work\\mobile-env\\examples\\PPO_2021-11-24_12-32-13<br>Number of trials: 1/1 (1 RUNNING)<br><table>\n<thead>\n<tr><th>Trial name                        </th><th>status  </th><th>loc           </th><th style=\"text-align: right;\">  iter</th><th style=\"text-align: right;\">  total time (s)</th><th style=\"text-align: right;\">   ts</th><th style=\"text-align: right;\">  reward</th><th style=\"text-align: right;\">  episode_reward_max</th><th style=\"text-align: right;\">  episode_reward_min</th><th style=\"text-align: right;\">  episode_len_mean</th></tr>\n</thead>\n<tbody>\n<tr><td>PPO_mobile-small-ma-v0_2b82d_00000</td><td>RUNNING </td><td>127.0.0.1:7956</td><td style=\"text-align: right;\">     7</td><td style=\"text-align: right;\">         268.332</td><td style=\"text-align: right;\">28000</td><td style=\"text-align: right;\">-56.8994</td><td style=\"text-align: right;\">             37.5174</td><td style=\"text-align: right;\">            -159.397</td><td style=\"text-align: right;\">               100</td></tr>\n</tbody>\n</table><br><br>"
     },
     "metadata": {},
     "output_type": "display_data"
    },
    {
     "data": {
      "text/plain": "<IPython.core.display.HTML object>",
      "text/html": "== Status ==<br>Current time: 2021-11-24 12:37:39 (running for 00:05:26.15)<br>Memory usage on this node: 10.5/11.9 GiB<br>Using FIFO scheduling algorithm.<br>Resources requested: 3.0/3 CPUs, 0/0 GPUs, 0.0/1.51 GiB heap, 0.0/0.75 GiB objects<br>Result logdir: C:\\Users\\Stefan\\git-repos\\work\\mobile-env\\examples\\PPO_2021-11-24_12-32-13<br>Number of trials: 1/1 (1 RUNNING)<br><table>\n<thead>\n<tr><th>Trial name                        </th><th>status  </th><th>loc           </th><th style=\"text-align: right;\">  iter</th><th style=\"text-align: right;\">  total time (s)</th><th style=\"text-align: right;\">   ts</th><th style=\"text-align: right;\">  reward</th><th style=\"text-align: right;\">  episode_reward_max</th><th style=\"text-align: right;\">  episode_reward_min</th><th style=\"text-align: right;\">  episode_len_mean</th></tr>\n</thead>\n<tbody>\n<tr><td>PPO_mobile-small-ma-v0_2b82d_00000</td><td>RUNNING </td><td>127.0.0.1:7956</td><td style=\"text-align: right;\">     7</td><td style=\"text-align: right;\">         268.332</td><td style=\"text-align: right;\">28000</td><td style=\"text-align: right;\">-56.8994</td><td style=\"text-align: right;\">             37.5174</td><td style=\"text-align: right;\">            -159.397</td><td style=\"text-align: right;\">               100</td></tr>\n</tbody>\n</table><br><br>"
     },
     "metadata": {},
     "output_type": "display_data"
    },
    {
     "data": {
      "text/plain": "<IPython.core.display.HTML object>",
      "text/html": "== Status ==<br>Current time: 2021-11-24 12:37:44 (running for 00:05:31.29)<br>Memory usage on this node: 10.6/11.9 GiB<br>Using FIFO scheduling algorithm.<br>Resources requested: 3.0/3 CPUs, 0/0 GPUs, 0.0/1.51 GiB heap, 0.0/0.75 GiB objects<br>Result logdir: C:\\Users\\Stefan\\git-repos\\work\\mobile-env\\examples\\PPO_2021-11-24_12-32-13<br>Number of trials: 1/1 (1 RUNNING)<br><table>\n<thead>\n<tr><th>Trial name                        </th><th>status  </th><th>loc           </th><th style=\"text-align: right;\">  iter</th><th style=\"text-align: right;\">  total time (s)</th><th style=\"text-align: right;\">   ts</th><th style=\"text-align: right;\">  reward</th><th style=\"text-align: right;\">  episode_reward_max</th><th style=\"text-align: right;\">  episode_reward_min</th><th style=\"text-align: right;\">  episode_len_mean</th></tr>\n</thead>\n<tbody>\n<tr><td>PPO_mobile-small-ma-v0_2b82d_00000</td><td>RUNNING </td><td>127.0.0.1:7956</td><td style=\"text-align: right;\">     7</td><td style=\"text-align: right;\">         268.332</td><td style=\"text-align: right;\">28000</td><td style=\"text-align: right;\">-56.8994</td><td style=\"text-align: right;\">             37.5174</td><td style=\"text-align: right;\">            -159.397</td><td style=\"text-align: right;\">               100</td></tr>\n</tbody>\n</table><br><br>"
     },
     "metadata": {},
     "output_type": "display_data"
    },
    {
     "data": {
      "text/plain": "<IPython.core.display.HTML object>",
      "text/html": "== Status ==<br>Current time: 2021-11-24 12:37:49 (running for 00:05:36.36)<br>Memory usage on this node: 10.6/11.9 GiB<br>Using FIFO scheduling algorithm.<br>Resources requested: 3.0/3 CPUs, 0/0 GPUs, 0.0/1.51 GiB heap, 0.0/0.75 GiB objects<br>Result logdir: C:\\Users\\Stefan\\git-repos\\work\\mobile-env\\examples\\PPO_2021-11-24_12-32-13<br>Number of trials: 1/1 (1 RUNNING)<br><table>\n<thead>\n<tr><th>Trial name                        </th><th>status  </th><th>loc           </th><th style=\"text-align: right;\">  iter</th><th style=\"text-align: right;\">  total time (s)</th><th style=\"text-align: right;\">   ts</th><th style=\"text-align: right;\">  reward</th><th style=\"text-align: right;\">  episode_reward_max</th><th style=\"text-align: right;\">  episode_reward_min</th><th style=\"text-align: right;\">  episode_len_mean</th></tr>\n</thead>\n<tbody>\n<tr><td>PPO_mobile-small-ma-v0_2b82d_00000</td><td>RUNNING </td><td>127.0.0.1:7956</td><td style=\"text-align: right;\">     7</td><td style=\"text-align: right;\">         268.332</td><td style=\"text-align: right;\">28000</td><td style=\"text-align: right;\">-56.8994</td><td style=\"text-align: right;\">             37.5174</td><td style=\"text-align: right;\">            -159.397</td><td style=\"text-align: right;\">               100</td></tr>\n</tbody>\n</table><br><br>"
     },
     "metadata": {},
     "output_type": "display_data"
    },
    {
     "name": "stdout",
     "output_type": "stream",
     "text": [
      "Result for PPO_mobile-small-ma-v0_2b82d_00000:\n",
      "  agent_timesteps_total: 160000\n",
      "  custom_metrics: {}\n",
      "  date: 2021-11-24_12-37-51\n",
      "  done: false\n",
      "  episode_len_mean: 100.0\n",
      "  episode_media: {}\n",
      "  episode_reward_max: 37.517350407532646\n",
      "  episode_reward_mean: -44.28550081510158\n",
      "  episode_reward_min: -307.40419640021577\n",
      "  episodes_this_iter: 40\n",
      "  episodes_total: 320\n",
      "  experiment_id: 4e540bfa436c40ce885eae70b7b6ac0e\n",
      "  hostname: nb-stschn\n",
      "  info:\n",
      "    learner:\n",
      "      shared_policy:\n",
      "        custom_metrics: {}\n",
      "        learner_stats:\n",
      "          cur_kl_coeff: 0.20000000298023224\n",
      "          cur_lr: 4.999999873689376e-05\n",
      "          entropy: 1.1653368473052979\n",
      "          entropy_coeff: 0.0\n",
      "          kl: 0.006505147088319063\n",
      "          model: {}\n",
      "          policy_loss: -0.004781945608556271\n",
      "          total_loss: 54.027320861816406\n",
      "          vf_explained_var: -0.2776322066783905\n",
      "          vf_loss: 54.03080368041992\n",
      "    num_agent_steps_sampled: 160000\n",
      "    num_agent_steps_trained: 160000\n",
      "    num_steps_sampled: 32000\n",
      "    num_steps_trained: 32000\n",
      "    num_steps_trained_this_iter: 0\n",
      "  iterations_since_restore: 8\n",
      "  node_ip: 127.0.0.1\n",
      "  num_healthy_workers: 2\n",
      "  off_policy_estimator: {}\n",
      "  perf:\n",
      "    cpu_util_percent: 76.41666666666667\n",
      "    ram_util_percent: 88.45370370370368\n",
      "  pid: 7956\n",
      "  policy_reward_max:\n",
      "    shared_policy: 30.326552942312613\n",
      "  policy_reward_mean:\n",
      "    shared_policy: -8.857100163020313\n",
      "  policy_reward_min:\n",
      "    shared_policy: -89.39424177690312\n",
      "  sampler_perf:\n",
      "    mean_action_processing_ms: 0.18519630440233528\n",
      "    mean_env_render_ms: 0.0\n",
      "    mean_env_wait_ms: 6.812173943664939\n",
      "    mean_inference_ms: 1.6537263106465048\n",
      "    mean_raw_obs_processing_ms: 0.4824498669355951\n",
      "  time_since_restore: 306.9676413536072\n",
      "  time_this_iter_s: 38.63563537597656\n",
      "  time_total_s: 306.9676413536072\n",
      "  timers:\n",
      "    learn_throughput: 199.034\n",
      "    learn_time_ms: 20097.052\n",
      "    load_throughput: 0.0\n",
      "    load_time_ms: 0.0\n",
      "    sample_throughput: 112.102\n",
      "    sample_time_ms: 35681.645\n",
      "    update_time_ms: 2.623\n",
      "  timestamp: 1637753871\n",
      "  timesteps_since_restore: 0\n",
      "  timesteps_this_iter: 0\n",
      "  timesteps_total: 32000\n",
      "  training_iteration: 8\n",
      "  trial_id: 2b82d_00000\n",
      "  \n"
     ]
    },
    {
     "data": {
      "text/plain": "<IPython.core.display.HTML object>",
      "text/html": "== Status ==<br>Current time: 2021-11-24 12:37:55 (running for 00:05:41.65)<br>Memory usage on this node: 10.7/11.9 GiB: ***LOW MEMORY*** less than 10% of the memory on this node is available for use. This can cause unexpected crashes. Consider reducing the memory used by your application or reducing the Ray object store size by setting `object_store_memory` when calling `ray.init`.<br>Using FIFO scheduling algorithm.<br>Resources requested: 3.0/3 CPUs, 0/0 GPUs, 0.0/1.51 GiB heap, 0.0/0.75 GiB objects<br>Result logdir: C:\\Users\\Stefan\\git-repos\\work\\mobile-env\\examples\\PPO_2021-11-24_12-32-13<br>Number of trials: 1/1 (1 RUNNING)<br><table>\n<thead>\n<tr><th>Trial name                        </th><th>status  </th><th>loc           </th><th style=\"text-align: right;\">  iter</th><th style=\"text-align: right;\">  total time (s)</th><th style=\"text-align: right;\">   ts</th><th style=\"text-align: right;\">  reward</th><th style=\"text-align: right;\">  episode_reward_max</th><th style=\"text-align: right;\">  episode_reward_min</th><th style=\"text-align: right;\">  episode_len_mean</th></tr>\n</thead>\n<tbody>\n<tr><td>PPO_mobile-small-ma-v0_2b82d_00000</td><td>RUNNING </td><td>127.0.0.1:7956</td><td style=\"text-align: right;\">     8</td><td style=\"text-align: right;\">         306.968</td><td style=\"text-align: right;\">32000</td><td style=\"text-align: right;\">-44.2855</td><td style=\"text-align: right;\">             37.5174</td><td style=\"text-align: right;\">            -307.404</td><td style=\"text-align: right;\">               100</td></tr>\n</tbody>\n</table><br><br>"
     },
     "metadata": {},
     "output_type": "display_data"
    },
    {
     "data": {
      "text/plain": "<IPython.core.display.HTML object>",
      "text/html": "== Status ==<br>Current time: 2021-11-24 12:38:00 (running for 00:05:46.68)<br>Memory usage on this node: 10.7/11.9 GiB: ***LOW MEMORY*** less than 10% of the memory on this node is available for use. This can cause unexpected crashes. Consider reducing the memory used by your application or reducing the Ray object store size by setting `object_store_memory` when calling `ray.init`.<br>Using FIFO scheduling algorithm.<br>Resources requested: 3.0/3 CPUs, 0/0 GPUs, 0.0/1.51 GiB heap, 0.0/0.75 GiB objects<br>Result logdir: C:\\Users\\Stefan\\git-repos\\work\\mobile-env\\examples\\PPO_2021-11-24_12-32-13<br>Number of trials: 1/1 (1 RUNNING)<br><table>\n<thead>\n<tr><th>Trial name                        </th><th>status  </th><th>loc           </th><th style=\"text-align: right;\">  iter</th><th style=\"text-align: right;\">  total time (s)</th><th style=\"text-align: right;\">   ts</th><th style=\"text-align: right;\">  reward</th><th style=\"text-align: right;\">  episode_reward_max</th><th style=\"text-align: right;\">  episode_reward_min</th><th style=\"text-align: right;\">  episode_len_mean</th></tr>\n</thead>\n<tbody>\n<tr><td>PPO_mobile-small-ma-v0_2b82d_00000</td><td>RUNNING </td><td>127.0.0.1:7956</td><td style=\"text-align: right;\">     8</td><td style=\"text-align: right;\">         306.968</td><td style=\"text-align: right;\">32000</td><td style=\"text-align: right;\">-44.2855</td><td style=\"text-align: right;\">             37.5174</td><td style=\"text-align: right;\">            -307.404</td><td style=\"text-align: right;\">               100</td></tr>\n</tbody>\n</table><br><br>"
     },
     "metadata": {},
     "output_type": "display_data"
    },
    {
     "data": {
      "text/plain": "<IPython.core.display.HTML object>",
      "text/html": "== Status ==<br>Current time: 2021-11-24 12:38:05 (running for 00:05:51.74)<br>Memory usage on this node: 10.7/11.9 GiB: ***LOW MEMORY*** less than 10% of the memory on this node is available for use. This can cause unexpected crashes. Consider reducing the memory used by your application or reducing the Ray object store size by setting `object_store_memory` when calling `ray.init`.<br>Using FIFO scheduling algorithm.<br>Resources requested: 3.0/3 CPUs, 0/0 GPUs, 0.0/1.51 GiB heap, 0.0/0.75 GiB objects<br>Result logdir: C:\\Users\\Stefan\\git-repos\\work\\mobile-env\\examples\\PPO_2021-11-24_12-32-13<br>Number of trials: 1/1 (1 RUNNING)<br><table>\n<thead>\n<tr><th>Trial name                        </th><th>status  </th><th>loc           </th><th style=\"text-align: right;\">  iter</th><th style=\"text-align: right;\">  total time (s)</th><th style=\"text-align: right;\">   ts</th><th style=\"text-align: right;\">  reward</th><th style=\"text-align: right;\">  episode_reward_max</th><th style=\"text-align: right;\">  episode_reward_min</th><th style=\"text-align: right;\">  episode_len_mean</th></tr>\n</thead>\n<tbody>\n<tr><td>PPO_mobile-small-ma-v0_2b82d_00000</td><td>RUNNING </td><td>127.0.0.1:7956</td><td style=\"text-align: right;\">     8</td><td style=\"text-align: right;\">         306.968</td><td style=\"text-align: right;\">32000</td><td style=\"text-align: right;\">-44.2855</td><td style=\"text-align: right;\">             37.5174</td><td style=\"text-align: right;\">            -307.404</td><td style=\"text-align: right;\">               100</td></tr>\n</tbody>\n</table><br><br>"
     },
     "metadata": {},
     "output_type": "display_data"
    },
    {
     "data": {
      "text/plain": "<IPython.core.display.HTML object>",
      "text/html": "== Status ==<br>Current time: 2021-11-24 12:38:10 (running for 00:05:56.78)<br>Memory usage on this node: 10.7/11.9 GiB: ***LOW MEMORY*** less than 10% of the memory on this node is available for use. This can cause unexpected crashes. Consider reducing the memory used by your application or reducing the Ray object store size by setting `object_store_memory` when calling `ray.init`.<br>Using FIFO scheduling algorithm.<br>Resources requested: 3.0/3 CPUs, 0/0 GPUs, 0.0/1.51 GiB heap, 0.0/0.75 GiB objects<br>Result logdir: C:\\Users\\Stefan\\git-repos\\work\\mobile-env\\examples\\PPO_2021-11-24_12-32-13<br>Number of trials: 1/1 (1 RUNNING)<br><table>\n<thead>\n<tr><th>Trial name                        </th><th>status  </th><th>loc           </th><th style=\"text-align: right;\">  iter</th><th style=\"text-align: right;\">  total time (s)</th><th style=\"text-align: right;\">   ts</th><th style=\"text-align: right;\">  reward</th><th style=\"text-align: right;\">  episode_reward_max</th><th style=\"text-align: right;\">  episode_reward_min</th><th style=\"text-align: right;\">  episode_len_mean</th></tr>\n</thead>\n<tbody>\n<tr><td>PPO_mobile-small-ma-v0_2b82d_00000</td><td>RUNNING </td><td>127.0.0.1:7956</td><td style=\"text-align: right;\">     8</td><td style=\"text-align: right;\">         306.968</td><td style=\"text-align: right;\">32000</td><td style=\"text-align: right;\">-44.2855</td><td style=\"text-align: right;\">             37.5174</td><td style=\"text-align: right;\">            -307.404</td><td style=\"text-align: right;\">               100</td></tr>\n</tbody>\n</table><br><br>"
     },
     "metadata": {},
     "output_type": "display_data"
    },
    {
     "data": {
      "text/plain": "<IPython.core.display.HTML object>",
      "text/html": "== Status ==<br>Current time: 2021-11-24 12:38:15 (running for 00:06:01.87)<br>Memory usage on this node: 10.7/11.9 GiB: ***LOW MEMORY*** less than 10% of the memory on this node is available for use. This can cause unexpected crashes. Consider reducing the memory used by your application or reducing the Ray object store size by setting `object_store_memory` when calling `ray.init`.<br>Using FIFO scheduling algorithm.<br>Resources requested: 3.0/3 CPUs, 0/0 GPUs, 0.0/1.51 GiB heap, 0.0/0.75 GiB objects<br>Result logdir: C:\\Users\\Stefan\\git-repos\\work\\mobile-env\\examples\\PPO_2021-11-24_12-32-13<br>Number of trials: 1/1 (1 RUNNING)<br><table>\n<thead>\n<tr><th>Trial name                        </th><th>status  </th><th>loc           </th><th style=\"text-align: right;\">  iter</th><th style=\"text-align: right;\">  total time (s)</th><th style=\"text-align: right;\">   ts</th><th style=\"text-align: right;\">  reward</th><th style=\"text-align: right;\">  episode_reward_max</th><th style=\"text-align: right;\">  episode_reward_min</th><th style=\"text-align: right;\">  episode_len_mean</th></tr>\n</thead>\n<tbody>\n<tr><td>PPO_mobile-small-ma-v0_2b82d_00000</td><td>RUNNING </td><td>127.0.0.1:7956</td><td style=\"text-align: right;\">     8</td><td style=\"text-align: right;\">         306.968</td><td style=\"text-align: right;\">32000</td><td style=\"text-align: right;\">-44.2855</td><td style=\"text-align: right;\">             37.5174</td><td style=\"text-align: right;\">            -307.404</td><td style=\"text-align: right;\">               100</td></tr>\n</tbody>\n</table><br><br>"
     },
     "metadata": {},
     "output_type": "display_data"
    },
    {
     "data": {
      "text/plain": "<IPython.core.display.HTML object>",
      "text/html": "== Status ==<br>Current time: 2021-11-24 12:38:20 (running for 00:06:06.96)<br>Memory usage on this node: 10.9/11.9 GiB: ***LOW MEMORY*** less than 10% of the memory on this node is available for use. This can cause unexpected crashes. Consider reducing the memory used by your application or reducing the Ray object store size by setting `object_store_memory` when calling `ray.init`.<br>Using FIFO scheduling algorithm.<br>Resources requested: 3.0/3 CPUs, 0/0 GPUs, 0.0/1.51 GiB heap, 0.0/0.75 GiB objects<br>Result logdir: C:\\Users\\Stefan\\git-repos\\work\\mobile-env\\examples\\PPO_2021-11-24_12-32-13<br>Number of trials: 1/1 (1 RUNNING)<br><table>\n<thead>\n<tr><th>Trial name                        </th><th>status  </th><th>loc           </th><th style=\"text-align: right;\">  iter</th><th style=\"text-align: right;\">  total time (s)</th><th style=\"text-align: right;\">   ts</th><th style=\"text-align: right;\">  reward</th><th style=\"text-align: right;\">  episode_reward_max</th><th style=\"text-align: right;\">  episode_reward_min</th><th style=\"text-align: right;\">  episode_len_mean</th></tr>\n</thead>\n<tbody>\n<tr><td>PPO_mobile-small-ma-v0_2b82d_00000</td><td>RUNNING </td><td>127.0.0.1:7956</td><td style=\"text-align: right;\">     8</td><td style=\"text-align: right;\">         306.968</td><td style=\"text-align: right;\">32000</td><td style=\"text-align: right;\">-44.2855</td><td style=\"text-align: right;\">             37.5174</td><td style=\"text-align: right;\">            -307.404</td><td style=\"text-align: right;\">               100</td></tr>\n</tbody>\n</table><br><br>"
     },
     "metadata": {},
     "output_type": "display_data"
    },
    {
     "data": {
      "text/plain": "<IPython.core.display.HTML object>",
      "text/html": "== Status ==<br>Current time: 2021-11-24 12:38:25 (running for 00:06:12.04)<br>Memory usage on this node: 10.9/11.9 GiB: ***LOW MEMORY*** less than 10% of the memory on this node is available for use. This can cause unexpected crashes. Consider reducing the memory used by your application or reducing the Ray object store size by setting `object_store_memory` when calling `ray.init`.<br>Using FIFO scheduling algorithm.<br>Resources requested: 3.0/3 CPUs, 0/0 GPUs, 0.0/1.51 GiB heap, 0.0/0.75 GiB objects<br>Result logdir: C:\\Users\\Stefan\\git-repos\\work\\mobile-env\\examples\\PPO_2021-11-24_12-32-13<br>Number of trials: 1/1 (1 RUNNING)<br><table>\n<thead>\n<tr><th>Trial name                        </th><th>status  </th><th>loc           </th><th style=\"text-align: right;\">  iter</th><th style=\"text-align: right;\">  total time (s)</th><th style=\"text-align: right;\">   ts</th><th style=\"text-align: right;\">  reward</th><th style=\"text-align: right;\">  episode_reward_max</th><th style=\"text-align: right;\">  episode_reward_min</th><th style=\"text-align: right;\">  episode_len_mean</th></tr>\n</thead>\n<tbody>\n<tr><td>PPO_mobile-small-ma-v0_2b82d_00000</td><td>RUNNING </td><td>127.0.0.1:7956</td><td style=\"text-align: right;\">     8</td><td style=\"text-align: right;\">         306.968</td><td style=\"text-align: right;\">32000</td><td style=\"text-align: right;\">-44.2855</td><td style=\"text-align: right;\">             37.5174</td><td style=\"text-align: right;\">            -307.404</td><td style=\"text-align: right;\">               100</td></tr>\n</tbody>\n</table><br><br>"
     },
     "metadata": {},
     "output_type": "display_data"
    },
    {
     "name": "stdout",
     "output_type": "stream",
     "text": [
      "Result for PPO_mobile-small-ma-v0_2b82d_00000:\n",
      "  agent_timesteps_total: 180000\n",
      "  custom_metrics: {}\n",
      "  date: 2021-11-24_12-38-30\n",
      "  done: false\n",
      "  episode_len_mean: 100.0\n",
      "  episode_media: {}\n",
      "  episode_reward_max: 28.014085671833037\n",
      "  episode_reward_mean: -36.26332603764277\n",
      "  episode_reward_min: -307.40419640021577\n",
      "  episodes_this_iter: 40\n",
      "  episodes_total: 360\n",
      "  experiment_id: 4e540bfa436c40ce885eae70b7b6ac0e\n",
      "  hostname: nb-stschn\n",
      "  info:\n",
      "    learner:\n",
      "      shared_policy:\n",
      "        custom_metrics: {}\n",
      "        learner_stats:\n",
      "          cur_kl_coeff: 0.20000000298023224\n",
      "          cur_lr: 4.999999873689376e-05\n",
      "          entropy: 1.1505690813064575\n",
      "          entropy_coeff: 0.0\n",
      "          kl: 0.00772960064932704\n",
      "          model: {}\n",
      "          policy_loss: -0.005320595111697912\n",
      "          total_loss: 52.63880157470703\n",
      "          vf_explained_var: -0.18861554563045502\n",
      "          vf_loss: 52.642581939697266\n",
      "    num_agent_steps_sampled: 180000\n",
      "    num_agent_steps_trained: 180000\n",
      "    num_steps_sampled: 36000\n",
      "    num_steps_trained: 36000\n",
      "    num_steps_trained_this_iter: 0\n",
      "  iterations_since_restore: 9\n",
      "  node_ip: 127.0.0.1\n",
      "  num_healthy_workers: 2\n",
      "  off_policy_estimator: {}\n",
      "  perf:\n",
      "    cpu_util_percent: 74.44363636363634\n",
      "    ram_util_percent: 90.69272727272724\n",
      "  pid: 7956\n",
      "  policy_reward_max:\n",
      "    shared_policy: 27.129546212046442\n",
      "  policy_reward_mean:\n",
      "    shared_policy: -7.252665207528553\n",
      "  policy_reward_min:\n",
      "    shared_policy: -89.39424177690312\n",
      "  sampler_perf:\n",
      "    mean_action_processing_ms: 0.18029056039080502\n",
      "    mean_env_render_ms: 0.0\n",
      "    mean_env_wait_ms: 6.759358082997057\n",
      "    mean_inference_ms: 1.630454783909031\n",
      "    mean_raw_obs_processing_ms: 0.4768866479305913\n",
      "  time_since_restore: 345.8968811035156\n",
      "  time_this_iter_s: 38.92923974990845\n",
      "  time_total_s: 345.8968811035156\n",
      "  timers:\n",
      "    learn_throughput: 197.844\n",
      "    learn_time_ms: 20217.977\n",
      "    load_throughput: 0.0\n",
      "    load_time_ms: 0.0\n",
      "    sample_throughput: 110.665\n",
      "    sample_time_ms: 36145.207\n",
      "    update_time_ms: 2.332\n",
      "  timestamp: 1637753910\n",
      "  timesteps_since_restore: 0\n",
      "  timesteps_this_iter: 0\n",
      "  timesteps_total: 36000\n",
      "  training_iteration: 9\n",
      "  trial_id: 2b82d_00000\n",
      "  \n"
     ]
    },
    {
     "data": {
      "text/plain": "<IPython.core.display.HTML object>",
      "text/html": "== Status ==<br>Current time: 2021-11-24 12:38:31 (running for 00:06:17.60)<br>Memory usage on this node: 10.9/11.9 GiB: ***LOW MEMORY*** less than 10% of the memory on this node is available for use. This can cause unexpected crashes. Consider reducing the memory used by your application or reducing the Ray object store size by setting `object_store_memory` when calling `ray.init`.<br>Using FIFO scheduling algorithm.<br>Resources requested: 3.0/3 CPUs, 0/0 GPUs, 0.0/1.51 GiB heap, 0.0/0.75 GiB objects<br>Result logdir: C:\\Users\\Stefan\\git-repos\\work\\mobile-env\\examples\\PPO_2021-11-24_12-32-13<br>Number of trials: 1/1 (1 RUNNING)<br><table>\n<thead>\n<tr><th>Trial name                        </th><th>status  </th><th>loc           </th><th style=\"text-align: right;\">  iter</th><th style=\"text-align: right;\">  total time (s)</th><th style=\"text-align: right;\">   ts</th><th style=\"text-align: right;\">  reward</th><th style=\"text-align: right;\">  episode_reward_max</th><th style=\"text-align: right;\">  episode_reward_min</th><th style=\"text-align: right;\">  episode_len_mean</th></tr>\n</thead>\n<tbody>\n<tr><td>PPO_mobile-small-ma-v0_2b82d_00000</td><td>RUNNING </td><td>127.0.0.1:7956</td><td style=\"text-align: right;\">     9</td><td style=\"text-align: right;\">         345.897</td><td style=\"text-align: right;\">36000</td><td style=\"text-align: right;\">-36.2633</td><td style=\"text-align: right;\">             28.0141</td><td style=\"text-align: right;\">            -307.404</td><td style=\"text-align: right;\">               100</td></tr>\n</tbody>\n</table><br><br>"
     },
     "metadata": {},
     "output_type": "display_data"
    },
    {
     "data": {
      "text/plain": "<IPython.core.display.HTML object>",
      "text/html": "== Status ==<br>Current time: 2021-11-24 12:38:36 (running for 00:06:22.66)<br>Memory usage on this node: 10.9/11.9 GiB: ***LOW MEMORY*** less than 10% of the memory on this node is available for use. This can cause unexpected crashes. Consider reducing the memory used by your application or reducing the Ray object store size by setting `object_store_memory` when calling `ray.init`.<br>Using FIFO scheduling algorithm.<br>Resources requested: 3.0/3 CPUs, 0/0 GPUs, 0.0/1.51 GiB heap, 0.0/0.75 GiB objects<br>Result logdir: C:\\Users\\Stefan\\git-repos\\work\\mobile-env\\examples\\PPO_2021-11-24_12-32-13<br>Number of trials: 1/1 (1 RUNNING)<br><table>\n<thead>\n<tr><th>Trial name                        </th><th>status  </th><th>loc           </th><th style=\"text-align: right;\">  iter</th><th style=\"text-align: right;\">  total time (s)</th><th style=\"text-align: right;\">   ts</th><th style=\"text-align: right;\">  reward</th><th style=\"text-align: right;\">  episode_reward_max</th><th style=\"text-align: right;\">  episode_reward_min</th><th style=\"text-align: right;\">  episode_len_mean</th></tr>\n</thead>\n<tbody>\n<tr><td>PPO_mobile-small-ma-v0_2b82d_00000</td><td>RUNNING </td><td>127.0.0.1:7956</td><td style=\"text-align: right;\">     9</td><td style=\"text-align: right;\">         345.897</td><td style=\"text-align: right;\">36000</td><td style=\"text-align: right;\">-36.2633</td><td style=\"text-align: right;\">             28.0141</td><td style=\"text-align: right;\">            -307.404</td><td style=\"text-align: right;\">               100</td></tr>\n</tbody>\n</table><br><br>"
     },
     "metadata": {},
     "output_type": "display_data"
    },
    {
     "data": {
      "text/plain": "<IPython.core.display.HTML object>",
      "text/html": "== Status ==<br>Current time: 2021-11-24 12:38:41 (running for 00:06:27.71)<br>Memory usage on this node: 10.9/11.9 GiB: ***LOW MEMORY*** less than 10% of the memory on this node is available for use. This can cause unexpected crashes. Consider reducing the memory used by your application or reducing the Ray object store size by setting `object_store_memory` when calling `ray.init`.<br>Using FIFO scheduling algorithm.<br>Resources requested: 3.0/3 CPUs, 0/0 GPUs, 0.0/1.51 GiB heap, 0.0/0.75 GiB objects<br>Result logdir: C:\\Users\\Stefan\\git-repos\\work\\mobile-env\\examples\\PPO_2021-11-24_12-32-13<br>Number of trials: 1/1 (1 RUNNING)<br><table>\n<thead>\n<tr><th>Trial name                        </th><th>status  </th><th>loc           </th><th style=\"text-align: right;\">  iter</th><th style=\"text-align: right;\">  total time (s)</th><th style=\"text-align: right;\">   ts</th><th style=\"text-align: right;\">  reward</th><th style=\"text-align: right;\">  episode_reward_max</th><th style=\"text-align: right;\">  episode_reward_min</th><th style=\"text-align: right;\">  episode_len_mean</th></tr>\n</thead>\n<tbody>\n<tr><td>PPO_mobile-small-ma-v0_2b82d_00000</td><td>RUNNING </td><td>127.0.0.1:7956</td><td style=\"text-align: right;\">     9</td><td style=\"text-align: right;\">         345.897</td><td style=\"text-align: right;\">36000</td><td style=\"text-align: right;\">-36.2633</td><td style=\"text-align: right;\">             28.0141</td><td style=\"text-align: right;\">            -307.404</td><td style=\"text-align: right;\">               100</td></tr>\n</tbody>\n</table><br><br>"
     },
     "metadata": {},
     "output_type": "display_data"
    },
    {
     "data": {
      "text/plain": "<IPython.core.display.HTML object>",
      "text/html": "== Status ==<br>Current time: 2021-11-24 12:38:46 (running for 00:06:32.77)<br>Memory usage on this node: 10.9/11.9 GiB: ***LOW MEMORY*** less than 10% of the memory on this node is available for use. This can cause unexpected crashes. Consider reducing the memory used by your application or reducing the Ray object store size by setting `object_store_memory` when calling `ray.init`.<br>Using FIFO scheduling algorithm.<br>Resources requested: 3.0/3 CPUs, 0/0 GPUs, 0.0/1.51 GiB heap, 0.0/0.75 GiB objects<br>Result logdir: C:\\Users\\Stefan\\git-repos\\work\\mobile-env\\examples\\PPO_2021-11-24_12-32-13<br>Number of trials: 1/1 (1 RUNNING)<br><table>\n<thead>\n<tr><th>Trial name                        </th><th>status  </th><th>loc           </th><th style=\"text-align: right;\">  iter</th><th style=\"text-align: right;\">  total time (s)</th><th style=\"text-align: right;\">   ts</th><th style=\"text-align: right;\">  reward</th><th style=\"text-align: right;\">  episode_reward_max</th><th style=\"text-align: right;\">  episode_reward_min</th><th style=\"text-align: right;\">  episode_len_mean</th></tr>\n</thead>\n<tbody>\n<tr><td>PPO_mobile-small-ma-v0_2b82d_00000</td><td>RUNNING </td><td>127.0.0.1:7956</td><td style=\"text-align: right;\">     9</td><td style=\"text-align: right;\">         345.897</td><td style=\"text-align: right;\">36000</td><td style=\"text-align: right;\">-36.2633</td><td style=\"text-align: right;\">             28.0141</td><td style=\"text-align: right;\">            -307.404</td><td style=\"text-align: right;\">               100</td></tr>\n</tbody>\n</table><br><br>"
     },
     "metadata": {},
     "output_type": "display_data"
    },
    {
     "data": {
      "text/plain": "<IPython.core.display.HTML object>",
      "text/html": "== Status ==<br>Current time: 2021-11-24 12:38:51 (running for 00:06:37.81)<br>Memory usage on this node: 10.9/11.9 GiB: ***LOW MEMORY*** less than 10% of the memory on this node is available for use. This can cause unexpected crashes. Consider reducing the memory used by your application or reducing the Ray object store size by setting `object_store_memory` when calling `ray.init`.<br>Using FIFO scheduling algorithm.<br>Resources requested: 3.0/3 CPUs, 0/0 GPUs, 0.0/1.51 GiB heap, 0.0/0.75 GiB objects<br>Result logdir: C:\\Users\\Stefan\\git-repos\\work\\mobile-env\\examples\\PPO_2021-11-24_12-32-13<br>Number of trials: 1/1 (1 RUNNING)<br><table>\n<thead>\n<tr><th>Trial name                        </th><th>status  </th><th>loc           </th><th style=\"text-align: right;\">  iter</th><th style=\"text-align: right;\">  total time (s)</th><th style=\"text-align: right;\">   ts</th><th style=\"text-align: right;\">  reward</th><th style=\"text-align: right;\">  episode_reward_max</th><th style=\"text-align: right;\">  episode_reward_min</th><th style=\"text-align: right;\">  episode_len_mean</th></tr>\n</thead>\n<tbody>\n<tr><td>PPO_mobile-small-ma-v0_2b82d_00000</td><td>RUNNING </td><td>127.0.0.1:7956</td><td style=\"text-align: right;\">     9</td><td style=\"text-align: right;\">         345.897</td><td style=\"text-align: right;\">36000</td><td style=\"text-align: right;\">-36.2633</td><td style=\"text-align: right;\">             28.0141</td><td style=\"text-align: right;\">            -307.404</td><td style=\"text-align: right;\">               100</td></tr>\n</tbody>\n</table><br><br>"
     },
     "metadata": {},
     "output_type": "display_data"
    },
    {
     "data": {
      "text/plain": "<IPython.core.display.HTML object>",
      "text/html": "== Status ==<br>Current time: 2021-11-24 12:38:56 (running for 00:06:42.89)<br>Memory usage on this node: 10.9/11.9 GiB: ***LOW MEMORY*** less than 10% of the memory on this node is available for use. This can cause unexpected crashes. Consider reducing the memory used by your application or reducing the Ray object store size by setting `object_store_memory` when calling `ray.init`.<br>Using FIFO scheduling algorithm.<br>Resources requested: 3.0/3 CPUs, 0/0 GPUs, 0.0/1.51 GiB heap, 0.0/0.75 GiB objects<br>Result logdir: C:\\Users\\Stefan\\git-repos\\work\\mobile-env\\examples\\PPO_2021-11-24_12-32-13<br>Number of trials: 1/1 (1 RUNNING)<br><table>\n<thead>\n<tr><th>Trial name                        </th><th>status  </th><th>loc           </th><th style=\"text-align: right;\">  iter</th><th style=\"text-align: right;\">  total time (s)</th><th style=\"text-align: right;\">   ts</th><th style=\"text-align: right;\">  reward</th><th style=\"text-align: right;\">  episode_reward_max</th><th style=\"text-align: right;\">  episode_reward_min</th><th style=\"text-align: right;\">  episode_len_mean</th></tr>\n</thead>\n<tbody>\n<tr><td>PPO_mobile-small-ma-v0_2b82d_00000</td><td>RUNNING </td><td>127.0.0.1:7956</td><td style=\"text-align: right;\">     9</td><td style=\"text-align: right;\">         345.897</td><td style=\"text-align: right;\">36000</td><td style=\"text-align: right;\">-36.2633</td><td style=\"text-align: right;\">             28.0141</td><td style=\"text-align: right;\">            -307.404</td><td style=\"text-align: right;\">               100</td></tr>\n</tbody>\n</table><br><br>"
     },
     "metadata": {},
     "output_type": "display_data"
    },
    {
     "data": {
      "text/plain": "<IPython.core.display.HTML object>",
      "text/html": "== Status ==<br>Current time: 2021-11-24 12:39:01 (running for 00:06:47.94)<br>Memory usage on this node: 10.9/11.9 GiB: ***LOW MEMORY*** less than 10% of the memory on this node is available for use. This can cause unexpected crashes. Consider reducing the memory used by your application or reducing the Ray object store size by setting `object_store_memory` when calling `ray.init`.<br>Using FIFO scheduling algorithm.<br>Resources requested: 3.0/3 CPUs, 0/0 GPUs, 0.0/1.51 GiB heap, 0.0/0.75 GiB objects<br>Result logdir: C:\\Users\\Stefan\\git-repos\\work\\mobile-env\\examples\\PPO_2021-11-24_12-32-13<br>Number of trials: 1/1 (1 RUNNING)<br><table>\n<thead>\n<tr><th>Trial name                        </th><th>status  </th><th>loc           </th><th style=\"text-align: right;\">  iter</th><th style=\"text-align: right;\">  total time (s)</th><th style=\"text-align: right;\">   ts</th><th style=\"text-align: right;\">  reward</th><th style=\"text-align: right;\">  episode_reward_max</th><th style=\"text-align: right;\">  episode_reward_min</th><th style=\"text-align: right;\">  episode_len_mean</th></tr>\n</thead>\n<tbody>\n<tr><td>PPO_mobile-small-ma-v0_2b82d_00000</td><td>RUNNING </td><td>127.0.0.1:7956</td><td style=\"text-align: right;\">     9</td><td style=\"text-align: right;\">         345.897</td><td style=\"text-align: right;\">36000</td><td style=\"text-align: right;\">-36.2633</td><td style=\"text-align: right;\">             28.0141</td><td style=\"text-align: right;\">            -307.404</td><td style=\"text-align: right;\">               100</td></tr>\n</tbody>\n</table><br><br>"
     },
     "metadata": {},
     "output_type": "display_data"
    },
    {
     "name": "stdout",
     "output_type": "stream",
     "text": [
      "Result for PPO_mobile-small-ma-v0_2b82d_00000:\n",
      "  agent_timesteps_total: 200000\n",
      "  custom_metrics: {}\n",
      "  date: 2021-11-24_12-39-05\n",
      "  done: false\n",
      "  episode_len_mean: 100.0\n",
      "  episode_media: {}\n",
      "  episode_reward_max: 33.72066006899857\n",
      "  episode_reward_mean: -32.099061836934574\n",
      "  episode_reward_min: -301.0544155509032\n",
      "  episodes_this_iter: 40\n",
      "  episodes_total: 400\n",
      "  experiment_id: 4e540bfa436c40ce885eae70b7b6ac0e\n",
      "  hostname: nb-stschn\n",
      "  info:\n",
      "    learner:\n",
      "      shared_policy:\n",
      "        custom_metrics: {}\n",
      "        learner_stats:\n",
      "          cur_kl_coeff: 0.20000000298023224\n",
      "          cur_lr: 4.999999873689376e-05\n",
      "          entropy: 1.1299378871917725\n",
      "          entropy_coeff: 0.0\n",
      "          kl: 0.006103357300162315\n",
      "          model: {}\n",
      "          policy_loss: -0.003299871226772666\n",
      "          total_loss: 57.985862731933594\n",
      "          vf_explained_var: -0.1961873322725296\n",
      "          vf_loss: 57.98794174194336\n",
      "    num_agent_steps_sampled: 200000\n",
      "    num_agent_steps_trained: 200000\n",
      "    num_steps_sampled: 40000\n",
      "    num_steps_trained: 40000\n",
      "    num_steps_trained_this_iter: 0\n",
      "  iterations_since_restore: 10\n",
      "  node_ip: 127.0.0.1\n",
      "  num_healthy_workers: 2\n",
      "  off_policy_estimator: {}\n",
      "  perf:\n",
      "    cpu_util_percent: 68.914\n",
      "    ram_util_percent: 91.88799999999999\n",
      "  pid: 7956\n",
      "  policy_reward_max:\n",
      "    shared_policy: 42.1388282746424\n",
      "  policy_reward_mean:\n",
      "    shared_policy: -6.419812367386916\n",
      "  policy_reward_min:\n",
      "    shared_policy: -89.39424177690312\n",
      "  sampler_perf:\n",
      "    mean_action_processing_ms: 0.17717857106820847\n",
      "    mean_env_render_ms: 0.0\n",
      "    mean_env_wait_ms: 6.731957824979423\n",
      "    mean_inference_ms: 1.6149166619945021\n",
      "    mean_raw_obs_processing_ms: 0.4761121303364078\n",
      "  time_since_restore: 381.2746181488037\n",
      "  time_this_iter_s: 35.377737045288086\n",
      "  time_total_s: 381.2746181488037\n",
      "  timers:\n",
      "    learn_throughput: 200.092\n",
      "    learn_time_ms: 19990.789\n",
      "    load_throughput: 0.0\n",
      "    load_time_ms: 0.0\n",
      "    sample_throughput: 109.893\n",
      "    sample_time_ms: 36398.999\n",
      "    update_time_ms: 2.499\n",
      "  timestamp: 1637753945\n",
      "  timesteps_since_restore: 0\n",
      "  timesteps_this_iter: 0\n",
      "  timesteps_total: 40000\n",
      "  training_iteration: 10\n",
      "  trial_id: 2b82d_00000\n",
      "  \n"
     ]
    },
    {
     "data": {
      "text/plain": "<IPython.core.display.HTML object>",
      "text/html": "== Status ==<br>Current time: 2021-11-24 12:39:06 (running for 00:06:53.05)<br>Memory usage on this node: 10.9/11.9 GiB: ***LOW MEMORY*** less than 10% of the memory on this node is available for use. This can cause unexpected crashes. Consider reducing the memory used by your application or reducing the Ray object store size by setting `object_store_memory` when calling `ray.init`.<br>Using FIFO scheduling algorithm.<br>Resources requested: 3.0/3 CPUs, 0/0 GPUs, 0.0/1.51 GiB heap, 0.0/0.75 GiB objects<br>Result logdir: C:\\Users\\Stefan\\git-repos\\work\\mobile-env\\examples\\PPO_2021-11-24_12-32-13<br>Number of trials: 1/1 (1 RUNNING)<br><table>\n<thead>\n<tr><th>Trial name                        </th><th>status  </th><th>loc           </th><th style=\"text-align: right;\">  iter</th><th style=\"text-align: right;\">  total time (s)</th><th style=\"text-align: right;\">   ts</th><th style=\"text-align: right;\">  reward</th><th style=\"text-align: right;\">  episode_reward_max</th><th style=\"text-align: right;\">  episode_reward_min</th><th style=\"text-align: right;\">  episode_len_mean</th></tr>\n</thead>\n<tbody>\n<tr><td>PPO_mobile-small-ma-v0_2b82d_00000</td><td>RUNNING </td><td>127.0.0.1:7956</td><td style=\"text-align: right;\">    10</td><td style=\"text-align: right;\">         381.275</td><td style=\"text-align: right;\">40000</td><td style=\"text-align: right;\">-32.0991</td><td style=\"text-align: right;\">             33.7207</td><td style=\"text-align: right;\">            -301.054</td><td style=\"text-align: right;\">               100</td></tr>\n</tbody>\n</table><br><br>"
     },
     "metadata": {},
     "output_type": "display_data"
    },
    {
     "data": {
      "text/plain": "<IPython.core.display.HTML object>",
      "text/html": "== Status ==<br>Current time: 2021-11-24 12:39:11 (running for 00:06:58.08)<br>Memory usage on this node: 10.9/11.9 GiB: ***LOW MEMORY*** less than 10% of the memory on this node is available for use. This can cause unexpected crashes. Consider reducing the memory used by your application or reducing the Ray object store size by setting `object_store_memory` when calling `ray.init`.<br>Using FIFO scheduling algorithm.<br>Resources requested: 3.0/3 CPUs, 0/0 GPUs, 0.0/1.51 GiB heap, 0.0/0.75 GiB objects<br>Result logdir: C:\\Users\\Stefan\\git-repos\\work\\mobile-env\\examples\\PPO_2021-11-24_12-32-13<br>Number of trials: 1/1 (1 RUNNING)<br><table>\n<thead>\n<tr><th>Trial name                        </th><th>status  </th><th>loc           </th><th style=\"text-align: right;\">  iter</th><th style=\"text-align: right;\">  total time (s)</th><th style=\"text-align: right;\">   ts</th><th style=\"text-align: right;\">  reward</th><th style=\"text-align: right;\">  episode_reward_max</th><th style=\"text-align: right;\">  episode_reward_min</th><th style=\"text-align: right;\">  episode_len_mean</th></tr>\n</thead>\n<tbody>\n<tr><td>PPO_mobile-small-ma-v0_2b82d_00000</td><td>RUNNING </td><td>127.0.0.1:7956</td><td style=\"text-align: right;\">    10</td><td style=\"text-align: right;\">         381.275</td><td style=\"text-align: right;\">40000</td><td style=\"text-align: right;\">-32.0991</td><td style=\"text-align: right;\">             33.7207</td><td style=\"text-align: right;\">            -301.054</td><td style=\"text-align: right;\">               100</td></tr>\n</tbody>\n</table><br><br>"
     },
     "metadata": {},
     "output_type": "display_data"
    },
    {
     "data": {
      "text/plain": "<IPython.core.display.HTML object>",
      "text/html": "== Status ==<br>Current time: 2021-11-24 12:39:16 (running for 00:07:03.14)<br>Memory usage on this node: 10.9/11.9 GiB: ***LOW MEMORY*** less than 10% of the memory on this node is available for use. This can cause unexpected crashes. Consider reducing the memory used by your application or reducing the Ray object store size by setting `object_store_memory` when calling `ray.init`.<br>Using FIFO scheduling algorithm.<br>Resources requested: 3.0/3 CPUs, 0/0 GPUs, 0.0/1.51 GiB heap, 0.0/0.75 GiB objects<br>Result logdir: C:\\Users\\Stefan\\git-repos\\work\\mobile-env\\examples\\PPO_2021-11-24_12-32-13<br>Number of trials: 1/1 (1 RUNNING)<br><table>\n<thead>\n<tr><th>Trial name                        </th><th>status  </th><th>loc           </th><th style=\"text-align: right;\">  iter</th><th style=\"text-align: right;\">  total time (s)</th><th style=\"text-align: right;\">   ts</th><th style=\"text-align: right;\">  reward</th><th style=\"text-align: right;\">  episode_reward_max</th><th style=\"text-align: right;\">  episode_reward_min</th><th style=\"text-align: right;\">  episode_len_mean</th></tr>\n</thead>\n<tbody>\n<tr><td>PPO_mobile-small-ma-v0_2b82d_00000</td><td>RUNNING </td><td>127.0.0.1:7956</td><td style=\"text-align: right;\">    10</td><td style=\"text-align: right;\">         381.275</td><td style=\"text-align: right;\">40000</td><td style=\"text-align: right;\">-32.0991</td><td style=\"text-align: right;\">             33.7207</td><td style=\"text-align: right;\">            -301.054</td><td style=\"text-align: right;\">               100</td></tr>\n</tbody>\n</table><br><br>"
     },
     "metadata": {},
     "output_type": "display_data"
    },
    {
     "data": {
      "text/plain": "<IPython.core.display.HTML object>",
      "text/html": "== Status ==<br>Current time: 2021-11-24 12:39:21 (running for 00:07:08.20)<br>Memory usage on this node: 10.9/11.9 GiB: ***LOW MEMORY*** less than 10% of the memory on this node is available for use. This can cause unexpected crashes. Consider reducing the memory used by your application or reducing the Ray object store size by setting `object_store_memory` when calling `ray.init`.<br>Using FIFO scheduling algorithm.<br>Resources requested: 3.0/3 CPUs, 0/0 GPUs, 0.0/1.51 GiB heap, 0.0/0.75 GiB objects<br>Result logdir: C:\\Users\\Stefan\\git-repos\\work\\mobile-env\\examples\\PPO_2021-11-24_12-32-13<br>Number of trials: 1/1 (1 RUNNING)<br><table>\n<thead>\n<tr><th>Trial name                        </th><th>status  </th><th>loc           </th><th style=\"text-align: right;\">  iter</th><th style=\"text-align: right;\">  total time (s)</th><th style=\"text-align: right;\">   ts</th><th style=\"text-align: right;\">  reward</th><th style=\"text-align: right;\">  episode_reward_max</th><th style=\"text-align: right;\">  episode_reward_min</th><th style=\"text-align: right;\">  episode_len_mean</th></tr>\n</thead>\n<tbody>\n<tr><td>PPO_mobile-small-ma-v0_2b82d_00000</td><td>RUNNING </td><td>127.0.0.1:7956</td><td style=\"text-align: right;\">    10</td><td style=\"text-align: right;\">         381.275</td><td style=\"text-align: right;\">40000</td><td style=\"text-align: right;\">-32.0991</td><td style=\"text-align: right;\">             33.7207</td><td style=\"text-align: right;\">            -301.054</td><td style=\"text-align: right;\">               100</td></tr>\n</tbody>\n</table><br><br>"
     },
     "metadata": {},
     "output_type": "display_data"
    },
    {
     "data": {
      "text/plain": "<IPython.core.display.HTML object>",
      "text/html": "== Status ==<br>Current time: 2021-11-24 12:39:26 (running for 00:07:13.25)<br>Memory usage on this node: 10.9/11.9 GiB: ***LOW MEMORY*** less than 10% of the memory on this node is available for use. This can cause unexpected crashes. Consider reducing the memory used by your application or reducing the Ray object store size by setting `object_store_memory` when calling `ray.init`.<br>Using FIFO scheduling algorithm.<br>Resources requested: 3.0/3 CPUs, 0/0 GPUs, 0.0/1.51 GiB heap, 0.0/0.75 GiB objects<br>Result logdir: C:\\Users\\Stefan\\git-repos\\work\\mobile-env\\examples\\PPO_2021-11-24_12-32-13<br>Number of trials: 1/1 (1 RUNNING)<br><table>\n<thead>\n<tr><th>Trial name                        </th><th>status  </th><th>loc           </th><th style=\"text-align: right;\">  iter</th><th style=\"text-align: right;\">  total time (s)</th><th style=\"text-align: right;\">   ts</th><th style=\"text-align: right;\">  reward</th><th style=\"text-align: right;\">  episode_reward_max</th><th style=\"text-align: right;\">  episode_reward_min</th><th style=\"text-align: right;\">  episode_len_mean</th></tr>\n</thead>\n<tbody>\n<tr><td>PPO_mobile-small-ma-v0_2b82d_00000</td><td>RUNNING </td><td>127.0.0.1:7956</td><td style=\"text-align: right;\">    10</td><td style=\"text-align: right;\">         381.275</td><td style=\"text-align: right;\">40000</td><td style=\"text-align: right;\">-32.0991</td><td style=\"text-align: right;\">             33.7207</td><td style=\"text-align: right;\">            -301.054</td><td style=\"text-align: right;\">               100</td></tr>\n</tbody>\n</table><br><br>"
     },
     "metadata": {},
     "output_type": "display_data"
    },
    {
     "data": {
      "text/plain": "<IPython.core.display.HTML object>",
      "text/html": "== Status ==<br>Current time: 2021-11-24 12:39:31 (running for 00:07:18.26)<br>Memory usage on this node: 10.9/11.9 GiB: ***LOW MEMORY*** less than 10% of the memory on this node is available for use. This can cause unexpected crashes. Consider reducing the memory used by your application or reducing the Ray object store size by setting `object_store_memory` when calling `ray.init`.<br>Using FIFO scheduling algorithm.<br>Resources requested: 3.0/3 CPUs, 0/0 GPUs, 0.0/1.51 GiB heap, 0.0/0.75 GiB objects<br>Result logdir: C:\\Users\\Stefan\\git-repos\\work\\mobile-env\\examples\\PPO_2021-11-24_12-32-13<br>Number of trials: 1/1 (1 RUNNING)<br><table>\n<thead>\n<tr><th>Trial name                        </th><th>status  </th><th>loc           </th><th style=\"text-align: right;\">  iter</th><th style=\"text-align: right;\">  total time (s)</th><th style=\"text-align: right;\">   ts</th><th style=\"text-align: right;\">  reward</th><th style=\"text-align: right;\">  episode_reward_max</th><th style=\"text-align: right;\">  episode_reward_min</th><th style=\"text-align: right;\">  episode_len_mean</th></tr>\n</thead>\n<tbody>\n<tr><td>PPO_mobile-small-ma-v0_2b82d_00000</td><td>RUNNING </td><td>127.0.0.1:7956</td><td style=\"text-align: right;\">    10</td><td style=\"text-align: right;\">         381.275</td><td style=\"text-align: right;\">40000</td><td style=\"text-align: right;\">-32.0991</td><td style=\"text-align: right;\">             33.7207</td><td style=\"text-align: right;\">            -301.054</td><td style=\"text-align: right;\">               100</td></tr>\n</tbody>\n</table><br><br>"
     },
     "metadata": {},
     "output_type": "display_data"
    },
    {
     "data": {
      "text/plain": "<IPython.core.display.HTML object>",
      "text/html": "== Status ==<br>Current time: 2021-11-24 12:39:37 (running for 00:07:23.41)<br>Memory usage on this node: 10.7/11.9 GiB<br>Using FIFO scheduling algorithm.<br>Resources requested: 3.0/3 CPUs, 0/0 GPUs, 0.0/1.51 GiB heap, 0.0/0.75 GiB objects<br>Result logdir: C:\\Users\\Stefan\\git-repos\\work\\mobile-env\\examples\\PPO_2021-11-24_12-32-13<br>Number of trials: 1/1 (1 RUNNING)<br><table>\n<thead>\n<tr><th>Trial name                        </th><th>status  </th><th>loc           </th><th style=\"text-align: right;\">  iter</th><th style=\"text-align: right;\">  total time (s)</th><th style=\"text-align: right;\">   ts</th><th style=\"text-align: right;\">  reward</th><th style=\"text-align: right;\">  episode_reward_max</th><th style=\"text-align: right;\">  episode_reward_min</th><th style=\"text-align: right;\">  episode_len_mean</th></tr>\n</thead>\n<tbody>\n<tr><td>PPO_mobile-small-ma-v0_2b82d_00000</td><td>RUNNING </td><td>127.0.0.1:7956</td><td style=\"text-align: right;\">    10</td><td style=\"text-align: right;\">         381.275</td><td style=\"text-align: right;\">40000</td><td style=\"text-align: right;\">-32.0991</td><td style=\"text-align: right;\">             33.7207</td><td style=\"text-align: right;\">            -301.054</td><td style=\"text-align: right;\">               100</td></tr>\n</tbody>\n</table><br><br>"
     },
     "metadata": {},
     "output_type": "display_data"
    },
    {
     "data": {
      "text/plain": "<IPython.core.display.HTML object>",
      "text/html": "== Status ==<br>Current time: 2021-11-24 12:39:42 (running for 00:07:28.49)<br>Memory usage on this node: 10.7/11.9 GiB<br>Using FIFO scheduling algorithm.<br>Resources requested: 3.0/3 CPUs, 0/0 GPUs, 0.0/1.51 GiB heap, 0.0/0.75 GiB objects<br>Result logdir: C:\\Users\\Stefan\\git-repos\\work\\mobile-env\\examples\\PPO_2021-11-24_12-32-13<br>Number of trials: 1/1 (1 RUNNING)<br><table>\n<thead>\n<tr><th>Trial name                        </th><th>status  </th><th>loc           </th><th style=\"text-align: right;\">  iter</th><th style=\"text-align: right;\">  total time (s)</th><th style=\"text-align: right;\">   ts</th><th style=\"text-align: right;\">  reward</th><th style=\"text-align: right;\">  episode_reward_max</th><th style=\"text-align: right;\">  episode_reward_min</th><th style=\"text-align: right;\">  episode_len_mean</th></tr>\n</thead>\n<tbody>\n<tr><td>PPO_mobile-small-ma-v0_2b82d_00000</td><td>RUNNING </td><td>127.0.0.1:7956</td><td style=\"text-align: right;\">    10</td><td style=\"text-align: right;\">         381.275</td><td style=\"text-align: right;\">40000</td><td style=\"text-align: right;\">-32.0991</td><td style=\"text-align: right;\">             33.7207</td><td style=\"text-align: right;\">            -301.054</td><td style=\"text-align: right;\">               100</td></tr>\n</tbody>\n</table><br><br>"
     },
     "metadata": {},
     "output_type": "display_data"
    },
    {
     "name": "stdout",
     "output_type": "stream",
     "text": [
      "Result for PPO_mobile-small-ma-v0_2b82d_00000:\n",
      "  agent_timesteps_total: 220000\n",
      "  custom_metrics: {}\n",
      "  date: 2021-11-24_12-39-42\n",
      "  done: false\n",
      "  episode_len_mean: 100.0\n",
      "  episode_media: {}\n",
      "  episode_reward_max: 76.60983866128029\n",
      "  episode_reward_mean: -25.00437293296074\n",
      "  episode_reward_min: -156.68041022451237\n",
      "  episodes_this_iter: 40\n",
      "  episodes_total: 440\n",
      "  experiment_id: 4e540bfa436c40ce885eae70b7b6ac0e\n",
      "  hostname: nb-stschn\n",
      "  info:\n",
      "    learner:\n",
      "      shared_policy:\n",
      "        custom_metrics: {}\n",
      "        learner_stats:\n",
      "          cur_kl_coeff: 0.20000000298023224\n",
      "          cur_lr: 4.999999873689376e-05\n",
      "          entropy: 1.111107349395752\n",
      "          entropy_coeff: 0.0\n",
      "          kl: 0.008636608719825745\n",
      "          model: {}\n",
      "          policy_loss: -0.005253782961517572\n",
      "          total_loss: 63.161590576171875\n",
      "          vf_explained_var: -0.20226168632507324\n",
      "          vf_loss: 63.165122985839844\n",
      "    num_agent_steps_sampled: 220000\n",
      "    num_agent_steps_trained: 220000\n",
      "    num_steps_sampled: 44000\n",
      "    num_steps_trained: 44000\n",
      "    num_steps_trained_this_iter: 0\n",
      "  iterations_since_restore: 11\n",
      "  node_ip: 127.0.0.1\n",
      "  num_healthy_workers: 2\n",
      "  off_policy_estimator: {}\n",
      "  perf:\n",
      "    cpu_util_percent: 71.51346153846154\n",
      "    ram_util_percent: 91.61153846153846\n",
      "  pid: 7956\n",
      "  policy_reward_max:\n",
      "    shared_policy: 42.1388282746424\n",
      "  policy_reward_mean:\n",
      "    shared_policy: -5.000874586592149\n",
      "  policy_reward_min:\n",
      "    shared_policy: -100.0\n",
      "  sampler_perf:\n",
      "    mean_action_processing_ms: 0.1742830208595818\n",
      "    mean_env_render_ms: 0.0\n",
      "    mean_env_wait_ms: 6.721386447912501\n",
      "    mean_inference_ms: 1.6068779376316087\n",
      "    mean_raw_obs_processing_ms: 0.4762444523177788\n",
      "  time_since_restore: 418.4226624965668\n",
      "  time_this_iter_s: 37.14804434776306\n",
      "  time_total_s: 418.4226624965668\n",
      "  timers:\n",
      "    learn_throughput: 201.059\n",
      "    learn_time_ms: 19894.672\n",
      "    load_throughput: 0.0\n",
      "    load_time_ms: 0.0\n",
      "    sample_throughput: 104.388\n",
      "    sample_time_ms: 38318.573\n",
      "    update_time_ms: 2.499\n",
      "  timestamp: 1637753982\n",
      "  timesteps_since_restore: 0\n",
      "  timesteps_this_iter: 0\n",
      "  timesteps_total: 44000\n",
      "  training_iteration: 11\n",
      "  trial_id: 2b82d_00000\n",
      "  \n"
     ]
    },
    {
     "data": {
      "text/plain": "<IPython.core.display.HTML object>",
      "text/html": "== Status ==<br>Current time: 2021-11-24 12:39:47 (running for 00:07:33.95)<br>Memory usage on this node: 10.8/11.9 GiB: ***LOW MEMORY*** less than 10% of the memory on this node is available for use. This can cause unexpected crashes. Consider reducing the memory used by your application or reducing the Ray object store size by setting `object_store_memory` when calling `ray.init`.<br>Using FIFO scheduling algorithm.<br>Resources requested: 3.0/3 CPUs, 0/0 GPUs, 0.0/1.51 GiB heap, 0.0/0.75 GiB objects<br>Result logdir: C:\\Users\\Stefan\\git-repos\\work\\mobile-env\\examples\\PPO_2021-11-24_12-32-13<br>Number of trials: 1/1 (1 RUNNING)<br><table>\n<thead>\n<tr><th>Trial name                        </th><th>status  </th><th>loc           </th><th style=\"text-align: right;\">  iter</th><th style=\"text-align: right;\">  total time (s)</th><th style=\"text-align: right;\">   ts</th><th style=\"text-align: right;\">  reward</th><th style=\"text-align: right;\">  episode_reward_max</th><th style=\"text-align: right;\">  episode_reward_min</th><th style=\"text-align: right;\">  episode_len_mean</th></tr>\n</thead>\n<tbody>\n<tr><td>PPO_mobile-small-ma-v0_2b82d_00000</td><td>RUNNING </td><td>127.0.0.1:7956</td><td style=\"text-align: right;\">    11</td><td style=\"text-align: right;\">         418.423</td><td style=\"text-align: right;\">44000</td><td style=\"text-align: right;\">-25.0044</td><td style=\"text-align: right;\">             76.6098</td><td style=\"text-align: right;\">             -156.68</td><td style=\"text-align: right;\">               100</td></tr>\n</tbody>\n</table><br><br>"
     },
     "metadata": {},
     "output_type": "display_data"
    },
    {
     "data": {
      "text/plain": "<IPython.core.display.HTML object>",
      "text/html": "== Status ==<br>Current time: 2021-11-24 12:39:52 (running for 00:07:39.04)<br>Memory usage on this node: 10.8/11.9 GiB: ***LOW MEMORY*** less than 10% of the memory on this node is available for use. This can cause unexpected crashes. Consider reducing the memory used by your application or reducing the Ray object store size by setting `object_store_memory` when calling `ray.init`.<br>Using FIFO scheduling algorithm.<br>Resources requested: 3.0/3 CPUs, 0/0 GPUs, 0.0/1.51 GiB heap, 0.0/0.75 GiB objects<br>Result logdir: C:\\Users\\Stefan\\git-repos\\work\\mobile-env\\examples\\PPO_2021-11-24_12-32-13<br>Number of trials: 1/1 (1 RUNNING)<br><table>\n<thead>\n<tr><th>Trial name                        </th><th>status  </th><th>loc           </th><th style=\"text-align: right;\">  iter</th><th style=\"text-align: right;\">  total time (s)</th><th style=\"text-align: right;\">   ts</th><th style=\"text-align: right;\">  reward</th><th style=\"text-align: right;\">  episode_reward_max</th><th style=\"text-align: right;\">  episode_reward_min</th><th style=\"text-align: right;\">  episode_len_mean</th></tr>\n</thead>\n<tbody>\n<tr><td>PPO_mobile-small-ma-v0_2b82d_00000</td><td>RUNNING </td><td>127.0.0.1:7956</td><td style=\"text-align: right;\">    11</td><td style=\"text-align: right;\">         418.423</td><td style=\"text-align: right;\">44000</td><td style=\"text-align: right;\">-25.0044</td><td style=\"text-align: right;\">             76.6098</td><td style=\"text-align: right;\">             -156.68</td><td style=\"text-align: right;\">               100</td></tr>\n</tbody>\n</table><br><br>"
     },
     "metadata": {},
     "output_type": "display_data"
    },
    {
     "data": {
      "text/plain": "<IPython.core.display.HTML object>",
      "text/html": "== Status ==<br>Current time: 2021-11-24 12:39:57 (running for 00:07:44.15)<br>Memory usage on this node: 10.8/11.9 GiB: ***LOW MEMORY*** less than 10% of the memory on this node is available for use. This can cause unexpected crashes. Consider reducing the memory used by your application or reducing the Ray object store size by setting `object_store_memory` when calling `ray.init`.<br>Using FIFO scheduling algorithm.<br>Resources requested: 3.0/3 CPUs, 0/0 GPUs, 0.0/1.51 GiB heap, 0.0/0.75 GiB objects<br>Result logdir: C:\\Users\\Stefan\\git-repos\\work\\mobile-env\\examples\\PPO_2021-11-24_12-32-13<br>Number of trials: 1/1 (1 RUNNING)<br><table>\n<thead>\n<tr><th>Trial name                        </th><th>status  </th><th>loc           </th><th style=\"text-align: right;\">  iter</th><th style=\"text-align: right;\">  total time (s)</th><th style=\"text-align: right;\">   ts</th><th style=\"text-align: right;\">  reward</th><th style=\"text-align: right;\">  episode_reward_max</th><th style=\"text-align: right;\">  episode_reward_min</th><th style=\"text-align: right;\">  episode_len_mean</th></tr>\n</thead>\n<tbody>\n<tr><td>PPO_mobile-small-ma-v0_2b82d_00000</td><td>RUNNING </td><td>127.0.0.1:7956</td><td style=\"text-align: right;\">    11</td><td style=\"text-align: right;\">         418.423</td><td style=\"text-align: right;\">44000</td><td style=\"text-align: right;\">-25.0044</td><td style=\"text-align: right;\">             76.6098</td><td style=\"text-align: right;\">             -156.68</td><td style=\"text-align: right;\">               100</td></tr>\n</tbody>\n</table><br><br>"
     },
     "metadata": {},
     "output_type": "display_data"
    },
    {
     "data": {
      "text/plain": "<IPython.core.display.HTML object>",
      "text/html": "== Status ==<br>Current time: 2021-11-24 12:40:02 (running for 00:07:49.21)<br>Memory usage on this node: 10.8/11.9 GiB: ***LOW MEMORY*** less than 10% of the memory on this node is available for use. This can cause unexpected crashes. Consider reducing the memory used by your application or reducing the Ray object store size by setting `object_store_memory` when calling `ray.init`.<br>Using FIFO scheduling algorithm.<br>Resources requested: 3.0/3 CPUs, 0/0 GPUs, 0.0/1.51 GiB heap, 0.0/0.75 GiB objects<br>Result logdir: C:\\Users\\Stefan\\git-repos\\work\\mobile-env\\examples\\PPO_2021-11-24_12-32-13<br>Number of trials: 1/1 (1 RUNNING)<br><table>\n<thead>\n<tr><th>Trial name                        </th><th>status  </th><th>loc           </th><th style=\"text-align: right;\">  iter</th><th style=\"text-align: right;\">  total time (s)</th><th style=\"text-align: right;\">   ts</th><th style=\"text-align: right;\">  reward</th><th style=\"text-align: right;\">  episode_reward_max</th><th style=\"text-align: right;\">  episode_reward_min</th><th style=\"text-align: right;\">  episode_len_mean</th></tr>\n</thead>\n<tbody>\n<tr><td>PPO_mobile-small-ma-v0_2b82d_00000</td><td>RUNNING </td><td>127.0.0.1:7956</td><td style=\"text-align: right;\">    11</td><td style=\"text-align: right;\">         418.423</td><td style=\"text-align: right;\">44000</td><td style=\"text-align: right;\">-25.0044</td><td style=\"text-align: right;\">             76.6098</td><td style=\"text-align: right;\">             -156.68</td><td style=\"text-align: right;\">               100</td></tr>\n</tbody>\n</table><br><br>"
     },
     "metadata": {},
     "output_type": "display_data"
    },
    {
     "data": {
      "text/plain": "<IPython.core.display.HTML object>",
      "text/html": "== Status ==<br>Current time: 2021-11-24 12:40:07 (running for 00:07:54.27)<br>Memory usage on this node: 10.8/11.9 GiB: ***LOW MEMORY*** less than 10% of the memory on this node is available for use. This can cause unexpected crashes. Consider reducing the memory used by your application or reducing the Ray object store size by setting `object_store_memory` when calling `ray.init`.<br>Using FIFO scheduling algorithm.<br>Resources requested: 3.0/3 CPUs, 0/0 GPUs, 0.0/1.51 GiB heap, 0.0/0.75 GiB objects<br>Result logdir: C:\\Users\\Stefan\\git-repos\\work\\mobile-env\\examples\\PPO_2021-11-24_12-32-13<br>Number of trials: 1/1 (1 RUNNING)<br><table>\n<thead>\n<tr><th>Trial name                        </th><th>status  </th><th>loc           </th><th style=\"text-align: right;\">  iter</th><th style=\"text-align: right;\">  total time (s)</th><th style=\"text-align: right;\">   ts</th><th style=\"text-align: right;\">  reward</th><th style=\"text-align: right;\">  episode_reward_max</th><th style=\"text-align: right;\">  episode_reward_min</th><th style=\"text-align: right;\">  episode_len_mean</th></tr>\n</thead>\n<tbody>\n<tr><td>PPO_mobile-small-ma-v0_2b82d_00000</td><td>RUNNING </td><td>127.0.0.1:7956</td><td style=\"text-align: right;\">    11</td><td style=\"text-align: right;\">         418.423</td><td style=\"text-align: right;\">44000</td><td style=\"text-align: right;\">-25.0044</td><td style=\"text-align: right;\">             76.6098</td><td style=\"text-align: right;\">             -156.68</td><td style=\"text-align: right;\">               100</td></tr>\n</tbody>\n</table><br><br>"
     },
     "metadata": {},
     "output_type": "display_data"
    },
    {
     "data": {
      "text/plain": "<IPython.core.display.HTML object>",
      "text/html": "== Status ==<br>Current time: 2021-11-24 12:40:12 (running for 00:07:59.33)<br>Memory usage on this node: 10.7/11.9 GiB: ***LOW MEMORY*** less than 10% of the memory on this node is available for use. This can cause unexpected crashes. Consider reducing the memory used by your application or reducing the Ray object store size by setting `object_store_memory` when calling `ray.init`.<br>Using FIFO scheduling algorithm.<br>Resources requested: 3.0/3 CPUs, 0/0 GPUs, 0.0/1.51 GiB heap, 0.0/0.75 GiB objects<br>Result logdir: C:\\Users\\Stefan\\git-repos\\work\\mobile-env\\examples\\PPO_2021-11-24_12-32-13<br>Number of trials: 1/1 (1 RUNNING)<br><table>\n<thead>\n<tr><th>Trial name                        </th><th>status  </th><th>loc           </th><th style=\"text-align: right;\">  iter</th><th style=\"text-align: right;\">  total time (s)</th><th style=\"text-align: right;\">   ts</th><th style=\"text-align: right;\">  reward</th><th style=\"text-align: right;\">  episode_reward_max</th><th style=\"text-align: right;\">  episode_reward_min</th><th style=\"text-align: right;\">  episode_len_mean</th></tr>\n</thead>\n<tbody>\n<tr><td>PPO_mobile-small-ma-v0_2b82d_00000</td><td>RUNNING </td><td>127.0.0.1:7956</td><td style=\"text-align: right;\">    11</td><td style=\"text-align: right;\">         418.423</td><td style=\"text-align: right;\">44000</td><td style=\"text-align: right;\">-25.0044</td><td style=\"text-align: right;\">             76.6098</td><td style=\"text-align: right;\">             -156.68</td><td style=\"text-align: right;\">               100</td></tr>\n</tbody>\n</table><br><br>"
     },
     "metadata": {},
     "output_type": "display_data"
    },
    {
     "data": {
      "text/plain": "<IPython.core.display.HTML object>",
      "text/html": "== Status ==<br>Current time: 2021-11-24 12:40:18 (running for 00:08:04.52)<br>Memory usage on this node: 10.7/11.9 GiB: ***LOW MEMORY*** less than 10% of the memory on this node is available for use. This can cause unexpected crashes. Consider reducing the memory used by your application or reducing the Ray object store size by setting `object_store_memory` when calling `ray.init`.<br>Using FIFO scheduling algorithm.<br>Resources requested: 3.0/3 CPUs, 0/0 GPUs, 0.0/1.51 GiB heap, 0.0/0.75 GiB objects<br>Result logdir: C:\\Users\\Stefan\\git-repos\\work\\mobile-env\\examples\\PPO_2021-11-24_12-32-13<br>Number of trials: 1/1 (1 RUNNING)<br><table>\n<thead>\n<tr><th>Trial name                        </th><th>status  </th><th>loc           </th><th style=\"text-align: right;\">  iter</th><th style=\"text-align: right;\">  total time (s)</th><th style=\"text-align: right;\">   ts</th><th style=\"text-align: right;\">  reward</th><th style=\"text-align: right;\">  episode_reward_max</th><th style=\"text-align: right;\">  episode_reward_min</th><th style=\"text-align: right;\">  episode_len_mean</th></tr>\n</thead>\n<tbody>\n<tr><td>PPO_mobile-small-ma-v0_2b82d_00000</td><td>RUNNING </td><td>127.0.0.1:7956</td><td style=\"text-align: right;\">    11</td><td style=\"text-align: right;\">         418.423</td><td style=\"text-align: right;\">44000</td><td style=\"text-align: right;\">-25.0044</td><td style=\"text-align: right;\">             76.6098</td><td style=\"text-align: right;\">             -156.68</td><td style=\"text-align: right;\">               100</td></tr>\n</tbody>\n</table><br><br>"
     },
     "metadata": {},
     "output_type": "display_data"
    },
    {
     "data": {
      "text/plain": "<IPython.core.display.HTML object>",
      "text/html": "== Status ==<br>Current time: 2021-11-24 12:40:23 (running for 00:08:09.59)<br>Memory usage on this node: 10.8/11.9 GiB: ***LOW MEMORY*** less than 10% of the memory on this node is available for use. This can cause unexpected crashes. Consider reducing the memory used by your application or reducing the Ray object store size by setting `object_store_memory` when calling `ray.init`.<br>Using FIFO scheduling algorithm.<br>Resources requested: 3.0/3 CPUs, 0/0 GPUs, 0.0/1.51 GiB heap, 0.0/0.75 GiB objects<br>Result logdir: C:\\Users\\Stefan\\git-repos\\work\\mobile-env\\examples\\PPO_2021-11-24_12-32-13<br>Number of trials: 1/1 (1 RUNNING)<br><table>\n<thead>\n<tr><th>Trial name                        </th><th>status  </th><th>loc           </th><th style=\"text-align: right;\">  iter</th><th style=\"text-align: right;\">  total time (s)</th><th style=\"text-align: right;\">   ts</th><th style=\"text-align: right;\">  reward</th><th style=\"text-align: right;\">  episode_reward_max</th><th style=\"text-align: right;\">  episode_reward_min</th><th style=\"text-align: right;\">  episode_len_mean</th></tr>\n</thead>\n<tbody>\n<tr><td>PPO_mobile-small-ma-v0_2b82d_00000</td><td>RUNNING </td><td>127.0.0.1:7956</td><td style=\"text-align: right;\">    11</td><td style=\"text-align: right;\">         418.423</td><td style=\"text-align: right;\">44000</td><td style=\"text-align: right;\">-25.0044</td><td style=\"text-align: right;\">             76.6098</td><td style=\"text-align: right;\">             -156.68</td><td style=\"text-align: right;\">               100</td></tr>\n</tbody>\n</table><br><br>"
     },
     "metadata": {},
     "output_type": "display_data"
    },
    {
     "name": "stdout",
     "output_type": "stream",
     "text": [
      "Result for PPO_mobile-small-ma-v0_2b82d_00000:\n",
      "  agent_timesteps_total: 240000\n",
      "  custom_metrics: {}\n",
      "  date: 2021-11-24_12-40-26\n",
      "  done: false\n",
      "  episode_len_mean: 100.0\n",
      "  episode_media: {}\n",
      "  episode_reward_max: 76.60983866128029\n",
      "  episode_reward_mean: -25.139173555377642\n",
      "  episode_reward_min: -158.71299775589793\n",
      "  episodes_this_iter: 40\n",
      "  episodes_total: 480\n",
      "  experiment_id: 4e540bfa436c40ce885eae70b7b6ac0e\n",
      "  hostname: nb-stschn\n",
      "  info:\n",
      "    learner:\n",
      "      shared_policy:\n",
      "        custom_metrics: {}\n",
      "        learner_stats:\n",
      "          cur_kl_coeff: 0.20000000298023224\n",
      "          cur_lr: 4.999999873689376e-05\n",
      "          entropy: 1.100955843925476\n",
      "          entropy_coeff: 0.0\n",
      "          kl: 0.005644019227474928\n",
      "          model: {}\n",
      "          policy_loss: -0.0038178933318704367\n",
      "          total_loss: 64.17167663574219\n",
      "          vf_explained_var: -0.1336476355791092\n",
      "          vf_loss: 64.17436218261719\n",
      "    num_agent_steps_sampled: 240000\n",
      "    num_agent_steps_trained: 240000\n",
      "    num_steps_sampled: 48000\n",
      "    num_steps_trained: 48000\n",
      "    num_steps_trained_this_iter: 0\n",
      "  iterations_since_restore: 12\n",
      "  node_ip: 127.0.0.1\n",
      "  num_healthy_workers: 2\n",
      "  off_policy_estimator: {}\n",
      "  perf:\n",
      "    cpu_util_percent: 79.65000000000002\n",
      "    ram_util_percent: 90.49666666666663\n",
      "  pid: 7956\n",
      "  policy_reward_max:\n",
      "    shared_policy: 38.073590681104506\n",
      "  policy_reward_mean:\n",
      "    shared_policy: -5.027834711075529\n",
      "  policy_reward_min:\n",
      "    shared_policy: -100.0\n",
      "  sampler_perf:\n",
      "    mean_action_processing_ms: 0.17415585588546253\n",
      "    mean_env_render_ms: 0.0\n",
      "    mean_env_wait_ms: 6.786551093850811\n",
      "    mean_inference_ms: 1.6200170457173022\n",
      "    mean_raw_obs_processing_ms: 0.47818855945121946\n",
      "  time_since_restore: 461.5246617794037\n",
      "  time_this_iter_s: 43.101999282836914\n",
      "  time_total_s: 461.5246617794037\n",
      "  timers:\n",
      "    learn_throughput: 200.668\n",
      "    learn_time_ms: 19933.453\n",
      "    load_throughput: 39794155.598\n",
      "    load_time_ms: 0.101\n",
      "    sample_throughput: 103.134\n",
      "    sample_time_ms: 38784.546\n",
      "    update_time_ms: 2.799\n",
      "  timestamp: 1637754026\n",
      "  timesteps_since_restore: 0\n",
      "  timesteps_this_iter: 0\n",
      "  timesteps_total: 48000\n",
      "  training_iteration: 12\n",
      "  trial_id: 2b82d_00000\n",
      "  \n"
     ]
    },
    {
     "data": {
      "text/plain": "<IPython.core.display.HTML object>",
      "text/html": "== Status ==<br>Current time: 2021-11-24 12:40:29 (running for 00:08:15.51)<br>Memory usage on this node: 10.8/11.9 GiB: ***LOW MEMORY*** less than 10% of the memory on this node is available for use. This can cause unexpected crashes. Consider reducing the memory used by your application or reducing the Ray object store size by setting `object_store_memory` when calling `ray.init`.<br>Using FIFO scheduling algorithm.<br>Resources requested: 3.0/3 CPUs, 0/0 GPUs, 0.0/1.51 GiB heap, 0.0/0.75 GiB objects<br>Result logdir: C:\\Users\\Stefan\\git-repos\\work\\mobile-env\\examples\\PPO_2021-11-24_12-32-13<br>Number of trials: 1/1 (1 RUNNING)<br><table>\n<thead>\n<tr><th>Trial name                        </th><th>status  </th><th>loc           </th><th style=\"text-align: right;\">  iter</th><th style=\"text-align: right;\">  total time (s)</th><th style=\"text-align: right;\">   ts</th><th style=\"text-align: right;\">  reward</th><th style=\"text-align: right;\">  episode_reward_max</th><th style=\"text-align: right;\">  episode_reward_min</th><th style=\"text-align: right;\">  episode_len_mean</th></tr>\n</thead>\n<tbody>\n<tr><td>PPO_mobile-small-ma-v0_2b82d_00000</td><td>RUNNING </td><td>127.0.0.1:7956</td><td style=\"text-align: right;\">    12</td><td style=\"text-align: right;\">         461.525</td><td style=\"text-align: right;\">48000</td><td style=\"text-align: right;\">-25.1392</td><td style=\"text-align: right;\">             76.6098</td><td style=\"text-align: right;\">            -158.713</td><td style=\"text-align: right;\">               100</td></tr>\n</tbody>\n</table><br><br>"
     },
     "metadata": {},
     "output_type": "display_data"
    },
    {
     "data": {
      "text/plain": "<IPython.core.display.HTML object>",
      "text/html": "== Status ==<br>Current time: 2021-11-24 12:40:34 (running for 00:08:20.55)<br>Memory usage on this node: 10.8/11.9 GiB: ***LOW MEMORY*** less than 10% of the memory on this node is available for use. This can cause unexpected crashes. Consider reducing the memory used by your application or reducing the Ray object store size by setting `object_store_memory` when calling `ray.init`.<br>Using FIFO scheduling algorithm.<br>Resources requested: 3.0/3 CPUs, 0/0 GPUs, 0.0/1.51 GiB heap, 0.0/0.75 GiB objects<br>Result logdir: C:\\Users\\Stefan\\git-repos\\work\\mobile-env\\examples\\PPO_2021-11-24_12-32-13<br>Number of trials: 1/1 (1 RUNNING)<br><table>\n<thead>\n<tr><th>Trial name                        </th><th>status  </th><th>loc           </th><th style=\"text-align: right;\">  iter</th><th style=\"text-align: right;\">  total time (s)</th><th style=\"text-align: right;\">   ts</th><th style=\"text-align: right;\">  reward</th><th style=\"text-align: right;\">  episode_reward_max</th><th style=\"text-align: right;\">  episode_reward_min</th><th style=\"text-align: right;\">  episode_len_mean</th></tr>\n</thead>\n<tbody>\n<tr><td>PPO_mobile-small-ma-v0_2b82d_00000</td><td>RUNNING </td><td>127.0.0.1:7956</td><td style=\"text-align: right;\">    12</td><td style=\"text-align: right;\">         461.525</td><td style=\"text-align: right;\">48000</td><td style=\"text-align: right;\">-25.1392</td><td style=\"text-align: right;\">             76.6098</td><td style=\"text-align: right;\">            -158.713</td><td style=\"text-align: right;\">               100</td></tr>\n</tbody>\n</table><br><br>"
     },
     "metadata": {},
     "output_type": "display_data"
    },
    {
     "data": {
      "text/plain": "<IPython.core.display.HTML object>",
      "text/html": "== Status ==<br>Current time: 2021-11-24 12:40:39 (running for 00:08:25.62)<br>Memory usage on this node: 10.9/11.9 GiB: ***LOW MEMORY*** less than 10% of the memory on this node is available for use. This can cause unexpected crashes. Consider reducing the memory used by your application or reducing the Ray object store size by setting `object_store_memory` when calling `ray.init`.<br>Using FIFO scheduling algorithm.<br>Resources requested: 3.0/3 CPUs, 0/0 GPUs, 0.0/1.51 GiB heap, 0.0/0.75 GiB objects<br>Result logdir: C:\\Users\\Stefan\\git-repos\\work\\mobile-env\\examples\\PPO_2021-11-24_12-32-13<br>Number of trials: 1/1 (1 RUNNING)<br><table>\n<thead>\n<tr><th>Trial name                        </th><th>status  </th><th>loc           </th><th style=\"text-align: right;\">  iter</th><th style=\"text-align: right;\">  total time (s)</th><th style=\"text-align: right;\">   ts</th><th style=\"text-align: right;\">  reward</th><th style=\"text-align: right;\">  episode_reward_max</th><th style=\"text-align: right;\">  episode_reward_min</th><th style=\"text-align: right;\">  episode_len_mean</th></tr>\n</thead>\n<tbody>\n<tr><td>PPO_mobile-small-ma-v0_2b82d_00000</td><td>RUNNING </td><td>127.0.0.1:7956</td><td style=\"text-align: right;\">    12</td><td style=\"text-align: right;\">         461.525</td><td style=\"text-align: right;\">48000</td><td style=\"text-align: right;\">-25.1392</td><td style=\"text-align: right;\">             76.6098</td><td style=\"text-align: right;\">            -158.713</td><td style=\"text-align: right;\">               100</td></tr>\n</tbody>\n</table><br><br>"
     },
     "metadata": {},
     "output_type": "display_data"
    },
    {
     "data": {
      "text/plain": "<IPython.core.display.HTML object>",
      "text/html": "== Status ==<br>Current time: 2021-11-24 12:40:44 (running for 00:08:30.74)<br>Memory usage on this node: 10.9/11.9 GiB: ***LOW MEMORY*** less than 10% of the memory on this node is available for use. This can cause unexpected crashes. Consider reducing the memory used by your application or reducing the Ray object store size by setting `object_store_memory` when calling `ray.init`.<br>Using FIFO scheduling algorithm.<br>Resources requested: 3.0/3 CPUs, 0/0 GPUs, 0.0/1.51 GiB heap, 0.0/0.75 GiB objects<br>Result logdir: C:\\Users\\Stefan\\git-repos\\work\\mobile-env\\examples\\PPO_2021-11-24_12-32-13<br>Number of trials: 1/1 (1 RUNNING)<br><table>\n<thead>\n<tr><th>Trial name                        </th><th>status  </th><th>loc           </th><th style=\"text-align: right;\">  iter</th><th style=\"text-align: right;\">  total time (s)</th><th style=\"text-align: right;\">   ts</th><th style=\"text-align: right;\">  reward</th><th style=\"text-align: right;\">  episode_reward_max</th><th style=\"text-align: right;\">  episode_reward_min</th><th style=\"text-align: right;\">  episode_len_mean</th></tr>\n</thead>\n<tbody>\n<tr><td>PPO_mobile-small-ma-v0_2b82d_00000</td><td>RUNNING </td><td>127.0.0.1:7956</td><td style=\"text-align: right;\">    12</td><td style=\"text-align: right;\">         461.525</td><td style=\"text-align: right;\">48000</td><td style=\"text-align: right;\">-25.1392</td><td style=\"text-align: right;\">             76.6098</td><td style=\"text-align: right;\">            -158.713</td><td style=\"text-align: right;\">               100</td></tr>\n</tbody>\n</table><br><br>"
     },
     "metadata": {},
     "output_type": "display_data"
    },
    {
     "data": {
      "text/plain": "<IPython.core.display.HTML object>",
      "text/html": "== Status ==<br>Current time: 2021-11-24 12:40:50 (running for 00:08:36.40)<br>Memory usage on this node: 11.0/11.9 GiB: ***LOW MEMORY*** less than 10% of the memory on this node is available for use. This can cause unexpected crashes. Consider reducing the memory used by your application or reducing the Ray object store size by setting `object_store_memory` when calling `ray.init`.<br>Using FIFO scheduling algorithm.<br>Resources requested: 3.0/3 CPUs, 0/0 GPUs, 0.0/1.51 GiB heap, 0.0/0.75 GiB objects<br>Result logdir: C:\\Users\\Stefan\\git-repos\\work\\mobile-env\\examples\\PPO_2021-11-24_12-32-13<br>Number of trials: 1/1 (1 RUNNING)<br><table>\n<thead>\n<tr><th>Trial name                        </th><th>status  </th><th>loc           </th><th style=\"text-align: right;\">  iter</th><th style=\"text-align: right;\">  total time (s)</th><th style=\"text-align: right;\">   ts</th><th style=\"text-align: right;\">  reward</th><th style=\"text-align: right;\">  episode_reward_max</th><th style=\"text-align: right;\">  episode_reward_min</th><th style=\"text-align: right;\">  episode_len_mean</th></tr>\n</thead>\n<tbody>\n<tr><td>PPO_mobile-small-ma-v0_2b82d_00000</td><td>RUNNING </td><td>127.0.0.1:7956</td><td style=\"text-align: right;\">    12</td><td style=\"text-align: right;\">         461.525</td><td style=\"text-align: right;\">48000</td><td style=\"text-align: right;\">-25.1392</td><td style=\"text-align: right;\">             76.6098</td><td style=\"text-align: right;\">            -158.713</td><td style=\"text-align: right;\">               100</td></tr>\n</tbody>\n</table><br><br>"
     },
     "metadata": {},
     "output_type": "display_data"
    },
    {
     "data": {
      "text/plain": "<IPython.core.display.HTML object>",
      "text/html": "== Status ==<br>Current time: 2021-11-24 12:40:55 (running for 00:08:41.53)<br>Memory usage on this node: 11.2/11.9 GiB: ***LOW MEMORY*** less than 10% of the memory on this node is available for use. This can cause unexpected crashes. Consider reducing the memory used by your application or reducing the Ray object store size by setting `object_store_memory` when calling `ray.init`.<br>Using FIFO scheduling algorithm.<br>Resources requested: 3.0/3 CPUs, 0/0 GPUs, 0.0/1.51 GiB heap, 0.0/0.75 GiB objects<br>Result logdir: C:\\Users\\Stefan\\git-repos\\work\\mobile-env\\examples\\PPO_2021-11-24_12-32-13<br>Number of trials: 1/1 (1 RUNNING)<br><table>\n<thead>\n<tr><th>Trial name                        </th><th>status  </th><th>loc           </th><th style=\"text-align: right;\">  iter</th><th style=\"text-align: right;\">  total time (s)</th><th style=\"text-align: right;\">   ts</th><th style=\"text-align: right;\">  reward</th><th style=\"text-align: right;\">  episode_reward_max</th><th style=\"text-align: right;\">  episode_reward_min</th><th style=\"text-align: right;\">  episode_len_mean</th></tr>\n</thead>\n<tbody>\n<tr><td>PPO_mobile-small-ma-v0_2b82d_00000</td><td>RUNNING </td><td>127.0.0.1:7956</td><td style=\"text-align: right;\">    12</td><td style=\"text-align: right;\">         461.525</td><td style=\"text-align: right;\">48000</td><td style=\"text-align: right;\">-25.1392</td><td style=\"text-align: right;\">             76.6098</td><td style=\"text-align: right;\">            -158.713</td><td style=\"text-align: right;\">               100</td></tr>\n</tbody>\n</table><br><br>"
     },
     "metadata": {},
     "output_type": "display_data"
    },
    {
     "data": {
      "text/plain": "<IPython.core.display.HTML object>",
      "text/html": "== Status ==<br>Current time: 2021-11-24 12:41:00 (running for 00:08:46.72)<br>Memory usage on this node: 11.3/11.9 GiB: ***LOW MEMORY*** less than 10% of the memory on this node is available for use. This can cause unexpected crashes. Consider reducing the memory used by your application or reducing the Ray object store size by setting `object_store_memory` when calling `ray.init`.<br>Using FIFO scheduling algorithm.<br>Resources requested: 3.0/3 CPUs, 0/0 GPUs, 0.0/1.51 GiB heap, 0.0/0.75 GiB objects<br>Result logdir: C:\\Users\\Stefan\\git-repos\\work\\mobile-env\\examples\\PPO_2021-11-24_12-32-13<br>Number of trials: 1/1 (1 RUNNING)<br><table>\n<thead>\n<tr><th>Trial name                        </th><th>status  </th><th>loc           </th><th style=\"text-align: right;\">  iter</th><th style=\"text-align: right;\">  total time (s)</th><th style=\"text-align: right;\">   ts</th><th style=\"text-align: right;\">  reward</th><th style=\"text-align: right;\">  episode_reward_max</th><th style=\"text-align: right;\">  episode_reward_min</th><th style=\"text-align: right;\">  episode_len_mean</th></tr>\n</thead>\n<tbody>\n<tr><td>PPO_mobile-small-ma-v0_2b82d_00000</td><td>RUNNING </td><td>127.0.0.1:7956</td><td style=\"text-align: right;\">    12</td><td style=\"text-align: right;\">         461.525</td><td style=\"text-align: right;\">48000</td><td style=\"text-align: right;\">-25.1392</td><td style=\"text-align: right;\">             76.6098</td><td style=\"text-align: right;\">            -158.713</td><td style=\"text-align: right;\">               100</td></tr>\n</tbody>\n</table><br><br>"
     },
     "metadata": {},
     "output_type": "display_data"
    },
    {
     "data": {
      "text/plain": "<IPython.core.display.HTML object>",
      "text/html": "== Status ==<br>Current time: 2021-11-24 12:41:05 (running for 00:08:51.87)<br>Memory usage on this node: 11.2/11.9 GiB: ***LOW MEMORY*** less than 10% of the memory on this node is available for use. This can cause unexpected crashes. Consider reducing the memory used by your application or reducing the Ray object store size by setting `object_store_memory` when calling `ray.init`.<br>Using FIFO scheduling algorithm.<br>Resources requested: 3.0/3 CPUs, 0/0 GPUs, 0.0/1.51 GiB heap, 0.0/0.75 GiB objects<br>Result logdir: C:\\Users\\Stefan\\git-repos\\work\\mobile-env\\examples\\PPO_2021-11-24_12-32-13<br>Number of trials: 1/1 (1 RUNNING)<br><table>\n<thead>\n<tr><th>Trial name                        </th><th>status  </th><th>loc           </th><th style=\"text-align: right;\">  iter</th><th style=\"text-align: right;\">  total time (s)</th><th style=\"text-align: right;\">   ts</th><th style=\"text-align: right;\">  reward</th><th style=\"text-align: right;\">  episode_reward_max</th><th style=\"text-align: right;\">  episode_reward_min</th><th style=\"text-align: right;\">  episode_len_mean</th></tr>\n</thead>\n<tbody>\n<tr><td>PPO_mobile-small-ma-v0_2b82d_00000</td><td>RUNNING </td><td>127.0.0.1:7956</td><td style=\"text-align: right;\">    12</td><td style=\"text-align: right;\">         461.525</td><td style=\"text-align: right;\">48000</td><td style=\"text-align: right;\">-25.1392</td><td style=\"text-align: right;\">             76.6098</td><td style=\"text-align: right;\">            -158.713</td><td style=\"text-align: right;\">               100</td></tr>\n</tbody>\n</table><br><br>"
     },
     "metadata": {},
     "output_type": "display_data"
    },
    {
     "data": {
      "text/plain": "<IPython.core.display.HTML object>",
      "text/html": "== Status ==<br>Current time: 2021-11-24 12:41:10 (running for 00:08:56.95)<br>Memory usage on this node: 11.3/11.9 GiB: ***LOW MEMORY*** less than 10% of the memory on this node is available for use. This can cause unexpected crashes. Consider reducing the memory used by your application or reducing the Ray object store size by setting `object_store_memory` when calling `ray.init`.<br>Using FIFO scheduling algorithm.<br>Resources requested: 3.0/3 CPUs, 0/0 GPUs, 0.0/1.51 GiB heap, 0.0/0.75 GiB objects<br>Result logdir: C:\\Users\\Stefan\\git-repos\\work\\mobile-env\\examples\\PPO_2021-11-24_12-32-13<br>Number of trials: 1/1 (1 RUNNING)<br><table>\n<thead>\n<tr><th>Trial name                        </th><th>status  </th><th>loc           </th><th style=\"text-align: right;\">  iter</th><th style=\"text-align: right;\">  total time (s)</th><th style=\"text-align: right;\">   ts</th><th style=\"text-align: right;\">  reward</th><th style=\"text-align: right;\">  episode_reward_max</th><th style=\"text-align: right;\">  episode_reward_min</th><th style=\"text-align: right;\">  episode_len_mean</th></tr>\n</thead>\n<tbody>\n<tr><td>PPO_mobile-small-ma-v0_2b82d_00000</td><td>RUNNING </td><td>127.0.0.1:7956</td><td style=\"text-align: right;\">    12</td><td style=\"text-align: right;\">         461.525</td><td style=\"text-align: right;\">48000</td><td style=\"text-align: right;\">-25.1392</td><td style=\"text-align: right;\">             76.6098</td><td style=\"text-align: right;\">            -158.713</td><td style=\"text-align: right;\">               100</td></tr>\n</tbody>\n</table><br><br>"
     },
     "metadata": {},
     "output_type": "display_data"
    },
    {
     "data": {
      "text/plain": "<IPython.core.display.HTML object>",
      "text/html": "== Status ==<br>Current time: 2021-11-24 12:41:15 (running for 00:09:02.01)<br>Memory usage on this node: 11.3/11.9 GiB: ***LOW MEMORY*** less than 10% of the memory on this node is available for use. This can cause unexpected crashes. Consider reducing the memory used by your application or reducing the Ray object store size by setting `object_store_memory` when calling `ray.init`.<br>Using FIFO scheduling algorithm.<br>Resources requested: 3.0/3 CPUs, 0/0 GPUs, 0.0/1.51 GiB heap, 0.0/0.75 GiB objects<br>Result logdir: C:\\Users\\Stefan\\git-repos\\work\\mobile-env\\examples\\PPO_2021-11-24_12-32-13<br>Number of trials: 1/1 (1 RUNNING)<br><table>\n<thead>\n<tr><th>Trial name                        </th><th>status  </th><th>loc           </th><th style=\"text-align: right;\">  iter</th><th style=\"text-align: right;\">  total time (s)</th><th style=\"text-align: right;\">   ts</th><th style=\"text-align: right;\">  reward</th><th style=\"text-align: right;\">  episode_reward_max</th><th style=\"text-align: right;\">  episode_reward_min</th><th style=\"text-align: right;\">  episode_len_mean</th></tr>\n</thead>\n<tbody>\n<tr><td>PPO_mobile-small-ma-v0_2b82d_00000</td><td>RUNNING </td><td>127.0.0.1:7956</td><td style=\"text-align: right;\">    12</td><td style=\"text-align: right;\">         461.525</td><td style=\"text-align: right;\">48000</td><td style=\"text-align: right;\">-25.1392</td><td style=\"text-align: right;\">             76.6098</td><td style=\"text-align: right;\">            -158.713</td><td style=\"text-align: right;\">               100</td></tr>\n</tbody>\n</table><br><br>"
     },
     "metadata": {},
     "output_type": "display_data"
    },
    {
     "data": {
      "text/plain": "<IPython.core.display.HTML object>",
      "text/html": "== Status ==<br>Current time: 2021-11-24 12:41:20 (running for 00:09:07.10)<br>Memory usage on this node: 11.3/11.9 GiB: ***LOW MEMORY*** less than 10% of the memory on this node is available for use. This can cause unexpected crashes. Consider reducing the memory used by your application or reducing the Ray object store size by setting `object_store_memory` when calling `ray.init`.<br>Using FIFO scheduling algorithm.<br>Resources requested: 3.0/3 CPUs, 0/0 GPUs, 0.0/1.51 GiB heap, 0.0/0.75 GiB objects<br>Result logdir: C:\\Users\\Stefan\\git-repos\\work\\mobile-env\\examples\\PPO_2021-11-24_12-32-13<br>Number of trials: 1/1 (1 RUNNING)<br><table>\n<thead>\n<tr><th>Trial name                        </th><th>status  </th><th>loc           </th><th style=\"text-align: right;\">  iter</th><th style=\"text-align: right;\">  total time (s)</th><th style=\"text-align: right;\">   ts</th><th style=\"text-align: right;\">  reward</th><th style=\"text-align: right;\">  episode_reward_max</th><th style=\"text-align: right;\">  episode_reward_min</th><th style=\"text-align: right;\">  episode_len_mean</th></tr>\n</thead>\n<tbody>\n<tr><td>PPO_mobile-small-ma-v0_2b82d_00000</td><td>RUNNING </td><td>127.0.0.1:7956</td><td style=\"text-align: right;\">    12</td><td style=\"text-align: right;\">         461.525</td><td style=\"text-align: right;\">48000</td><td style=\"text-align: right;\">-25.1392</td><td style=\"text-align: right;\">             76.6098</td><td style=\"text-align: right;\">            -158.713</td><td style=\"text-align: right;\">               100</td></tr>\n</tbody>\n</table><br><br>"
     },
     "metadata": {},
     "output_type": "display_data"
    },
    {
     "name": "stdout",
     "output_type": "stream",
     "text": [
      "Result for PPO_mobile-small-ma-v0_2b82d_00000:\n",
      "  agent_timesteps_total: 260000\n",
      "  custom_metrics: {}\n",
      "  date: 2021-11-24_12-41-23\n",
      "  done: true\n",
      "  episode_len_mean: 100.0\n",
      "  episode_media: {}\n",
      "  episode_reward_max: 76.60983866128029\n",
      "  episode_reward_mean: -35.461493594127866\n",
      "  episode_reward_min: -158.71299775589793\n",
      "  episodes_this_iter: 40\n",
      "  episodes_total: 520\n",
      "  experiment_id: 4e540bfa436c40ce885eae70b7b6ac0e\n",
      "  hostname: nb-stschn\n",
      "  info:\n",
      "    learner:\n",
      "      shared_policy:\n",
      "        custom_metrics: {}\n",
      "        learner_stats:\n",
      "          cur_kl_coeff: 0.20000000298023224\n",
      "          cur_lr: 4.999999873689376e-05\n",
      "          entropy: 1.0943677425384521\n",
      "          entropy_coeff: 0.0\n",
      "          kl: 0.006255448330193758\n",
      "          model: {}\n",
      "          policy_loss: -0.0035820447374135256\n",
      "          total_loss: 86.11984252929688\n",
      "          vf_explained_var: -0.22441518306732178\n",
      "          vf_loss: 86.12218475341797\n",
      "    num_agent_steps_sampled: 260000\n",
      "    num_agent_steps_trained: 260000\n",
      "    num_steps_sampled: 52000\n",
      "    num_steps_trained: 52000\n",
      "    num_steps_trained_this_iter: 0\n",
      "  iterations_since_restore: 13\n",
      "  node_ip: 127.0.0.1\n",
      "  num_healthy_workers: 2\n",
      "  off_policy_estimator: {}\n",
      "  perf:\n",
      "    cpu_util_percent: 88.65921052631579\n",
      "    ram_util_percent: 93.24473684210528\n",
      "  pid: 7956\n",
      "  policy_reward_max:\n",
      "    shared_policy: 26.976727403439014\n",
      "  policy_reward_mean:\n",
      "    shared_policy: -7.092298718825573\n",
      "  policy_reward_min:\n",
      "    shared_policy: -100.0\n",
      "  sampler_perf:\n",
      "    mean_action_processing_ms: 0.17699619737379052\n",
      "    mean_env_render_ms: 0.0\n",
      "    mean_env_wait_ms: 7.028548368627724\n",
      "    mean_inference_ms: 1.6635352514718473\n",
      "    mean_raw_obs_processing_ms: 0.4924915758962375\n",
      "  time_since_restore: 518.4748079776764\n",
      "  time_this_iter_s: 56.950146198272705\n",
      "  time_total_s: 518.4748079776764\n",
      "  timers:\n",
      "    learn_throughput: 197.005\n",
      "    learn_time_ms: 20304.029\n",
      "    load_throughput: 39794155.598\n",
      "    load_time_ms: 0.101\n",
      "    sample_throughput: 99.508\n",
      "    sample_time_ms: 40197.757\n",
      "    update_time_ms: 3.198\n",
      "  timestamp: 1637754083\n",
      "  timesteps_since_restore: 0\n",
      "  timesteps_this_iter: 0\n",
      "  timesteps_total: 52000\n",
      "  training_iteration: 13\n",
      "  trial_id: 2b82d_00000\n",
      "  \n"
     ]
    },
    {
     "data": {
      "text/plain": "<IPython.core.display.HTML object>",
      "text/html": "== Status ==<br>Current time: 2021-11-24 12:41:23 (running for 00:09:09.61)<br>Memory usage on this node: 11.3/11.9 GiB: ***LOW MEMORY*** less than 10% of the memory on this node is available for use. This can cause unexpected crashes. Consider reducing the memory used by your application or reducing the Ray object store size by setting `object_store_memory` when calling `ray.init`.<br>Using FIFO scheduling algorithm.<br>Resources requested: 0/3 CPUs, 0/0 GPUs, 0.0/1.51 GiB heap, 0.0/0.75 GiB objects<br>Result logdir: C:\\Users\\Stefan\\git-repos\\work\\mobile-env\\examples\\PPO_2021-11-24_12-32-13<br>Number of trials: 1/1 (1 TERMINATED)<br><table>\n<thead>\n<tr><th>Trial name                        </th><th>status    </th><th>loc           </th><th style=\"text-align: right;\">  iter</th><th style=\"text-align: right;\">  total time (s)</th><th style=\"text-align: right;\">   ts</th><th style=\"text-align: right;\">  reward</th><th style=\"text-align: right;\">  episode_reward_max</th><th style=\"text-align: right;\">  episode_reward_min</th><th style=\"text-align: right;\">  episode_len_mean</th></tr>\n</thead>\n<tbody>\n<tr><td>PPO_mobile-small-ma-v0_2b82d_00000</td><td>TERMINATED</td><td>127.0.0.1:7956</td><td style=\"text-align: right;\">    13</td><td style=\"text-align: right;\">         518.475</td><td style=\"text-align: right;\">52000</td><td style=\"text-align: right;\">-35.4615</td><td style=\"text-align: right;\">             76.6098</td><td style=\"text-align: right;\">            -158.713</td><td style=\"text-align: right;\">               100</td></tr>\n</tbody>\n</table><br><br>"
     },
     "metadata": {},
     "output_type": "display_data"
    },
    {
     "name": "stderr",
     "output_type": "stream",
     "text": [
      "2021-11-24 12:41:23,617\tINFO tune.py:630 -- Total run time: 550.02 seconds (549.56 seconds for the tuning loop).\n"
     ]
    }
   ],
   "source": [
    "analysis = ray.tune.run(ppo.PPOTrainer, config=config, local_dir=save_dir, stop=stop, checkpoint_at_end=True)"
   ]
  },
  {
   "cell_type": "markdown",
   "id": "52162d3b-5e07-4c71-a86c-bd01cdfdf37c",
   "metadata": {},
   "source": [
    "Visualize the training with Tensorboard:"
   ]
  },
  {
   "cell_type": "code",
   "execution_count": 20,
   "id": "f4069ab5-1ca5-4965-9e70-92dd70080105",
   "metadata": {},
   "outputs": [
    {
     "data": {
      "text/plain": "Launching TensorBoard..."
     },
     "metadata": {},
     "output_type": "display_data"
    },
    {
     "data": {
      "text/plain": "<IPython.core.display.HTML object>",
      "text/html": "\n      <iframe id=\"tensorboard-frame-afaca5eebfcef322\" width=\"100%\" height=\"800\" frameborder=\"0\">\n      </iframe>\n      <script>\n        (function() {\n          const frame = document.getElementById(\"tensorboard-frame-afaca5eebfcef322\");\n          const url = new URL(\"/\", window.location);\n          const port = 6006;\n          if (port) {\n            url.port = port;\n          }\n          frame.src = url;\n        })();\n      </script>\n    "
     },
     "metadata": {},
     "output_type": "display_data"
    }
   ],
   "source": [
    "%tensorboard --logdir ray_results"
   ]
  },
  {
   "cell_type": "markdown",
   "id": "a6c32f8b-eefd-4c30-808d-6bfb4bbbee35",
   "metadata": {},
   "source": [
    "To visualize the final multi-agent policy, load the latest model checkpoint:"
   ]
  },
  {
   "cell_type": "code",
   "execution_count": 21,
   "id": "bfc933bc-4983-49ba-a7f4-8032886bd045",
   "metadata": {},
   "outputs": [
    {
     "name": "stderr",
     "output_type": "stream",
     "text": [
      "2021-11-24 12:41:23,766\tINFO ppo.py:166 -- In multi-agent mode, policies will be optimized sequentially by the multi-GPU optimizer. Consider setting simple_optimizer=True if this doesn't work for you.\n",
      "2021-11-24 12:41:23,766\tINFO trainer.py:770 -- Current log_level is WARN. For more information, set 'log_level': 'INFO' / 'DEBUG' or use the -v and -vv flags.\n"
     ]
    },
    {
     "ename": "RayActorError",
     "evalue": "The actor died because of an error raised in its creation task, \u001B[36mray::RolloutWorker.__init__()\u001B[39m (pid=18304, ip=127.0.0.1)\n  File \"python\\ray\\_raylet.pyx\", line 565, in ray._raylet.execute_task\n  File \"python\\ray\\_raylet.pyx\", line 569, in ray._raylet.execute_task\n  File \"python\\ray\\_raylet.pyx\", line 519, in ray._raylet.execute_task.function_executor\n  File \"c:\\users\\stefan\\git-repos\\work\\mobile-env\\venv\\lib\\site-packages\\ray\\_private\\function_manager.py\", line 576, in actor_method_executor\n    return method(__ray_actor, *args, **kwargs)\n  File \"c:\\users\\stefan\\git-repos\\work\\mobile-env\\venv\\lib\\site-packages\\ray\\util\\tracing\\tracing_helper.py\", line 451, in _resume_span\n    return method(self, *_args, **_kwargs)\n  File \"c:\\users\\stefan\\git-repos\\work\\mobile-env\\venv\\lib\\site-packages\\ray\\rllib\\evaluation\\rollout_worker.py\", line 584, in __init__\n    self._build_policy_map(\n  File \"c:\\users\\stefan\\git-repos\\work\\mobile-env\\venv\\lib\\site-packages\\ray\\util\\tracing\\tracing_helper.py\", line 451, in _resume_span\n    return method(self, *_args, **_kwargs)\n  File \"c:\\users\\stefan\\git-repos\\work\\mobile-env\\venv\\lib\\site-packages\\ray\\rllib\\evaluation\\rollout_worker.py\", line 1384, in _build_policy_map\n    self.policy_map.create_policy(name, orig_cls, obs_space, act_space,\n  File \"c:\\users\\stefan\\git-repos\\work\\mobile-env\\venv\\lib\\site-packages\\ray\\rllib\\policy\\policy_map.py\", line 123, in create_policy\n    sess = self.session_creator()\n  File \"c:\\users\\stefan\\git-repos\\work\\mobile-env\\venv\\lib\\site-packages\\ray\\rllib\\evaluation\\worker_set.py\", line 323, in session_creator\n    return tf1.Session(\nAttributeError: 'NoneType' object has no attribute 'Session'",
     "output_type": "error",
     "traceback": [
      "\u001B[1;31m---------------------------------------------------------------------------\u001B[0m",
      "\u001B[1;31mRayActorError\u001B[0m                             Traceback (most recent call last)",
      "\u001B[1;32m~\\AppData\\Local\\Temp/ipykernel_1344/335420695.py\u001B[0m in \u001B[0;36m<module>\u001B[1;34m\u001B[0m\n\u001B[0;32m      1\u001B[0m \u001B[0mcheckpoint\u001B[0m \u001B[1;33m=\u001B[0m \u001B[0manalysis\u001B[0m\u001B[1;33m.\u001B[0m\u001B[0mget_last_checkpoint\u001B[0m\u001B[1;33m(\u001B[0m\u001B[1;33m)\u001B[0m\u001B[1;33m\u001B[0m\u001B[1;33m\u001B[0m\u001B[0m\n\u001B[1;32m----> 2\u001B[1;33m \u001B[0mmodel\u001B[0m \u001B[1;33m=\u001B[0m \u001B[0mppo\u001B[0m\u001B[1;33m.\u001B[0m\u001B[0mPPOTrainer\u001B[0m\u001B[1;33m(\u001B[0m\u001B[0mconfig\u001B[0m\u001B[1;33m=\u001B[0m\u001B[0mconfig\u001B[0m\u001B[1;33m,\u001B[0m \u001B[0menv\u001B[0m\u001B[1;33m=\u001B[0m\u001B[1;34m'mobile-small-ma-v0'\u001B[0m\u001B[1;33m)\u001B[0m\u001B[1;33m\u001B[0m\u001B[1;33m\u001B[0m\u001B[0m\n\u001B[0m\u001B[0;32m      3\u001B[0m \u001B[0mmodel\u001B[0m\u001B[1;33m.\u001B[0m\u001B[0mrestore\u001B[0m\u001B[1;33m(\u001B[0m\u001B[0mcheckpoint\u001B[0m\u001B[1;33m)\u001B[0m\u001B[1;33m\u001B[0m\u001B[1;33m\u001B[0m\u001B[0m\n\u001B[0;32m      4\u001B[0m \u001B[1;33m\u001B[0m\u001B[0m\n",
      "\u001B[1;32mc:\\users\\stefan\\git-repos\\work\\mobile-env\\venv\\lib\\site-packages\\ray\\rllib\\agents\\trainer_template.py\u001B[0m in \u001B[0;36m__init__\u001B[1;34m(self, config, env, logger_creator)\u001B[0m\n\u001B[0;32m    135\u001B[0m \u001B[1;33m\u001B[0m\u001B[0m\n\u001B[0;32m    136\u001B[0m         \u001B[1;32mdef\u001B[0m \u001B[0m__init__\u001B[0m\u001B[1;33m(\u001B[0m\u001B[0mself\u001B[0m\u001B[1;33m,\u001B[0m \u001B[0mconfig\u001B[0m\u001B[1;33m=\u001B[0m\u001B[1;32mNone\u001B[0m\u001B[1;33m,\u001B[0m \u001B[0menv\u001B[0m\u001B[1;33m=\u001B[0m\u001B[1;32mNone\u001B[0m\u001B[1;33m,\u001B[0m \u001B[0mlogger_creator\u001B[0m\u001B[1;33m=\u001B[0m\u001B[1;32mNone\u001B[0m\u001B[1;33m)\u001B[0m\u001B[1;33m:\u001B[0m\u001B[1;33m\u001B[0m\u001B[1;33m\u001B[0m\u001B[0m\n\u001B[1;32m--> 137\u001B[1;33m             \u001B[0mTrainer\u001B[0m\u001B[1;33m.\u001B[0m\u001B[0m__init__\u001B[0m\u001B[1;33m(\u001B[0m\u001B[0mself\u001B[0m\u001B[1;33m,\u001B[0m \u001B[0mconfig\u001B[0m\u001B[1;33m,\u001B[0m \u001B[0menv\u001B[0m\u001B[1;33m,\u001B[0m \u001B[0mlogger_creator\u001B[0m\u001B[1;33m)\u001B[0m\u001B[1;33m\u001B[0m\u001B[1;33m\u001B[0m\u001B[0m\n\u001B[0m\u001B[0;32m    138\u001B[0m \u001B[1;33m\u001B[0m\u001B[0m\n\u001B[0;32m    139\u001B[0m         \u001B[1;33m@\u001B[0m\u001B[0moverride\u001B[0m\u001B[1;33m(\u001B[0m\u001B[0mbase\u001B[0m\u001B[1;33m)\u001B[0m\u001B[1;33m\u001B[0m\u001B[1;33m\u001B[0m\u001B[0m\n",
      "\u001B[1;32mc:\\users\\stefan\\git-repos\\work\\mobile-env\\venv\\lib\\site-packages\\ray\\rllib\\agents\\trainer.py\u001B[0m in \u001B[0;36m__init__\u001B[1;34m(self, config, env, logger_creator)\u001B[0m\n\u001B[0;32m    621\u001B[0m             \u001B[0mlogger_creator\u001B[0m \u001B[1;33m=\u001B[0m \u001B[0mdefault_logger_creator\u001B[0m\u001B[1;33m\u001B[0m\u001B[1;33m\u001B[0m\u001B[0m\n\u001B[0;32m    622\u001B[0m \u001B[1;33m\u001B[0m\u001B[0m\n\u001B[1;32m--> 623\u001B[1;33m         \u001B[0msuper\u001B[0m\u001B[1;33m(\u001B[0m\u001B[1;33m)\u001B[0m\u001B[1;33m.\u001B[0m\u001B[0m__init__\u001B[0m\u001B[1;33m(\u001B[0m\u001B[0mconfig\u001B[0m\u001B[1;33m,\u001B[0m \u001B[0mlogger_creator\u001B[0m\u001B[1;33m)\u001B[0m\u001B[1;33m\u001B[0m\u001B[1;33m\u001B[0m\u001B[0m\n\u001B[0m\u001B[0;32m    624\u001B[0m \u001B[1;33m\u001B[0m\u001B[0m\n\u001B[0;32m    625\u001B[0m     \u001B[1;33m@\u001B[0m\u001B[0mclassmethod\u001B[0m\u001B[1;33m\u001B[0m\u001B[1;33m\u001B[0m\u001B[0m\n",
      "\u001B[1;32mc:\\users\\stefan\\git-repos\\work\\mobile-env\\venv\\lib\\site-packages\\ray\\tune\\trainable.py\u001B[0m in \u001B[0;36m__init__\u001B[1;34m(self, config, logger_creator)\u001B[0m\n\u001B[0;32m    105\u001B[0m \u001B[1;33m\u001B[0m\u001B[0m\n\u001B[0;32m    106\u001B[0m         \u001B[0mstart_time\u001B[0m \u001B[1;33m=\u001B[0m \u001B[0mtime\u001B[0m\u001B[1;33m.\u001B[0m\u001B[0mtime\u001B[0m\u001B[1;33m(\u001B[0m\u001B[1;33m)\u001B[0m\u001B[1;33m\u001B[0m\u001B[1;33m\u001B[0m\u001B[0m\n\u001B[1;32m--> 107\u001B[1;33m         \u001B[0mself\u001B[0m\u001B[1;33m.\u001B[0m\u001B[0msetup\u001B[0m\u001B[1;33m(\u001B[0m\u001B[0mcopy\u001B[0m\u001B[1;33m.\u001B[0m\u001B[0mdeepcopy\u001B[0m\u001B[1;33m(\u001B[0m\u001B[0mself\u001B[0m\u001B[1;33m.\u001B[0m\u001B[0mconfig\u001B[0m\u001B[1;33m)\u001B[0m\u001B[1;33m)\u001B[0m\u001B[1;33m\u001B[0m\u001B[1;33m\u001B[0m\u001B[0m\n\u001B[0m\u001B[0;32m    108\u001B[0m         \u001B[0msetup_time\u001B[0m \u001B[1;33m=\u001B[0m \u001B[0mtime\u001B[0m\u001B[1;33m.\u001B[0m\u001B[0mtime\u001B[0m\u001B[1;33m(\u001B[0m\u001B[1;33m)\u001B[0m \u001B[1;33m-\u001B[0m \u001B[0mstart_time\u001B[0m\u001B[1;33m\u001B[0m\u001B[1;33m\u001B[0m\u001B[0m\n\u001B[0;32m    109\u001B[0m         \u001B[1;32mif\u001B[0m \u001B[0msetup_time\u001B[0m \u001B[1;33m>\u001B[0m \u001B[0mSETUP_TIME_THRESHOLD\u001B[0m\u001B[1;33m:\u001B[0m\u001B[1;33m\u001B[0m\u001B[1;33m\u001B[0m\u001B[0m\n",
      "\u001B[1;32mc:\\users\\stefan\\git-repos\\work\\mobile-env\\venv\\lib\\site-packages\\ray\\rllib\\agents\\trainer_template.py\u001B[0m in \u001B[0;36msetup\u001B[1;34m(self, config)\u001B[0m\n\u001B[0;32m    145\u001B[0m                 \u001B[0mself\u001B[0m\u001B[1;33m.\u001B[0m\u001B[0m_override_all_subkeys_if_type_changes\u001B[0m \u001B[1;33m+=\u001B[0m\u001B[0;31m \u001B[0m\u001B[0;31m\\\u001B[0m\u001B[1;33m\u001B[0m\u001B[1;33m\u001B[0m\u001B[0m\n\u001B[0;32m    146\u001B[0m                     \u001B[0moverride_all_subkeys_if_type_changes\u001B[0m\u001B[1;33m\u001B[0m\u001B[1;33m\u001B[0m\u001B[0m\n\u001B[1;32m--> 147\u001B[1;33m             \u001B[0msuper\u001B[0m\u001B[1;33m(\u001B[0m\u001B[1;33m)\u001B[0m\u001B[1;33m.\u001B[0m\u001B[0msetup\u001B[0m\u001B[1;33m(\u001B[0m\u001B[0mconfig\u001B[0m\u001B[1;33m)\u001B[0m\u001B[1;33m\u001B[0m\u001B[1;33m\u001B[0m\u001B[0m\n\u001B[0m\u001B[0;32m    148\u001B[0m \u001B[1;33m\u001B[0m\u001B[0m\n\u001B[0;32m    149\u001B[0m         def _init(self, config: TrainerConfigDict,\n",
      "\u001B[1;32mc:\\users\\stefan\\git-repos\\work\\mobile-env\\venv\\lib\\site-packages\\ray\\rllib\\agents\\trainer.py\u001B[0m in \u001B[0;36msetup\u001B[1;34m(self, config)\u001B[0m\n\u001B[0;32m    774\u001B[0m             \u001B[0mlogging\u001B[0m\u001B[1;33m.\u001B[0m\u001B[0mgetLogger\u001B[0m\u001B[1;33m(\u001B[0m\u001B[1;34m\"ray.rllib\"\u001B[0m\u001B[1;33m)\u001B[0m\u001B[1;33m.\u001B[0m\u001B[0msetLevel\u001B[0m\u001B[1;33m(\u001B[0m\u001B[0mself\u001B[0m\u001B[1;33m.\u001B[0m\u001B[0mconfig\u001B[0m\u001B[1;33m[\u001B[0m\u001B[1;34m\"log_level\"\u001B[0m\u001B[1;33m]\u001B[0m\u001B[1;33m)\u001B[0m\u001B[1;33m\u001B[0m\u001B[1;33m\u001B[0m\u001B[0m\n\u001B[0;32m    775\u001B[0m \u001B[1;33m\u001B[0m\u001B[0m\n\u001B[1;32m--> 776\u001B[1;33m         \u001B[0mself\u001B[0m\u001B[1;33m.\u001B[0m\u001B[0m_init\u001B[0m\u001B[1;33m(\u001B[0m\u001B[0mself\u001B[0m\u001B[1;33m.\u001B[0m\u001B[0mconfig\u001B[0m\u001B[1;33m,\u001B[0m \u001B[0mself\u001B[0m\u001B[1;33m.\u001B[0m\u001B[0menv_creator\u001B[0m\u001B[1;33m)\u001B[0m\u001B[1;33m\u001B[0m\u001B[1;33m\u001B[0m\u001B[0m\n\u001B[0m\u001B[0;32m    777\u001B[0m \u001B[1;33m\u001B[0m\u001B[0m\n\u001B[0;32m    778\u001B[0m         \u001B[1;31m# Evaluation setup.\u001B[0m\u001B[1;33m\u001B[0m\u001B[1;33m\u001B[0m\u001B[1;33m\u001B[0m\u001B[0m\n",
      "\u001B[1;32mc:\\users\\stefan\\git-repos\\work\\mobile-env\\venv\\lib\\site-packages\\ray\\rllib\\agents\\trainer_template.py\u001B[0m in \u001B[0;36m_init\u001B[1;34m(self, config, env_creator)\u001B[0m\n\u001B[0;32m    169\u001B[0m \u001B[1;33m\u001B[0m\u001B[0m\n\u001B[0;32m    170\u001B[0m             \u001B[1;31m# Creating all workers (excluding evaluation workers).\u001B[0m\u001B[1;33m\u001B[0m\u001B[1;33m\u001B[0m\u001B[1;33m\u001B[0m\u001B[0m\n\u001B[1;32m--> 171\u001B[1;33m             self.workers = self._make_workers(\n\u001B[0m\u001B[0;32m    172\u001B[0m                 \u001B[0menv_creator\u001B[0m\u001B[1;33m=\u001B[0m\u001B[0menv_creator\u001B[0m\u001B[1;33m,\u001B[0m\u001B[1;33m\u001B[0m\u001B[1;33m\u001B[0m\u001B[0m\n\u001B[0;32m    173\u001B[0m                 \u001B[0mvalidate_env\u001B[0m\u001B[1;33m=\u001B[0m\u001B[0mvalidate_env\u001B[0m\u001B[1;33m,\u001B[0m\u001B[1;33m\u001B[0m\u001B[1;33m\u001B[0m\u001B[0m\n",
      "\u001B[1;32mc:\\users\\stefan\\git-repos\\work\\mobile-env\\venv\\lib\\site-packages\\ray\\rllib\\agents\\trainer.py\u001B[0m in \u001B[0;36m_make_workers\u001B[1;34m(self, env_creator, validate_env, policy_class, config, num_workers)\u001B[0m\n\u001B[0;32m    856\u001B[0m             \u001B[0mWorkerSet\u001B[0m\u001B[1;33m:\u001B[0m \u001B[0mThe\u001B[0m \u001B[0mcreated\u001B[0m \u001B[0mWorkerSet\u001B[0m\u001B[1;33m.\u001B[0m\u001B[1;33m\u001B[0m\u001B[1;33m\u001B[0m\u001B[0m\n\u001B[0;32m    857\u001B[0m         \"\"\"\n\u001B[1;32m--> 858\u001B[1;33m         return WorkerSet(\n\u001B[0m\u001B[0;32m    859\u001B[0m             \u001B[0menv_creator\u001B[0m\u001B[1;33m=\u001B[0m\u001B[0menv_creator\u001B[0m\u001B[1;33m,\u001B[0m\u001B[1;33m\u001B[0m\u001B[1;33m\u001B[0m\u001B[0m\n\u001B[0;32m    860\u001B[0m             \u001B[0mvalidate_env\u001B[0m\u001B[1;33m=\u001B[0m\u001B[0mvalidate_env\u001B[0m\u001B[1;33m,\u001B[0m\u001B[1;33m\u001B[0m\u001B[1;33m\u001B[0m\u001B[0m\n",
      "\u001B[1;32mc:\\users\\stefan\\git-repos\\work\\mobile-env\\venv\\lib\\site-packages\\ray\\rllib\\evaluation\\worker_set.py\u001B[0m in \u001B[0;36m__init__\u001B[1;34m(self, env_creator, validate_env, policy_class, trainer_config, num_workers, logdir, _setup)\u001B[0m\n\u001B[0;32m     85\u001B[0m                     (not trainer_config.get(\"observation_space\") or\n\u001B[0;32m     86\u001B[0m                      not trainer_config.get(\"action_space\")):\n\u001B[1;32m---> 87\u001B[1;33m                 remote_spaces = ray.get(self.remote_workers(\n\u001B[0m\u001B[0;32m     88\u001B[0m                 \u001B[1;33m)\u001B[0m\u001B[1;33m[\u001B[0m\u001B[1;36m0\u001B[0m\u001B[1;33m]\u001B[0m\u001B[1;33m.\u001B[0m\u001B[0mforeach_policy\u001B[0m\u001B[1;33m.\u001B[0m\u001B[0mremote\u001B[0m\u001B[1;33m(\u001B[0m\u001B[1;33m\u001B[0m\u001B[1;33m\u001B[0m\u001B[0m\n\u001B[0;32m     89\u001B[0m                     lambda p, pid: (pid, p.observation_space, p.action_space)))\n",
      "\u001B[1;32mc:\\users\\stefan\\git-repos\\work\\mobile-env\\venv\\lib\\site-packages\\ray\\_private\\client_mode_hook.py\u001B[0m in \u001B[0;36mwrapper\u001B[1;34m(*args, **kwargs)\u001B[0m\n\u001B[0;32m    103\u001B[0m             \u001B[1;32mif\u001B[0m \u001B[0mfunc\u001B[0m\u001B[1;33m.\u001B[0m\u001B[0m__name__\u001B[0m \u001B[1;33m!=\u001B[0m \u001B[1;34m\"init\"\u001B[0m \u001B[1;32mor\u001B[0m \u001B[0mis_client_mode_enabled_by_default\u001B[0m\u001B[1;33m:\u001B[0m\u001B[1;33m\u001B[0m\u001B[1;33m\u001B[0m\u001B[0m\n\u001B[0;32m    104\u001B[0m                 \u001B[1;32mreturn\u001B[0m \u001B[0mgetattr\u001B[0m\u001B[1;33m(\u001B[0m\u001B[0mray\u001B[0m\u001B[1;33m,\u001B[0m \u001B[0mfunc\u001B[0m\u001B[1;33m.\u001B[0m\u001B[0m__name__\u001B[0m\u001B[1;33m)\u001B[0m\u001B[1;33m(\u001B[0m\u001B[1;33m*\u001B[0m\u001B[0margs\u001B[0m\u001B[1;33m,\u001B[0m \u001B[1;33m**\u001B[0m\u001B[0mkwargs\u001B[0m\u001B[1;33m)\u001B[0m\u001B[1;33m\u001B[0m\u001B[1;33m\u001B[0m\u001B[0m\n\u001B[1;32m--> 105\u001B[1;33m         \u001B[1;32mreturn\u001B[0m \u001B[0mfunc\u001B[0m\u001B[1;33m(\u001B[0m\u001B[1;33m*\u001B[0m\u001B[0margs\u001B[0m\u001B[1;33m,\u001B[0m \u001B[1;33m**\u001B[0m\u001B[0mkwargs\u001B[0m\u001B[1;33m)\u001B[0m\u001B[1;33m\u001B[0m\u001B[1;33m\u001B[0m\u001B[0m\n\u001B[0m\u001B[0;32m    106\u001B[0m \u001B[1;33m\u001B[0m\u001B[0m\n\u001B[0;32m    107\u001B[0m     \u001B[1;32mreturn\u001B[0m \u001B[0mwrapper\u001B[0m\u001B[1;33m\u001B[0m\u001B[1;33m\u001B[0m\u001B[0m\n",
      "\u001B[1;32mc:\\users\\stefan\\git-repos\\work\\mobile-env\\venv\\lib\\site-packages\\ray\\worker.py\u001B[0m in \u001B[0;36mget\u001B[1;34m(object_refs, timeout)\u001B[0m\n\u001B[0;32m   1625\u001B[0m                     \u001B[1;32mraise\u001B[0m \u001B[0mvalue\u001B[0m\u001B[1;33m.\u001B[0m\u001B[0mas_instanceof_cause\u001B[0m\u001B[1;33m(\u001B[0m\u001B[1;33m)\u001B[0m\u001B[1;33m\u001B[0m\u001B[1;33m\u001B[0m\u001B[0m\n\u001B[0;32m   1626\u001B[0m                 \u001B[1;32melse\u001B[0m\u001B[1;33m:\u001B[0m\u001B[1;33m\u001B[0m\u001B[1;33m\u001B[0m\u001B[0m\n\u001B[1;32m-> 1627\u001B[1;33m                     \u001B[1;32mraise\u001B[0m \u001B[0mvalue\u001B[0m\u001B[1;33m\u001B[0m\u001B[1;33m\u001B[0m\u001B[0m\n\u001B[0m\u001B[0;32m   1628\u001B[0m \u001B[1;33m\u001B[0m\u001B[0m\n\u001B[0;32m   1629\u001B[0m         \u001B[1;32mif\u001B[0m \u001B[0mis_individual_id\u001B[0m\u001B[1;33m:\u001B[0m\u001B[1;33m\u001B[0m\u001B[1;33m\u001B[0m\u001B[0m\n",
      "\u001B[1;31mRayActorError\u001B[0m: The actor died because of an error raised in its creation task, \u001B[36mray::RolloutWorker.__init__()\u001B[39m (pid=18304, ip=127.0.0.1)\n  File \"python\\ray\\_raylet.pyx\", line 565, in ray._raylet.execute_task\n  File \"python\\ray\\_raylet.pyx\", line 569, in ray._raylet.execute_task\n  File \"python\\ray\\_raylet.pyx\", line 519, in ray._raylet.execute_task.function_executor\n  File \"c:\\users\\stefan\\git-repos\\work\\mobile-env\\venv\\lib\\site-packages\\ray\\_private\\function_manager.py\", line 576, in actor_method_executor\n    return method(__ray_actor, *args, **kwargs)\n  File \"c:\\users\\stefan\\git-repos\\work\\mobile-env\\venv\\lib\\site-packages\\ray\\util\\tracing\\tracing_helper.py\", line 451, in _resume_span\n    return method(self, *_args, **_kwargs)\n  File \"c:\\users\\stefan\\git-repos\\work\\mobile-env\\venv\\lib\\site-packages\\ray\\rllib\\evaluation\\rollout_worker.py\", line 584, in __init__\n    self._build_policy_map(\n  File \"c:\\users\\stefan\\git-repos\\work\\mobile-env\\venv\\lib\\site-packages\\ray\\util\\tracing\\tracing_helper.py\", line 451, in _resume_span\n    return method(self, *_args, **_kwargs)\n  File \"c:\\users\\stefan\\git-repos\\work\\mobile-env\\venv\\lib\\site-packages\\ray\\rllib\\evaluation\\rollout_worker.py\", line 1384, in _build_policy_map\n    self.policy_map.create_policy(name, orig_cls, obs_space, act_space,\n  File \"c:\\users\\stefan\\git-repos\\work\\mobile-env\\venv\\lib\\site-packages\\ray\\rllib\\policy\\policy_map.py\", line 123, in create_policy\n    sess = self.session_creator()\n  File \"c:\\users\\stefan\\git-repos\\work\\mobile-env\\venv\\lib\\site-packages\\ray\\rllib\\evaluation\\worker_set.py\", line 323, in session_creator\n    return tf1.Session(\nAttributeError: 'NoneType' object has no attribute 'Session'"
     ]
    }
   ],
   "source": [
    "checkpoint = analysis.get_last_checkpoint()\n",
    "model = ppo.PPOTrainer(config=config, env='mobile-small-ma-v0')\n",
    "model.restore(checkpoint)"
   ]
  },
  {
   "cell_type": "markdown",
   "id": "62cff06a-46bb-4634-98fb-9386ef30dca2",
   "metadata": {},
   "source": [
    "Mobile-Env provides a render() function to visualize the simulation.\n",
    "In Google Colaboratory the better-looking 'human' mode is unavailable (only available locally). Still, we can visualize the final policy as RGB images:"
   ]
  },
  {
   "cell_type": "code",
   "execution_count": null,
   "id": "a0954673-504d-4d1a-91d0-9834f4673754",
   "metadata": {},
   "outputs": [],
   "source": [
    "import time\n",
    "import pylab as pl\n",
    "import matplotlib.pyplot as plt\n",
    "from IPython import display\n",
    "%matplotlib inline\n",
    "\n",
    "env = register('mobile-small-ma-v0')\n",
    "done = {'__all__': False}\n",
    "obs = env.reset()\n",
    "\n",
    "while not done['__all__']:\n",
    "    # gather action from each actor (for each UE)\n",
    "    action = {}\n",
    "    for agent_id, agent_obs in obs.items():\n",
    "        policy_id = config['multiagent']['policy_mapping_fn'](agent_id)\n",
    "        action[agent_id] = model.compute_action(agent_obs, policy_id=policy_id)\n",
    "    \n",
    "    # perform step on simulation environment \n",
    "    obs, reward, done, info = env.step(action)\n",
    "\n",
    "    # display environment as RGB\n",
    "    plt.imshow(env.env.render(mode='rgb_array'))\n",
    "    display.display(plt.gcf())\n",
    "    display.clear_output(wait=True)\n",
    "    time.sleep(0.025)"
   ]
  },
  {
   "cell_type": "markdown",
   "id": "10ab9204-6fe7-4bdc-a1fd-8448ba352107",
   "metadata": {},
   "source": [
    "# Central Environment with Stable-Baselines3"
   ]
  },
  {
   "cell_type": "code",
   "execution_count": null,
   "id": "5f634160-6737-4a8a-9848-d31ea202d79f",
   "metadata": {},
   "outputs": [],
   "source": [
    "!pip install stable-baselines3"
   ]
  },
  {
   "cell_type": "code",
   "execution_count": null,
   "id": "ee2d6df8-b020-4e85-80fe-7c9572fb9fe5",
   "metadata": {},
   "outputs": [],
   "source": [
    "from stable_baselines3 import PPO\n",
    "from stable_baselines3.ppo import MlpPolicy"
   ]
  },
  {
   "cell_type": "markdown",
   "id": "349c7adf-d971-442b-a5b9-a82b40eca351",
   "metadata": {},
   "source": [
    "The decision making policy can also be trained on scenarios that simulate centralized control over user equipments, i.e., one single agent decides what connections should be established for each UE and is given global information. The centralized setting wraps the observations, rewards and actions of the multi-agent setting. Now, observations are single (concatenated) vectors that jointly represent up-to-date information on all UEs. The reward is the average utility of active UEs. Similarly, actions are vectors of discrete decisions.\n",
    "\n",
    "Use *stable-baselines3*'s PPO agent on the (small) centralized control environment and train it for 500,000 steps:"
   ]
  },
  {
   "cell_type": "code",
   "execution_count": null,
   "id": "490a6382-a5c2-40cf-9f24-431c4a3e796c",
   "metadata": {},
   "outputs": [],
   "source": [
    "# create the small central simulation\n",
    "env = gym.make(\"mobile-small-central-v0\")\n",
    "\n",
    "# train PPO agent on environment\n",
    "model = PPO(MlpPolicy, env, verbose=1, tensorboard_log='ppo_central_tensorboard')\n",
    "model.learn(total_timesteps=50000)"
   ]
  },
  {
   "cell_type": "markdown",
   "id": "dfcd0c7e-1725-4d5e-8e3d-29560eff0e39",
   "metadata": {},
   "source": [
    "Visualize the training results with Tensorboard:"
   ]
  },
  {
   "cell_type": "code",
   "execution_count": null,
   "id": "e544681c-938e-45eb-9481-5d8084c9028c",
   "metadata": {},
   "outputs": [],
   "source": [
    "%tensorboard --logdir ppo_central_tensorboard"
   ]
  },
  {
   "cell_type": "markdown",
   "id": "3db72f60-2297-4a70-bc5c-04fc07622895",
   "metadata": {},
   "source": [
    "Visualize what the central agent has learned. Note that the RGB visualization on Google Colaboratory does not render the environment as clearly as the 'human' mode, which is unavailable in virtual environments."
   ]
  },
  {
   "cell_type": "code",
   "execution_count": null,
   "id": "22f251ed-a1ef-4647-abc1-9457cbd4d72a",
   "metadata": {},
   "outputs": [],
   "source": [
    "import time\n",
    "import pylab as pl\n",
    "import matplotlib.pyplot as plt\n",
    "from IPython import display\n",
    "%matplotlib inline\n",
    "\n",
    "env = gym.make('mobile-small-central-v0')\n",
    "done = False\n",
    "obs = env.reset()\n",
    "\n",
    "while not done:\n",
    "    action, _ = model.predict(obs)\n",
    "\n",
    "    # perform step on simulation environment \n",
    "    obs, reward, done, info = env.step(action)\n",
    "\n",
    "    # display environment as RGB\n",
    "    plt.imshow(env.render(mode='rgb_array'))\n",
    "    display.display(plt.gcf())\n",
    "    display.clear_output(wait=True)\n",
    "    time.sleep(0.025)"
   ]
  },
  {
   "cell_type": "code",
   "execution_count": null,
   "id": "6f1297e5-b221-49d7-ba51-361b860e22b4",
   "metadata": {},
   "outputs": [],
   "source": []
  }
 ],
 "metadata": {
  "kernelspec": {
   "name": "python3",
   "language": "python",
   "display_name": "Python 3 (ipykernel)"
  },
  "language_info": {
   "codemirror_mode": {
    "name": "ipython",
    "version": 3
   },
   "file_extension": ".py",
   "mimetype": "text/x-python",
   "name": "python",
   "nbconvert_exporter": "python",
   "pygments_lexer": "ipython3",
   "version": "3.8.12"
  }
 },
 "nbformat": 4,
 "nbformat_minor": 5
}